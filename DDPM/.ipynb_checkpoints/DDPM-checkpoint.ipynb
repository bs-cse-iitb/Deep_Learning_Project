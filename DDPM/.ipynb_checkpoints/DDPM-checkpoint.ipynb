{
 "cells": [
  {
   "cell_type": "code",
   "execution_count": 274,
   "id": "071cf756",
   "metadata": {},
   "outputs": [],
   "source": [
    "import torch\n",
    "import torch.nn as nn\n",
    "import numpy as np\n",
    "import matplotlib.pyplot as plt\n",
    "from torch import optim"
   ]
  },
  {
   "cell_type": "code",
   "execution_count": 275,
   "id": "7a11849e",
   "metadata": {},
   "outputs": [],
   "source": [
    "def get_data(num_points=100, shape='8'):\n",
    "\n",
    "    if shape == '8':\n",
    "        # Generate a dataset in the shape of \"8\"\n",
    "        t = np.linspace(0, 2 * np.pi, num_points)\n",
    "        x = np.sin(t)\n",
    "        y = np.sin(t) * np.cos(t)\n",
    "\n",
    "        # Add some noise to the data\n",
    "        noise = 0.01 * np.random.randn(len(t))\n",
    "        x += noise\n",
    "        y += noise\n",
    "        \n",
    "    elif shape=='flower':\n",
    "        \n",
    "        # Create a flower-like dataset\n",
    "        theta = np.linspace(0, 2*np.pi, num_points)\n",
    "        r = np.sin(5*theta) + 0.2 * np.random.rand(len(theta))\n",
    "\n",
    "        x = r * np.cos(theta)\n",
    "        y = r * np.sin(theta)\n",
    "        \n",
    "        \n",
    "    # Convert the NumPy arrays to Torch tensors and stack them horizontally\n",
    "    data = torch.tensor([x, y], dtype=torch.float32)\n",
    "    \n",
    "    return data.T\n",
    "\n",
    "\n",
    "\n",
    "def visualise_mainfold(data):\n",
    "    \n",
    "    # Plot the dataset\n",
    "    x = data[:, 0]\n",
    "    y = data[:, 1]\n",
    "    plt.grid()\n",
    "    plt.scatter(x, y, marker='.', c='crimson')\n",
    "    plt.title('2D Dataset Mainfold Visualised')\n",
    "    plt.xlabel('x1')\n",
    "    plt.ylabel('x2')\n",
    "    plt.axis('equal')  \n",
    "    plt.show()"
   ]
  },
  {
   "cell_type": "code",
   "execution_count": 297,
   "id": "fb4adcfb",
   "metadata": {},
   "outputs": [
    {
     "data": {
      "image/png": "[encoded data removed]",
      "text/plain": [
       "<Figure size 432x288 with 1 Axes>"
      ]
     },
     "metadata": {
      "needs_background": "light"
     },
     "output_type": "display_data"
    }
   ],
   "source": [
    "data = get_data(num_points=1000, shape='flower')\n",
    "visualise_mainfold(data)"
   ]
  },
  {
   "cell_type": "code",
   "execution_count": 298,
   "id": "a28256e4",
   "metadata": {},
   "outputs": [],
   "source": [
    "def generate_new_samples(num_samples, T, alpha_bar, net, input_dim=2):\n",
    "\n",
    "    # Start with noise\n",
    "    X_T = torch.randn((num_samples,input_dim))\n",
    "    # Initiate a vector of all T's for the batch \n",
    "    T_vec =  torch.full((num_samples, 1), T)\n",
    "\n",
    "    # Output by reverse process\n",
    "    out = X_T - net(X_T, T_vec)*(torch.sqrt(1-alpha_bar[T_vec]))\n",
    "    out = out/torch.sqrt(alpha_bar[T]) \n",
    "    \n",
    "    return out"
   ]
  },
  {
   "cell_type": "code",
   "execution_count": null,
   "id": "246696ab",
   "metadata": {},
   "outputs": [],
   "source": []
  },
  {
   "cell_type": "code",
   "execution_count": null,
   "id": "c5206e56",
   "metadata": {},
   "outputs": [],
   "source": []
  },
  {
   "cell_type": "code",
   "execution_count": 331,
   "id": "21b162e9",
   "metadata": {},
   "outputs": [],
   "source": [
    "class EpsNet(nn.Module):\n",
    "    def __init__(self,input_dim=5):\n",
    "        super().__init__()\n",
    "        self.layer_1 = nn.Linear(in_features=input_dim, out_features=16)\n",
    "        self.layer_2 = nn.Linear(16,64)\n",
    "        self.layer_3 = nn.Linear(64,2)\n",
    "        self.relu = nn.Tanh()\n",
    "        \n",
    "    def forward(self, X, t, T=100):\n",
    "        \n",
    "        t = torch.cat(((t/T)**0.5,t/T,(t/T)**2),-1)\n",
    "        X = torch.cat((X,t), -1)\n",
    "        \n",
    "        out = self.layer_1(X)\n",
    "        out = self.relu(out)\n",
    "        out = self.layer_2(out)\n",
    "        out = self.relu(out)\n",
    "        out = self.layer_3(out)\n",
    "        \n",
    "        return out"
   ]
  },
  {
   "cell_type": "markdown",
   "id": "1011d50f",
   "metadata": {},
   "source": [
    "### Training Begins"
   ]
  },
  {
   "cell_type": "code",
   "execution_count": 332,
   "id": "a6633b35",
   "metadata": {},
   "outputs": [],
   "source": [
    "model = EpsNet()\n",
    "criterion = nn.MSELoss()\n",
    "optimizer = optim.Adam(model.parameters(), lr=0.01)"
   ]
  },
  {
   "cell_type": "code",
   "execution_count": 333,
   "id": "6cb8b1a0",
   "metadata": {},
   "outputs": [],
   "source": [
    "beta = torch.linspace(0.0,.999,T+1)\n",
    "alpha = 1-beta\n",
    "sigma = torch.sqrt(beta)\n",
    "alpha_bar = torch.cumprod(alpha, dim=0) # cumlative product"
   ]
  },
  {
   "cell_type": "code",
   "execution_count": null,
   "id": "de22e84b",
   "metadata": {},
   "outputs": [],
   "source": []
  },
  {
   "cell_type": "code",
   "execution_count": null,
   "id": "845e83e1",
   "metadata": {},
   "outputs": [],
   "source": []
  },
  {
   "cell_type": "code",
   "execution_count": 334,
   "id": "7049288f",
   "metadata": {},
   "outputs": [],
   "source": [
    "T =100  # T is number of diffusion steps\n",
    "input_dim = data.shape[1]# the dimeinsions of input samples\n",
    "batch_size = 50\n",
    "num_epochs = 300\n",
    "\n",
    "num_batches = len(data)//batch_size"
   ]
  },
  {
   "cell_type": "code",
   "execution_count": 335,
   "id": "4c789915",
   "metadata": {},
   "outputs": [
    {
     "data": {
      "text/plain": [
       "20"
      ]
     },
     "execution_count": 335,
     "metadata": {},
     "output_type": "execute_result"
    }
   ],
   "source": [
    "num_batches"
   ]
  },
  {
   "cell_type": "code",
   "execution_count": 336,
   "id": "978d0482",
   "metadata": {
    "scrolled": false
   },
   "outputs": [
    {
     "name": "stdout",
     "output_type": "stream",
     "text": [
      "epoch10-----0.10960140824317932\n",
      "epoch20-----0.09459871053695679\n",
      "epoch30-----0.05871788412332535\n",
      "epoch40-----0.05800533667206764\n",
      "epoch50-----0.08245942741632462\n",
      "epoch60-----0.07696378231048584\n",
      "epoch70-----0.10402681678533554\n",
      "epoch80-----0.07661028951406479\n",
      "epoch90-----0.03668580576777458\n",
      "epoch100-----0.10543591529130936\n",
      "epoch110-----0.1739138662815094\n",
      "epoch120-----0.09860575944185257\n",
      "epoch130-----0.07835564017295837\n",
      "epoch140-----0.02410397119820118\n",
      "epoch150-----0.08716866374015808\n",
      "epoch160-----0.059760045260190964\n",
      "epoch170-----0.06535264849662781\n",
      "epoch180-----0.05456015095114708\n",
      "epoch190-----0.09690164774656296\n",
      "epoch200-----0.10353010892868042\n",
      "epoch210-----0.05925491824746132\n",
      "epoch220-----0.009288345463573933\n",
      "epoch230-----0.03616314008831978\n",
      "epoch240-----0.0850074514746666\n",
      "epoch250-----0.04577353969216347\n",
      "epoch260-----0.0326378308236599\n",
      "epoch270-----0.08156470954418182\n",
      "epoch280-----0.0810193344950676\n",
      "epoch290-----0.06716058403253555\n",
      "epoch300-----0.06779716163873672\n"
     ]
    }
   ],
   "source": [
    "# sample batch \n",
    "for epoch in range(1,num_epochs+1):\n",
    "    for batch in range(1,num_batches+1):\n",
    "        random_indices = np.random.choice(len(data), batch_size, replace=False)\n",
    "        X = data[random_indices]\n",
    "\n",
    "        t = torch.randint(1,T+1,size = [batch_size,1])\n",
    "\n",
    "        noise = torch.randn((batch_size,input_dim))\n",
    "\n",
    "        X_t = torch.sqrt(alpha_bar[t])*X + torch.sqrt(1-alpha_bar[t])*noise\n",
    "\n",
    "        # 1. forward pass\n",
    "        y_pred = model(X_t,t)\n",
    "\n",
    "        # 2. loss calculation\n",
    "        loss = criterion(y_pred,noise)\n",
    "\n",
    "        # 3. Clear up the gradients\n",
    "        optimizer.zero_grad()\n",
    "\n",
    "        # 4. back propagations\n",
    "        loss.backward()\n",
    "\n",
    "        # 5. gradient descents\n",
    "        optimizer.step()\n",
    "\n",
    "        #print(f\"Batch{batch}-----{loss.item()}\")\n",
    "    if epoch%10==0:\n",
    "        print(f\"epoch{epoch}-----{loss.item()}\")"
   ]
  },
  {
   "cell_type": "code",
   "execution_count": 337,
   "id": "153bab3f",
   "metadata": {},
   "outputs": [],
   "source": [
    "X_gen = generate_new_samples(num_samples=2000, T=T, alpha_bar=alpha_bar, net = model, input_dim=2)"
   ]
  },
  {
   "cell_type": "code",
   "execution_count": 338,
   "id": "b79dd476",
   "metadata": {},
   "outputs": [
    {
     "data": {
      "image/png": "[encoded data removed]",
      "text/plain": [
       "<Figure size 432x288 with 1 Axes>"
      ]
     },
     "metadata": {
      "needs_background": "light"
     },
     "output_type": "display_data"
    }
   ],
   "source": [
    "visualise_mainfold(X_gen.detach())"
   ]
  },
  {
   "cell_type": "code",
   "execution_count": null,
   "id": "80de6878",
   "metadata": {},
   "outputs": [],
   "source": []
  },
  {
   "cell_type": "code",
   "execution_count": null,
   "id": "71511a14",
   "metadata": {},
   "outputs": [],
   "source": []
  },
  {
   "cell_type": "code",
   "execution_count": 257,
   "id": "a1bd8889",
   "metadata": {},
   "outputs": [
    {
     "name": "stdout",
     "output_type": "stream",
     "text": [
      "1.783585786819458\n"
     ]
    }
   ],
   "source": [
    "# sample batch \n",
    "random_indices = np.random.choice(len(data), batch_size, replace=False)\n",
    "X = data[random_indices]\n",
    "\n",
    "t = torch.randint(1,T+1,size = [batch_size,1])\n",
    "\n",
    "noise = torch.randn((batch_size,input_dim))\n",
    "\n",
    "X_t = torch.sqrt(alpha_bar[t])*X + torch.sqrt(1-alpha_bar[t])*noise\n",
    "\n",
    "X_t.dtype\n",
    "\n",
    "# 1. forward pass\n",
    "y_pred = model(X_t,t)\n",
    "\n",
    "# 2. loss calculation\n",
    "loss = criterion(y_pred,noise)\n",
    "\n",
    "# 3. Clear up the gradients\n",
    "optimizer.zero_grad()\n",
    "\n",
    "# 4. back propagations\n",
    "loss.backward()\n",
    "\n",
    "# 5. gradient descents\n",
    "optimizer.step()\n",
    "\n",
    "print(loss.item())"
   ]
  },
  {
   "cell_type": "code",
   "execution_count": null,
   "id": "23d41130",
   "metadata": {},
   "outputs": [],
   "source": []
  }
 ],
 "metadata": {
  "kernelspec": {
   "display_name": "Python 3 (ipykernel)",
   "language": "python",
   "name": "python3"
  },
  "language_info": {
   "codemirror_mode": {
    "name": "ipython",
    "version": 3
   },
   "file_extension": ".py",
   "mimetype": "text/x-python",
   "name": "python",
   "nbconvert_exporter": "python",
   "pygments_lexer": "ipython3",
   "version": "3.9.12"
  }
 },
 "nbformat": 4,
 "nbformat_minor": 5
}
