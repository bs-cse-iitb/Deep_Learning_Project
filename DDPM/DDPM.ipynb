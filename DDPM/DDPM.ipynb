{
 "cells": [
  {
   "cell_type": "code",
   "execution_count": 198,
   "id": "071cf756",
   "metadata": {},
   "outputs": [],
   "source": [
    "import torch\n",
    "import torch.nn as nn\n",
    "import numpy as np\n",
    "import matplotlib.pyplot as plt\n",
    "from torch import optim"
   ]
  },
  {
   "cell_type": "code",
   "execution_count": 213,
   "id": "7a11849e",
   "metadata": {},
   "outputs": [],
   "source": [
    "def get_data(num_points=100, shape='8'):\n",
    "\n",
    "    if shape == '8':\n",
    "        # Generate a dataset in the shape of \"8\"\n",
    "        t = np.linspace(0, 2 * np.pi, num_points)\n",
    "        x = np.sin(t)\n",
    "        y = np.sin(t) * np.cos(t)\n",
    "\n",
    "        # Add some noise to the data\n",
    "        noise = 0.01 * np.random.randn(len(t))\n",
    "        x += noise\n",
    "        y += noise\n",
    "        \n",
    "    elif shape=='flower':\n",
    "        \n",
    "        # Create a flower-like dataset\n",
    "        theta = np.linspace(0, 2*np.pi, num_points)\n",
    "        r = np.sin(5*theta) + 0.2 * np.random.rand(len(theta))\n",
    "\n",
    "        x = r * np.cos(theta)\n",
    "        y = r * np.sin(theta)\n",
    "        \n",
    "        \n",
    "    # Convert the NumPy arrays to Torch tensors and stack them horizontally\n",
    "    data = torch.tensor([x, y], dtype=torch.float32)\n",
    "    \n",
    "    return data.T\n",
    "\n",
    "\n",
    "\n",
    "def visualise_mainfold(data):\n",
    "    \n",
    "    # Plot the dataset\n",
    "    x = data[:, 0]\n",
    "    y = data[:, 1]\n",
    "    plt.grid()\n",
    "    plt.scatter(x, y, marker='.', c='crimson')\n",
    "    plt.title('2D Dataset Mainfold Visualised')\n",
    "    plt.xlabel('x1')\n",
    "    plt.ylabel('x2')\n",
    "    plt.axis('equal')  \n",
    "    plt.show()"
   ]
  },
  {
   "cell_type": "code",
   "execution_count": 214,
   "id": "fb4adcfb",
   "metadata": {},
   "outputs": [
    {
     "data": {
      "image/png": "[encoded data removed]",
      "text/plain": [
       "<Figure size 432x288 with 1 Axes>"
      ]
     },
     "metadata": {
      "needs_background": "light"
     },
     "output_type": "display_data"
    }
   ],
   "source": [
    "data = get_data(num_points=1000, shape='8')\n",
    "visualise_mainfold(data)"
   ]
  },
  {
   "cell_type": "code",
   "execution_count": null,
   "id": "246696ab",
   "metadata": {},
   "outputs": [],
   "source": []
  },
  {
   "cell_type": "code",
   "execution_count": null,
   "id": "c5206e56",
   "metadata": {},
   "outputs": [],
   "source": []
  },
  {
   "cell_type": "code",
   "execution_count": 216,
   "id": "21b162e9",
   "metadata": {},
   "outputs": [],
   "source": [
    "class EpsNet(nn.Module):\n",
    "    def __init__(self,input_dim=5):\n",
    "        super().__init__()\n",
    "        self.layer_1 = nn.Linear(in_features=input_dim, out_features=16)\n",
    "        self.layer_2 = nn.Linear(16,64)\n",
    "        self.layer_3 = nn.Linear(64,2)\n",
    "        self.relu = nn.ReLU()\n",
    "        \n",
    "    def forward(self, X, t, T=100):\n",
    "        \n",
    "        t = torch.cat(((t/T)**0.5,t/T,(t/T)**2),-1)\n",
    "        X = torch.cat((X,t), -1)\n",
    "        \n",
    "        out = self.layer_1(X)\n",
    "        out = self.relu(out)\n",
    "        out = self.layer_2(out)\n",
    "        out = self.relu(out)\n",
    "        out = self.layer_3(out)\n",
    "        \n",
    "        return out"
   ]
  },
  {
   "cell_type": "markdown",
   "id": "1011d50f",
   "metadata": {},
   "source": [
    "### Training Begins"
   ]
  },
  {
   "cell_type": "code",
   "execution_count": 217,
   "id": "a6633b35",
   "metadata": {},
   "outputs": [],
   "source": [
    "model = EpsNet()\n",
    "criterion = nn.MSELoss()\n",
    "optimizer = optim.Adam(model.parameters(), lr=0.001)"
   ]
  },
  {
   "cell_type": "code",
   "execution_count": 218,
   "id": "6cb8b1a0",
   "metadata": {},
   "outputs": [],
   "source": [
    "beta = torch.linspace(0.0,.999,T+1)\n",
    "alpha = 1-beta\n",
    "sigma = torch.sqrt(beta)\n",
    "alpha_bar = torch.cumprod(alpha, dim=0) # cumlative product"
   ]
  },
  {
   "cell_type": "code",
   "execution_count": null,
   "id": "de22e84b",
   "metadata": {},
   "outputs": [],
   "source": []
  },
  {
   "cell_type": "code",
   "execution_count": null,
   "id": "845e83e1",
   "metadata": {},
   "outputs": [],
   "source": []
  },
  {
   "cell_type": "code",
   "execution_count": 271,
   "id": "7049288f",
   "metadata": {},
   "outputs": [],
   "source": [
    "T =100  # T is number of diffusion steps\n",
    "input_dim = data.shape[1]# the dimeinsions of input samples\n",
    "batch_size = 50\n",
    "num_epochs = 30\n",
    "num_batches = 20"
   ]
  },
  {
   "cell_type": "code",
   "execution_count": 273,
   "id": "978d0482",
   "metadata": {
    "scrolled": false
   },
   "outputs": [
    {
     "name": "stdout",
     "output_type": "stream",
     "text": [
      "epoch1-----0.07563094794750214\n",
      "epoch2-----0.103034608066082\n",
      "epoch3-----0.1268802434206009\n",
      "epoch4-----0.08052055537700653\n",
      "epoch5-----0.056065548211336136\n",
      "epoch6-----0.015401329845190048\n",
      "epoch7-----0.019337672740221024\n",
      "epoch8-----0.026644479483366013\n",
      "epoch9-----0.09110832959413528\n",
      "epoch10-----0.09971380978822708\n",
      "epoch11-----0.053595803678035736\n",
      "epoch12-----0.19108551740646362\n",
      "epoch13-----0.028817620128393173\n",
      "epoch14-----0.10535898804664612\n",
      "epoch15-----0.01721441000699997\n",
      "epoch16-----0.04525355249643326\n",
      "epoch17-----0.05300683155655861\n",
      "epoch18-----0.10354562103748322\n",
      "epoch19-----0.0451238714158535\n",
      "epoch20-----0.03564571589231491\n",
      "epoch21-----0.03074975498020649\n",
      "epoch22-----0.06534972041845322\n",
      "epoch23-----0.11483689397573471\n",
      "epoch24-----0.08048322051763535\n",
      "epoch25-----0.0784773975610733\n",
      "epoch26-----0.18488256633281708\n",
      "epoch27-----0.029294496402144432\n",
      "epoch28-----0.033411700278520584\n",
      "epoch29-----0.06829198449850082\n",
      "epoch30-----0.03669382259249687\n"
     ]
    }
   ],
   "source": [
    "# sample batch \n",
    "for epoch in range(1,num_epochs+1):\n",
    "    for batch in range(1,num_batches+1):\n",
    "        random_indices = np.random.choice(len(data), batch_size, replace=False)\n",
    "        X = data[random_indices]\n",
    "\n",
    "        t = torch.randint(1,T+1,size = [batch_size,1])\n",
    "\n",
    "        noise = torch.randn((batch_size,input_dim))\n",
    "\n",
    "        X_t = torch.sqrt(alpha_bar[t])*X + torch.sqrt(1-alpha_bar[t])*noise\n",
    "\n",
    "        X_t.dtype\n",
    "\n",
    "        # 1. forward pass\n",
    "        y_pred = model(X_t,t)\n",
    "\n",
    "        # 2. loss calculation\n",
    "        loss = criterion(y_pred,noise)\n",
    "\n",
    "        # 3. Clear up the gradients\n",
    "        optimizer.zero_grad()\n",
    "\n",
    "        # 4. back propagations\n",
    "        loss.backward()\n",
    "\n",
    "        # 5. gradient descents\n",
    "        optimizer.step()\n",
    "\n",
    "        #print(f\"Batch{batch}-----{loss.item()}\")\n",
    "    print(f\"epoch{epoch}-----{loss.item()}\")"
   ]
  },
  {
   "cell_type": "code",
   "execution_count": null,
   "id": "153bab3f",
   "metadata": {},
   "outputs": [],
   "source": []
  },
  {
   "cell_type": "code",
   "execution_count": null,
   "id": "be55f5cf",
   "metadata": {},
   "outputs": [],
   "source": []
  },
  {
   "cell_type": "code",
   "execution_count": null,
   "id": "b79dd476",
   "metadata": {},
   "outputs": [],
   "source": []
  },
  {
   "cell_type": "code",
   "execution_count": null,
   "id": "80de6878",
   "metadata": {},
   "outputs": [],
   "source": []
  },
  {
   "cell_type": "code",
   "execution_count": null,
   "id": "71511a14",
   "metadata": {},
   "outputs": [],
   "source": []
  },
  {
   "cell_type": "code",
   "execution_count": 257,
   "id": "a1bd8889",
   "metadata": {},
   "outputs": [
    {
     "name": "stdout",
     "output_type": "stream",
     "text": [
      "1.783585786819458\n"
     ]
    }
   ],
   "source": [
    "# sample batch \n",
    "random_indices = np.random.choice(len(data), batch_size, replace=False)\n",
    "X = data[random_indices]\n",
    "\n",
    "t = torch.randint(1,T+1,size = [batch_size,1])\n",
    "\n",
    "noise = torch.randn((batch_size,input_dim))\n",
    "\n",
    "X_t = torch.sqrt(alpha_bar[t])*X + torch.sqrt(1-alpha_bar[t])*noise\n",
    "\n",
    "X_t.dtype\n",
    "\n",
    "# 1. forward pass\n",
    "y_pred = model(X_t,t)\n",
    "\n",
    "# 2. loss calculation\n",
    "loss = criterion(y_pred,noise)\n",
    "\n",
    "# 3. Clear up the gradients\n",
    "optimizer.zero_grad()\n",
    "\n",
    "# 4. back propagations\n",
    "loss.backward()\n",
    "\n",
    "# 5. gradient descents\n",
    "optimizer.step()\n",
    "\n",
    "print(loss.item())"
   ]
  },
  {
   "cell_type": "code",
   "execution_count": null,
   "id": "23d41130",
   "metadata": {},
   "outputs": [],
   "source": []
  }
 ],
 "metadata": {
  "kernelspec": {
   "display_name": "Python 3 (ipykernel)",
   "language": "python",
   "name": "python3"
  },
  "language_info": {
   "codemirror_mode": {
    "name": "ipython",
    "version": 3
   },
   "file_extension": ".py",
   "mimetype": "text/x-python",
   "name": "python",
   "nbconvert_exporter": "python",
   "pygments_lexer": "ipython3",
   "version": "3.9.12"
  }
 },
 "nbformat": 4,
 "nbformat_minor": 5
}
