{
 "cells": [
  {
   "cell_type": "code",
   "execution_count": 1,
   "id": "4217a6e6",
   "metadata": {},
   "outputs": [],
   "source": [
    "# CALL FROM TERMINAL\n",
    "\n",
    "# cd codes/utils/\n",
    "# python img2feat_decoded.py --gpu 0 --subject subj01 --method cvpr"
   ]
  },
  {
   "cell_type": "markdown",
   "id": "4eaf29fd",
   "metadata": {},
   "source": [
    "# IMPORTS"
   ]
  },
  {
   "cell_type": "code",
   "execution_count": 2,
   "id": "5ba8da69",
   "metadata": {},
   "outputs": [
    {
     "name": "stderr",
     "output_type": "stream",
     "text": [
      "/home/aditya/anaconda3/envs/ldm/lib/python3.8/site-packages/tqdm/auto.py:21: TqdmWarning: IProgress not found. Please update jupyter and ipywidgets. See https://ipywidgets.readthedocs.io/en/stable/user_install.html\n",
      "  from .autonotebook import tqdm as notebook_tqdm\n"
     ]
    }
   ],
   "source": [
    "import argparse, os, sys, glob\n",
    "from PIL import Image\n",
    "import torch\n",
    "from transformers import CLIPProcessor, CLIPModel\n",
    "import numpy as np\n",
    "import torchvision\n",
    "from torchvision import transforms\n",
    "from tqdm import tqdm"
   ]
  },
  {
   "cell_type": "markdown",
   "id": "d60178e2",
   "metadata": {},
   "source": [
    "# SETUP"
   ]
  },
  {
   "cell_type": "code",
   "execution_count": 18,
   "id": "edc1162c",
   "metadata": {},
   "outputs": [],
   "source": [
    "gpu=0\n",
    "subject = 'subj01'\n",
    "method = 'cvpr'\n",
    "\n",
    "# Parameters\n",
    "torch.cuda.set_device(gpu)\n",
    "device = torch.device(f\"cuda:{gpu}\" if torch.cuda.is_available() else \"cpu\")"
   ]
  },
  {
   "cell_type": "markdown",
   "id": "25ca66be",
   "metadata": {},
   "source": [
    "# SETUP"
   ]
  },
  {
   "cell_type": "code",
   "execution_count": 26,
   "id": "67a109e1",
   "metadata": {},
   "outputs": [],
   "source": [
    "image_model =  'netdecoded'     # Options : 'paper', 'lasso', 'net', 'netdecoded' \n",
    "\n",
    "if image_model == 'paper':\n",
    "    imglist = sorted(glob.glob(f'../../decoded/all_generated_images/image-{method}/{subject}/samples/*'))\n",
    "    outdir = f'../../identification/paper/{method}/{subject}/'\n",
    "    \n",
    "elif image_model == 'lasso':\n",
    "    imglist = sorted(glob.glob(f'../../decoded/lasso_images/image-{method}/{subject}/samples/*'))\n",
    "    outdir = f'../../identification/lasso/{method}/{subject}/'\n",
    "    \n",
    "elif image_model == 'net':\n",
    "    imglist = sorted(glob.glob(f'../../decoded/net_images/image-{method}/{subject}/samples/*'))\n",
    "    outdir = f'../../identification/net/{method}/{subject}/'\n",
    "    \n",
    "elif image_model == 'netdecoded':\n",
    "    imglist = sorted(glob.glob(f'../../decoded/netdecoded_images/image-{method}/{subject}/samples/*'))\n",
    "    outdir = f'../../identification/netdecoded/{method}/{subject}/'\n",
    "\n",
    "# TEST ON 500 6/image\n",
    "imglist = imglist[:3000]\n",
    "    \n",
    "os.makedirs(outdir, exist_ok=True)"
   ]
  },
  {
   "cell_type": "markdown",
   "id": "acbd3356",
   "metadata": {},
   "source": [
    "# LOAD MODELS"
   ]
  },
  {
   "cell_type": "code",
   "execution_count": 20,
   "id": "64f1a626",
   "metadata": {},
   "outputs": [],
   "source": [
    "# Load Models \n",
    "# Inception V3\n",
    "preprocess = transforms.Compose([\n",
    "    transforms.Resize(299),\n",
    "    transforms.CenterCrop(299),\n",
    "    transforms.ToTensor(),\n",
    "    transforms.Normalize(mean=[0.485, 0.456, 0.406], std=[0.229, 0.224, 0.225]),\n",
    "])\n",
    "model_inception = torchvision.models.inception_v3(pretrained=True)\n",
    "model_inception.eval()\n",
    "model_inception.to(device)\n",
    "model_inception = torchvision.models.feature_extraction.create_feature_extractor(model_inception, {'flatten':'flatten'})\n",
    "\n",
    "# AlexNet\n",
    "model_alexnet = torchvision.models.alexnet(pretrained=True)\n",
    "model_alexnet.eval()\n",
    "model_alexnet.to(device)\n",
    "model_alexnet = torchvision.models.feature_extraction.create_feature_extractor(model_alexnet,{'features.5':'features.5',\n",
    "                                                                                              'features.12':'features.12',\n",
    "                                                                                              'classifier.5':'classifier.5'})\n",
    "\n",
    "# CLIP\n",
    "model_clip = CLIPModel.from_pretrained(\"openai/clip-vit-large-patch14\")\n",
    "model_clip.to(device)\n",
    "processor_clip = CLIPProcessor.from_pretrained(\"openai/clip-vit-large-patch14\")"
   ]
  },
  {
   "cell_type": "code",
   "execution_count": 27,
   "id": "8ce1dd86",
   "metadata": {},
   "outputs": [
    {
     "data": {
      "text/plain": [
       "3000"
      ]
     },
     "execution_count": 27,
     "metadata": {},
     "output_type": "execute_result"
    }
   ],
   "source": [
    "len(imglist)"
   ]
  },
  {
   "cell_type": "code",
   "execution_count": 28,
   "id": "5a3d88b0",
   "metadata": {},
   "outputs": [
    {
     "name": "stdout",
     "output_type": "stream",
     "text": [
      "Now processing start for : cvpr\n"
     ]
    },
    {
     "name": "stderr",
     "output_type": "stream",
     "text": [
      "100%|███████████████████████████████████████| 3000/3000 [03:03<00:00, 16.32it/s]\n"
     ]
    }
   ],
   "source": [
    "print(f\"Now processing start for : {method}\")\n",
    "for img in tqdm(imglist):\n",
    "    imgname = img.split('/')[-1].split('.')[0]\n",
    "    #print(img)\n",
    "    image = Image.open(img)\n",
    "\n",
    "    # Inception\n",
    "    input_tensor = preprocess(image)\n",
    "    input_batch = input_tensor.unsqueeze(0)\n",
    "    input_batch = input_batch.to(device)\n",
    "    with torch.no_grad():\n",
    "        feat = model_inception(input_batch)\n",
    "    feat_inception = feat['flatten'].cpu().detach().numpy().copy()    \n",
    "\n",
    "    # AlexNet\n",
    "    with torch.no_grad():\n",
    "        feat = model_alexnet(input_batch)\n",
    "    feat_alexnet5 = feat['features.5'].flatten().cpu().detach().numpy().copy()    \n",
    "    feat_alexnet12 = feat['features.12'].flatten().cpu().detach().numpy().copy()    \n",
    "    feat_alexnet18 = feat['classifier.5'].flatten().cpu().detach().numpy().copy()    \n",
    "\n",
    "    # CLIP\n",
    "    inputs = processor_clip(text=\"\",images=image, return_tensors=\"pt\").to(device)\n",
    "    outputs = model_clip(**inputs,output_hidden_states=True)\n",
    "    feat_clip = outputs.image_embeds.cpu().detach().numpy().copy()\n",
    "    feat_clip_h6 = outputs.vision_model_output.hidden_states[6].flatten().cpu().detach().numpy().copy()\n",
    "    feat_clip_h12 = outputs.vision_model_output.hidden_states[12].flatten().cpu().detach().numpy().copy()\n",
    "\n",
    "    # SAVE\n",
    "    fname = f'{outdir}/{imgname}'\n",
    "    np.save(f'{fname}_inception.npy',feat_inception)\n",
    "    np.save(f'{fname}_alexnet5.npy',feat_alexnet5)\n",
    "    np.save(f'{fname}_alexnet12.npy',feat_alexnet12)\n",
    "    np.save(f'{fname}_alexnet18.npy',feat_alexnet18)\n",
    "    #np.save(f'{fname}_clip.npy',feat_clip)\n",
    "    #np.save(f'{fname}_clip_h6.npy',feat_clip_h6)\n",
    "    #np.save(f'{fname}_clip_h12.npy',feat_clip_h12)\n",
    "    \n",
    "    "
   ]
  },
  {
   "cell_type": "code",
   "execution_count": null,
   "id": "ce0f97c8",
   "metadata": {},
   "outputs": [],
   "source": []
  },
  {
   "cell_type": "code",
   "execution_count": null,
   "id": "c990475d",
   "metadata": {},
   "outputs": [],
   "source": []
  }
 ],
 "metadata": {
  "kernelspec": {
   "display_name": "Python-LDM",
   "language": "python",
   "name": "ldm"
  },
  "language_info": {
   "codemirror_mode": {
    "name": "ipython",
    "version": 3
   },
   "file_extension": ".py",
   "mimetype": "text/x-python",
   "name": "python",
   "nbconvert_exporter": "python",
   "pygments_lexer": "ipython3",
   "version": "3.8.5"
  }
 },
 "nbformat": 4,
 "nbformat_minor": 5
}
