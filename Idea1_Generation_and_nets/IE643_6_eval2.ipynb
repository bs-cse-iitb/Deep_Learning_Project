{
 "cells": [
  {
   "cell_type": "code",
   "execution_count": 1,
   "id": "0f03ecdb",
   "metadata": {},
   "outputs": [],
   "source": [
    "# CALL FROM TERMINAL\n",
    "\n",
    "# cd codes/utils/\n",
    "# python identification.py --usefeat inception --subject subj01 --method cvpr"
   ]
  },
  {
   "cell_type": "markdown",
   "id": "57cf9440",
   "metadata": {},
   "source": [
    "# Imports"
   ]
  },
  {
   "cell_type": "code",
   "execution_count": 7,
   "id": "29b6c06e",
   "metadata": {},
   "outputs": [],
   "source": [
    "import numpy as np\n",
    "from tqdm import tqdm"
   ]
  },
  {
   "cell_type": "markdown",
   "id": "e1a6962a",
   "metadata": {},
   "source": [
    "# Functions"
   ]
  },
  {
   "cell_type": "code",
   "execution_count": 8,
   "id": "4744a480",
   "metadata": {},
   "outputs": [],
   "source": [
    "def load_feat_org(imgid, subject, method, usefeat, image_model_folder):\n",
    "    \n",
    "    #featdir = f'../../identification/{method}/{subject}/'\n",
    "    featdir  = f'../../identification/' + image_model_folder + f'/{method}/{subject}'\n",
    "    feat = np.load(f'{featdir}/{imgid:05}_org_{usefeat}.npy').flatten().squeeze()\n",
    "    \n",
    "    #print(f\"Loaded Feature{f'{featdir}/{imgid:05}_org_{usefeat}.npy'}\")\n",
    "    return feat\n",
    "\n",
    "def load_feat_gen(imgid, subject, method, usefeat,image_model_folder):\n",
    "    \n",
    "    #featdir = f'../../identification/{method}/{subject}'\n",
    "    featdir  = f'../../identification/' + image_model_folder + f'/{method}/{subject}'\n",
    "    \n",
    "    nrep = 5\n",
    "\n",
    "    feats_gen = []\n",
    "    for rep in range(nrep):\n",
    "        feat_gen = np.load(f'{featdir}/{imgid:05}_{rep:03}_{usefeat}.npy').flatten().squeeze()\n",
    "        feats_gen.append(feat_gen)\n",
    "\n",
    "    return feats_gen"
   ]
  },
  {
   "cell_type": "markdown",
   "id": "10cfb380",
   "metadata": {},
   "source": [
    "# Model"
   ]
  },
  {
   "cell_type": "code",
   "execution_count": 9,
   "id": "f25bebde",
   "metadata": {},
   "outputs": [],
   "source": [
    "subject = 'subj01'\n",
    "method = 'cvpr'\n",
    "# nimage = 982   # no of images to test on\n",
    "#nimage = 499   # no of images to test on\n",
    "nimage = 50   # no of images to test on\n",
    "\n",
    "# image_model_folder =  'paper'     # Options : 'paper', 'lasso', 'net', 'netdecoded' "
   ]
  },
  {
   "cell_type": "markdown",
   "id": "a421cae6",
   "metadata": {},
   "source": [
    "# Accuracy Analysis"
   ]
  },
  {
   "cell_type": "code",
   "execution_count": 10,
   "id": "a771e1a6",
   "metadata": {
    "scrolled": false
   },
   "outputs": [
    {
     "name": "stdout",
     "output_type": "stream",
     "text": [
      "Now Loading all images......\n"
     ]
    },
    {
     "name": "stderr",
     "output_type": "stream",
     "text": [
      "100%|███████████████████████████████████████████| 50/50 [00:00<00:00, 84.68it/s]\n"
     ]
    },
    {
     "name": "stdout",
     "output_type": "stream",
     "text": [
      "Now Calculating similarity......\n"
     ]
    },
    {
     "name": "stderr",
     "output_type": "stream",
     "text": [
      "100%|███████████████████████████████████████████| 50/50 [00:05<00:00,  9.13it/s]\n"
     ]
    },
    {
     "name": "stdout",
     "output_type": "stream",
     "text": [
      "Now Calculating identification accuracy......\n"
     ]
    },
    {
     "name": "stderr",
     "output_type": "stream",
     "text": [
      "100%|█████████████████████████████████████████| 50/50 [00:00<00:00, 2904.20it/s]\n"
     ]
    },
    {
     "name": "stdout",
     "output_type": "stream",
     "text": [
      "\n",
      "\n",
      "Accuracy for Model : alexnet5\n",
      "subj01_alexnet5:\t ACC = 0.813 \n",
      "Now Loading all images......\n"
     ]
    },
    {
     "name": "stderr",
     "output_type": "stream",
     "text": [
      "100%|██████████████████████████████████████████| 50/50 [00:00<00:00, 226.37it/s]\n"
     ]
    },
    {
     "name": "stdout",
     "output_type": "stream",
     "text": [
      "Now Calculating similarity......\n"
     ]
    },
    {
     "name": "stderr",
     "output_type": "stream",
     "text": [
      "100%|███████████████████████████████████████████| 50/50 [00:00<00:00, 69.49it/s]\n"
     ]
    },
    {
     "name": "stdout",
     "output_type": "stream",
     "text": [
      "Now Calculating identification accuracy......\n"
     ]
    },
    {
     "name": "stderr",
     "output_type": "stream",
     "text": [
      "100%|█████████████████████████████████████████| 50/50 [00:00<00:00, 2765.56it/s]\n"
     ]
    },
    {
     "name": "stdout",
     "output_type": "stream",
     "text": [
      "\n",
      "\n",
      "Accuracy for Model : alexnet12\n",
      "subj01_alexnet12:\t ACC = 0.784 \n",
      "Now Loading all images......\n"
     ]
    },
    {
     "name": "stderr",
     "output_type": "stream",
     "text": [
      "100%|██████████████████████████████████████████| 50/50 [00:00<00:00, 295.10it/s]\n"
     ]
    },
    {
     "name": "stdout",
     "output_type": "stream",
     "text": [
      "Now Calculating similarity......\n"
     ]
    },
    {
     "name": "stderr",
     "output_type": "stream",
     "text": [
      "100%|██████████████████████████████████████████| 50/50 [00:00<00:00, 110.05it/s]\n"
     ]
    },
    {
     "name": "stdout",
     "output_type": "stream",
     "text": [
      "Now Calculating identification accuracy......\n"
     ]
    },
    {
     "name": "stderr",
     "output_type": "stream",
     "text": [
      "100%|█████████████████████████████████████████| 50/50 [00:00<00:00, 2935.67it/s]\n"
     ]
    },
    {
     "name": "stdout",
     "output_type": "stream",
     "text": [
      "\n",
      "\n",
      "Accuracy for Model : alexnet18\n",
      "subj01_alexnet18:\t ACC = 0.76 \n",
      "Now Loading all images......\n"
     ]
    },
    {
     "name": "stderr",
     "output_type": "stream",
     "text": [
      "100%|██████████████████████████████████████████| 50/50 [00:00<00:00, 148.08it/s]\n"
     ]
    },
    {
     "name": "stdout",
     "output_type": "stream",
     "text": [
      "Now Calculating similarity......\n"
     ]
    },
    {
     "name": "stderr",
     "output_type": "stream",
     "text": [
      "100%|███████████████████████████████████████████| 50/50 [00:05<00:00,  9.21it/s]\n"
     ]
    },
    {
     "name": "stdout",
     "output_type": "stream",
     "text": [
      "Now Calculating identification accuracy......\n"
     ]
    },
    {
     "name": "stderr",
     "output_type": "stream",
     "text": [
      "100%|█████████████████████████████████████████| 50/50 [00:00<00:00, 2539.63it/s]\n"
     ]
    },
    {
     "name": "stdout",
     "output_type": "stream",
     "text": [
      "\n",
      "\n",
      "Accuracy for Model : alexnet5\n",
      "subj01_alexnet5:\t ACC = 0.674 \n",
      "Now Loading all images......\n"
     ]
    },
    {
     "name": "stderr",
     "output_type": "stream",
     "text": [
      "100%|██████████████████████████████████████████| 50/50 [00:00<00:00, 235.66it/s]\n"
     ]
    },
    {
     "name": "stdout",
     "output_type": "stream",
     "text": [
      "Now Calculating similarity......\n"
     ]
    },
    {
     "name": "stderr",
     "output_type": "stream",
     "text": [
      "100%|███████████████████████████████████████████| 50/50 [00:00<00:00, 68.93it/s]\n"
     ]
    },
    {
     "name": "stdout",
     "output_type": "stream",
     "text": [
      "Now Calculating identification accuracy......\n"
     ]
    },
    {
     "name": "stderr",
     "output_type": "stream",
     "text": [
      "100%|█████████████████████████████████████████| 50/50 [00:00<00:00, 2875.53it/s]\n"
     ]
    },
    {
     "name": "stdout",
     "output_type": "stream",
     "text": [
      "\n",
      "\n",
      "Accuracy for Model : alexnet12\n",
      "subj01_alexnet12:\t ACC = 0.693 \n",
      "Now Loading all images......\n"
     ]
    },
    {
     "name": "stderr",
     "output_type": "stream",
     "text": [
      "100%|██████████████████████████████████████████| 50/50 [00:00<00:00, 299.23it/s]\n"
     ]
    },
    {
     "name": "stdout",
     "output_type": "stream",
     "text": [
      "Now Calculating similarity......\n"
     ]
    },
    {
     "name": "stderr",
     "output_type": "stream",
     "text": [
      "100%|██████████████████████████████████████████| 50/50 [00:00<00:00, 113.16it/s]\n"
     ]
    },
    {
     "name": "stdout",
     "output_type": "stream",
     "text": [
      "Now Calculating identification accuracy......\n"
     ]
    },
    {
     "name": "stderr",
     "output_type": "stream",
     "text": [
      "100%|█████████████████████████████████████████| 50/50 [00:00<00:00, 2852.92it/s]\n"
     ]
    },
    {
     "name": "stdout",
     "output_type": "stream",
     "text": [
      "\n",
      "\n",
      "Accuracy for Model : alexnet18\n",
      "subj01_alexnet18:\t ACC = 0.671 \n",
      "Now Loading all images......\n"
     ]
    },
    {
     "name": "stderr",
     "output_type": "stream",
     "text": [
      "100%|██████████████████████████████████████████| 50/50 [00:00<00:00, 156.51it/s]\n"
     ]
    },
    {
     "name": "stdout",
     "output_type": "stream",
     "text": [
      "Now Calculating similarity......\n"
     ]
    },
    {
     "name": "stderr",
     "output_type": "stream",
     "text": [
      "100%|███████████████████████████████████████████| 50/50 [00:05<00:00,  8.84it/s]\n"
     ]
    },
    {
     "name": "stdout",
     "output_type": "stream",
     "text": [
      "Now Calculating identification accuracy......\n"
     ]
    },
    {
     "name": "stderr",
     "output_type": "stream",
     "text": [
      "100%|█████████████████████████████████████████| 50/50 [00:00<00:00, 2783.88it/s]\n"
     ]
    },
    {
     "name": "stdout",
     "output_type": "stream",
     "text": [
      "\n",
      "\n",
      "Accuracy for Model : alexnet5\n",
      "subj01_alexnet5:\t ACC = 0.495 \n",
      "Now Loading all images......\n"
     ]
    },
    {
     "name": "stderr",
     "output_type": "stream",
     "text": [
      "100%|██████████████████████████████████████████| 50/50 [00:00<00:00, 224.40it/s]\n"
     ]
    },
    {
     "name": "stdout",
     "output_type": "stream",
     "text": [
      "Now Calculating similarity......\n"
     ]
    },
    {
     "name": "stderr",
     "output_type": "stream",
     "text": [
      "100%|███████████████████████████████████████████| 50/50 [00:00<00:00, 69.60it/s]\n"
     ]
    },
    {
     "name": "stdout",
     "output_type": "stream",
     "text": [
      "Now Calculating identification accuracy......\n"
     ]
    },
    {
     "name": "stderr",
     "output_type": "stream",
     "text": [
      "100%|█████████████████████████████████████████| 50/50 [00:00<00:00, 2884.15it/s]\n"
     ]
    },
    {
     "name": "stdout",
     "output_type": "stream",
     "text": [
      "\n",
      "\n",
      "Accuracy for Model : alexnet12\n",
      "subj01_alexnet12:\t ACC = 0.538 \n",
      "Now Loading all images......\n"
     ]
    },
    {
     "name": "stderr",
     "output_type": "stream",
     "text": [
      "100%|██████████████████████████████████████████| 50/50 [00:00<00:00, 283.84it/s]\n"
     ]
    },
    {
     "name": "stdout",
     "output_type": "stream",
     "text": [
      "Now Calculating similarity......\n"
     ]
    },
    {
     "name": "stderr",
     "output_type": "stream",
     "text": [
      "100%|██████████████████████████████████████████| 50/50 [00:00<00:00, 113.55it/s]\n"
     ]
    },
    {
     "name": "stdout",
     "output_type": "stream",
     "text": [
      "Now Calculating identification accuracy......\n"
     ]
    },
    {
     "name": "stderr",
     "output_type": "stream",
     "text": [
      "100%|█████████████████████████████████████████| 50/50 [00:00<00:00, 3017.40it/s]\n"
     ]
    },
    {
     "name": "stdout",
     "output_type": "stream",
     "text": [
      "\n",
      "\n",
      "Accuracy for Model : alexnet18\n",
      "subj01_alexnet18:\t ACC = 0.52 \n",
      "Now Loading all images......\n"
     ]
    },
    {
     "name": "stderr",
     "output_type": "stream",
     "text": [
      "100%|██████████████████████████████████████████| 50/50 [00:00<00:00, 155.63it/s]\n"
     ]
    },
    {
     "name": "stdout",
     "output_type": "stream",
     "text": [
      "Now Calculating similarity......\n"
     ]
    },
    {
     "name": "stderr",
     "output_type": "stream",
     "text": [
      "100%|███████████████████████████████████████████| 50/50 [00:05<00:00,  8.98it/s]\n"
     ]
    },
    {
     "name": "stdout",
     "output_type": "stream",
     "text": [
      "Now Calculating identification accuracy......\n"
     ]
    },
    {
     "name": "stderr",
     "output_type": "stream",
     "text": [
      "100%|█████████████████████████████████████████| 50/50 [00:00<00:00, 2869.74it/s]\n"
     ]
    },
    {
     "name": "stdout",
     "output_type": "stream",
     "text": [
      "\n",
      "\n",
      "Accuracy for Model : alexnet5\n",
      "subj01_alexnet5:\t ACC = 0.841 \n",
      "Now Loading all images......\n"
     ]
    },
    {
     "name": "stderr",
     "output_type": "stream",
     "text": [
      "100%|██████████████████████████████████████████| 50/50 [00:00<00:00, 225.84it/s]\n"
     ]
    },
    {
     "name": "stdout",
     "output_type": "stream",
     "text": [
      "Now Calculating similarity......\n"
     ]
    },
    {
     "name": "stderr",
     "output_type": "stream",
     "text": [
      "100%|███████████████████████████████████████████| 50/50 [00:00<00:00, 70.33it/s]\n"
     ]
    },
    {
     "name": "stdout",
     "output_type": "stream",
     "text": [
      "Now Calculating identification accuracy......\n"
     ]
    },
    {
     "name": "stderr",
     "output_type": "stream",
     "text": [
      "100%|█████████████████████████████████████████| 50/50 [00:00<00:00, 2936.65it/s]\n"
     ]
    },
    {
     "name": "stdout",
     "output_type": "stream",
     "text": [
      "\n",
      "\n",
      "Accuracy for Model : alexnet12\n",
      "subj01_alexnet12:\t ACC = 0.805 \n",
      "Now Loading all images......\n"
     ]
    },
    {
     "name": "stderr",
     "output_type": "stream",
     "text": [
      "100%|██████████████████████████████████████████| 50/50 [00:00<00:00, 288.86it/s]\n"
     ]
    },
    {
     "name": "stdout",
     "output_type": "stream",
     "text": [
      "Now Calculating similarity......\n"
     ]
    },
    {
     "name": "stderr",
     "output_type": "stream",
     "text": [
      "100%|██████████████████████████████████████████| 50/50 [00:00<00:00, 116.19it/s]\n"
     ]
    },
    {
     "name": "stdout",
     "output_type": "stream",
     "text": [
      "Now Calculating identification accuracy......\n"
     ]
    },
    {
     "name": "stderr",
     "output_type": "stream",
     "text": [
      "100%|█████████████████████████████████████████| 50/50 [00:00<00:00, 2914.09it/s]"
     ]
    },
    {
     "name": "stdout",
     "output_type": "stream",
     "text": [
      "\n",
      "\n",
      "Accuracy for Model : alexnet18\n",
      "subj01_alexnet18:\t ACC = 0.767 \n"
     ]
    },
    {
     "name": "stderr",
     "output_type": "stream",
     "text": [
      "\n"
     ]
    }
   ],
   "source": [
    "# for usefeat in ['inception', 'alexnet5', 'alexnet12', 'alexnet18']:\n",
    "#['paper', 'lasso', 'net', 'netdecoded']\n",
    "model_acc_dict = {}\n",
    "for image_model_folder in ['paper', 'lasso', 'net', 'netdecoded']:\n",
    "    \n",
    "    acc_dict = {}\n",
    "    for usefeat in ['alexnet5', 'alexnet12', 'alexnet18']:\n",
    "\n",
    "        # Load all images\n",
    "        print(\"Now Loading all images......\")\n",
    "        feat_orgs = []\n",
    "        feat_gens = []\n",
    "        for imgid in tqdm(range(nimage)):\n",
    "            feat_org = load_feat_org(imgid, subject, method, usefeat, image_model_folder)\n",
    "            feat_orgs.append(feat_org)\n",
    "\n",
    "            feat_gen = load_feat_gen(imgid, subject, method, usefeat, image_model_folder)\n",
    "            feat_gens.append(feat_gen)\n",
    "\n",
    "\n",
    "        # Calculate similarity\n",
    "        print(\"Now Calculating similarity......\")\n",
    "        rs_all = []\n",
    "        for row in tqdm(range(nimage)):\n",
    "            rs_row = []\n",
    "            for col in range(nimage):\n",
    "                feat_org = feat_orgs[row]  \n",
    "                feat_gen = feat_gens[col]  \n",
    "                r = np.corrcoef(feat_org,feat_gen)[0,1:]\n",
    "                rs_row.append(r)\n",
    "            rs_all.append(rs_row)\n",
    "\n",
    "        # Calculate accuracy\n",
    "        print(\"Now Calculating identification accuracy......\")\n",
    "        acc_all = []\n",
    "        for imgid_org in tqdm(range(nimage)):\n",
    "            # Calculate true R\n",
    "            r_true = rs_all[imgid_org][imgid_org]\n",
    "\n",
    "            # Calculate Fake R\n",
    "            acc = []\n",
    "            fakeimgs = list(range(nimage))\n",
    "            fakeimgs.remove(imgid_org)\n",
    "            for imgid_fake in fakeimgs:\n",
    "                r_fake = rs_all[imgid_org][imgid_fake]\n",
    "                acc.append(r_true.mean() > r_fake.mean())\n",
    "\n",
    "            acc_all.append(sum(acc)/len(acc))\n",
    "        acc_all = np.array(acc_all)\n",
    "\n",
    "        print(f\"\\n\\nAccuracy for Model : {usefeat}\")\n",
    "        print(f'{subject}_{usefeat}:\\t ACC = {np.mean(acc_all):.03} ')\n",
    "        acc_dict[usefeat] = np.round(np.mean(acc_all),3)\n",
    "        \n",
    "    model_acc_dict[image_model_folder] = acc_dict"
   ]
  },
  {
   "cell_type": "markdown",
   "id": "452b84a5",
   "metadata": {},
   "source": [
    "# PLOT RESULTS"
   ]
  },
  {
   "cell_type": "code",
   "execution_count": 11,
   "id": "8602a20a",
   "metadata": {},
   "outputs": [
    {
     "data": {
      "image/png": "[encoded data removed]",
      "text/plain": [
       "<Figure size 400x800 with 1 Axes>"
      ]
     },
     "metadata": {},
     "output_type": "display_data"
    }
   ],
   "source": [
    "import matplotlib.pyplot as plt\n",
    "\n",
    "# Data\n",
    "values = [acc_dict['alexnet5'], acc_dict['alexnet12'], acc_dict['alexnet18']]\n",
    "labels = ['Early\\nAlexnet5', 'Middle\\nAlexnet12', 'Late\\nAlexnet18']\n",
    "\n",
    "# Create parallel plot with rectangles and legends\n",
    "plt.figure(figsize=(4, 8))\n",
    "\n",
    "bars = []\n",
    "for i, (value, label) in enumerate(zip(values, labels)):\n",
    "    bar = plt.bar(i, value, color=['#6a92af', '#4f769b', '#375b87'][i], alpha=1, edgecolor='black', linewidth=1.5, label=label)\n",
    "    bars.append(bar)\n",
    "\n",
    "# Add data labels on top of the bars\n",
    "for bar, value in zip(bars, values):\n",
    "    plt.text(bar[0].get_x() + bar[0].get_width() / 2, bar[0].get_height() + 0.01, f'{value:.2f}', ha='center', va='bottom', fontsize=10)\n",
    "\n",
    "# Set labels and title\n",
    "plt.xticks(range(len(labels)), labels, rotation = 0)\n",
    "plt.ylabel('Identification Accuracy', fontsize=16)\n",
    "plt.title('Identification Accuray across Layers')\n",
    "\n",
    "# Add legend\n",
    "#plt.legend()\n",
    "\n",
    "# Add grid lines\n",
    "#plt.grid(axis='y', linestyle='--', alpha=0.7)\n",
    "\n",
    "# Add background color\n",
    "plt.gca().set_facecolor('#f0f0f0')\n",
    "\n",
    "# Show the plot\n",
    "plt.show()\n"
   ]
  },
  {
   "cell_type": "markdown",
   "id": "f05770f4",
   "metadata": {},
   "source": [
    "# VISUALIZE"
   ]
  },
  {
   "cell_type": "code",
   "execution_count": 12,
   "id": "3d81c33a",
   "metadata": {},
   "outputs": [
    {
     "data": {
      "image/png": "[encoded data removed]",
      "text/plain": [
       "<Figure size 1200x600 with 4 Axes>"
      ]
     },
     "metadata": {},
     "output_type": "display_data"
    }
   ],
   "source": [
    "import matplotlib.pyplot as plt\n",
    "import numpy as np\n",
    "\n",
    "# Your dictionary\n",
    "data = model_acc_dict\n",
    "\n",
    "# Extract keys and values for each category\n",
    "categories = list(data.keys())\n",
    "models = list(data['paper'].keys())\n",
    "values = [[data[category][model] for model in models] for category in categories]\n",
    "\n",
    "# Set color scheme\n",
    "colors = plt.cm.Set3(np.arange(len(categories)))\n",
    "\n",
    "# Create subplots\n",
    "fig, axes = plt.subplots(1, 4, figsize=(12, 6))\n",
    "\n",
    "# Plot each category\n",
    "for i, ax in enumerate(axes):\n",
    "    ax.bar(models, values[i], color=colors, edgecolor='black', linewidth=1.2, alpha=0.8)\n",
    "    ax.set_title(categories[i], fontsize=14, fontweight='bold')\n",
    "    ax.set_ylim(0, 1)  # Set y-axis limit to 0-1 for better comparison\n",
    "    ax.grid(axis='y', linestyle='--', alpha=0.7)\n",
    "    ax.set_facecolor('#f0f0f0')  # Background color\n",
    "\n",
    "# Adjust layout\n",
    "plt.tight_layout(pad=2)\n",
    "plt.show()\n"
   ]
  },
  {
   "cell_type": "code",
   "execution_count": 10,
   "id": "d7a924bf",
   "metadata": {},
   "outputs": [
    {
     "data": {
      "text/plain": [
       "array([[0.65098039, 0.80784314, 0.89019608, 1.        ],\n",
       "       [0.12156863, 0.47058824, 0.70588235, 1.        ],\n",
       "       [0.69803922, 0.8745098 , 0.54117647, 1.        ],\n",
       "       [0.2       , 0.62745098, 0.17254902, 1.        ]])"
      ]
     },
     "execution_count": 10,
     "metadata": {},
     "output_type": "execute_result"
    }
   ],
   "source": [
    "colors"
   ]
  },
  {
   "cell_type": "code",
   "execution_count": null,
   "id": "d30ede1b",
   "metadata": {},
   "outputs": [],
   "source": []
  }
 ],
 "metadata": {
  "kernelspec": {
   "display_name": "Python-LDM",
   "language": "python",
   "name": "ldm"
  },
  "language_info": {
   "codemirror_mode": {
    "name": "ipython",
    "version": 3
   },
   "file_extension": ".py",
   "mimetype": "text/x-python",
   "name": "python",
   "nbconvert_exporter": "python",
   "pygments_lexer": "ipython3",
   "version": "3.8.5"
  }
 },
 "nbformat": 4,
 "nbformat_minor": 5
}
