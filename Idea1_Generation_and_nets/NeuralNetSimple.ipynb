{
 "cells": [
  {
   "cell_type": "markdown",
   "id": "a142fe96",
   "metadata": {},
   "source": [
    "# Imports"
   ]
  },
  {
   "cell_type": "code",
   "execution_count": 1,
   "id": "dc961a2c",
   "metadata": {},
   "outputs": [
    {
     "name": "stderr",
     "output_type": "stream",
     "text": [
      "/home/aditya/anaconda3/envs/ldm/lib/python3.8/site-packages/tqdm/auto.py:21: TqdmWarning: IProgress not found. Please update jupyter and ipywidgets. See https://ipywidgets.readthedocs.io/en/stable/user_install.html\n",
      "  from .autonotebook import tqdm as notebook_tqdm\n"
     ]
    }
   ],
   "source": [
    "import argparse, os\n",
    "import numpy as np\n",
    "from sklearn.pipeline import make_pipeline\n",
    "from sklearn.preprocessing import StandardScaler\n",
    "from sklearn.model_selection import train_test_split\n",
    "import matplotlib.pyplot as plt\n",
    "\n",
    "import time\n",
    "\n",
    "import torch\n",
    "from torch.utils.data import TensorDataset, DataLoader\n",
    "import torch\n",
    "import torch.nn as nn\n",
    "import torch.optim as optim"
   ]
  },
  {
   "cell_type": "code",
   "execution_count": 2,
   "id": "ecbeff0f",
   "metadata": {},
   "outputs": [],
   "source": [
    "# CALLS FROM TERMINAL\n",
    "# python ridge.py --target c --roi ventral --subject subj01\n",
    "# python ridge.py --target init_latent --roi early --subject subj01"
   ]
  },
  {
   "cell_type": "markdown",
   "id": "f812a737",
   "metadata": {},
   "source": [
    "# FUNCTIONS"
   ]
  },
  {
   "cell_type": "code",
   "execution_count": 3,
   "id": "e4f223b8",
   "metadata": {},
   "outputs": [],
   "source": [
    "def evaluate_loss(model, loader, criterion):\n",
    "\n",
    "    model.eval()\n",
    "\n",
    "    with torch.no_grad():\n",
    "\n",
    "        total_loss = 0 \n",
    "        for batch in loader:\n",
    "\n",
    "            # batch is a tuple, where batch[0] is X and batch[1] is Y\n",
    "            x_batch, y_batch = batch\n",
    "            \n",
    "            x_batch = x_batch.to(device)\n",
    "            y_batch = y_batch.to(device)\n",
    "            \n",
    "            # Forward pass\n",
    "            y_pred = model(x_batch)\n",
    "            # Compute the loss MSE\n",
    "            loss_mse = criterion(y_pred, y_batch)\n",
    "            total_loss += loss_mse.item()*len(x_batch)\n",
    "\n",
    "        \n",
    "\n",
    "    model.train()\n",
    "    total_loss = total_loss/(len(loader.dataset))\n",
    "    total_loss = round(total_loss,8)\n",
    "    \n",
    "    return total_loss\n"
   ]
  },
  {
   "cell_type": "code",
   "execution_count": 4,
   "id": "dad8123b",
   "metadata": {},
   "outputs": [],
   "source": [
    "def plot_losses(train_loss_list, val_loss_list):\n",
    "\n",
    "    plt.figure(figsize=(10, 5))\n",
    "    \n",
    "    \n",
    "    plt.plot(np.array(range(len(train_loss_list)))+1, np.array(train_loss_list), marker='o',\n",
    "             color='limegreen', label='Train Loss', markeredgecolor='k', markersize=5)\n",
    "    plt.plot(np.array(range(len(val_loss_list)))+1, np.array(val_loss_list), marker='o', \n",
    "             color='darkorange', label='Val Loss', markeredgecolor='k', markersize=5)\n",
    "\n",
    "    \n",
    "    plt.xticks(np.array(range(len(train_loss_list)))+1)\n",
    "\n",
    "    #plt.xticks(np.)\n",
    "    plt.grid()\n",
    "    plt.legend(fontsize=15)\n",
    "    plt.title('Loss vs Epochs', fontsize=20)\n",
    "    plt.xlabel('Epochs', fontsize=15)\n",
    "    plt.ylabel('Loss', fontsize=15)"
   ]
  },
  {
   "cell_type": "markdown",
   "id": "d6ddd249",
   "metadata": {},
   "source": [
    "# SETUP"
   ]
  },
  {
   "cell_type": "code",
   "execution_count": 5,
   "id": "05dee7b0",
   "metadata": {},
   "outputs": [],
   "source": [
    "# 1st CODE\n",
    "# target = 'c'\n",
    "# roi = 'ventral'\n",
    "# subject = 'subj01'\n",
    "\n",
    "# 2nd CODE\n",
    "target = 'init_latent'\n",
    "roi = 'early'\n",
    "subject = 'subj01'\n",
    "\n",
    "\n",
    "mridir = f'../../mrifeat/{subject}/'\n",
    "featdir = '../../nsdfeat/subjfeat/'\n",
    "\n",
    "# FOR THE MODEL IN PAPER \n",
    "# savedir = f'../..//decoded/{subject}/'\n",
    "\n",
    "# FOR OUR L1 MODEL\n",
    "savedir = f'../../decoded_l1/{subject}/'\n",
    "os.makedirs(savedir, exist_ok=True)"
   ]
  },
  {
   "cell_type": "code",
   "execution_count": 6,
   "id": "5822718d",
   "metadata": {},
   "outputs": [],
   "source": [
    "# # if target == 'c' or target == 'init_latent': # CVPR\n",
    "# #     alpha = [0.000001,0.00001,0.0001,0.001,0.01, 0.1, 1]\n",
    " \n",
    "# # For experimentations\n",
    "# if target == 'c' or target == 'init_latent': # CVPR\n",
    "#     alpha = [0.01]"
   ]
  },
  {
   "cell_type": "markdown",
   "id": "fc91e15f",
   "metadata": {},
   "source": [
    "# LOAD DATA"
   ]
  },
  {
   "cell_type": "code",
   "execution_count": 7,
   "id": "00ee62a6",
   "metadata": {},
   "outputs": [],
   "source": [
    "X = []\n",
    "X_te = []\n",
    "\n",
    "for croi in [roi]:\n",
    "    if 'conv' in target: # We use averaged features for GAN due to large number of dimension of features\n",
    "        cX = np.load(f'{mridir}/{subject}_{croi}_betas_ave_tr.npy').astype(\"float32\")\n",
    "    else:\n",
    "        cX = np.load(f'{mridir}/{subject}_{croi}_betas_tr.npy').astype(\"float32\")\n",
    "    \n",
    "    cX_te = np.load(f'{mridir}/{subject}_{croi}_betas_ave_te.npy').astype(\"float32\")\n",
    "    \n",
    "    X.append(cX)\n",
    "    X_te.append(cX_te)\n",
    "\n",
    "X = np.hstack(X)\n",
    "X_te = np.hstack(X_te)\n",
    "\n",
    "\n",
    "Y = np.load(f'{featdir}/{subject}_each_{target}_tr.npy').astype(\"float32\").reshape([24980,-1])\n",
    "Y_te = np.load(f'{featdir}/{subject}_ave_{target}_te.npy').astype(\"float32\").reshape([X_te.shape[0],-1])"
   ]
  },
  {
   "cell_type": "code",
   "execution_count": 8,
   "id": "75aafb3e",
   "metadata": {},
   "outputs": [
    {
     "name": "stdout",
     "output_type": "stream",
     "text": [
      "Now making decoding model for... subj01:  early, init_latent\n",
      "X (24980, 5917), Y (24980, 6400), X_te (982, 5917), Y_te (982, 6400)\n"
     ]
    }
   ],
   "source": [
    "print(f'Now making decoding model for... {subject}:  {roi}, {target}')\n",
    "print(f'X {X.shape}, Y {Y.shape}, X_te {X_te.shape}, Y_te {Y_te.shape}')"
   ]
  },
  {
   "cell_type": "markdown",
   "id": "a71f9c17",
   "metadata": {},
   "source": [
    "______\n",
    "_____"
   ]
  },
  {
   "cell_type": "code",
   "execution_count": 9,
   "id": "a27219fe",
   "metadata": {},
   "outputs": [],
   "source": [
    "# !nvidia-smi"
   ]
  },
  {
   "cell_type": "markdown",
   "id": "3227fc0b",
   "metadata": {},
   "source": [
    "# MODEL"
   ]
  },
  {
   "cell_type": "code",
   "execution_count": null,
   "id": "34cc8281",
   "metadata": {},
   "outputs": [],
   "source": []
  },
  {
   "cell_type": "code",
   "execution_count": 10,
   "id": "e0145618",
   "metadata": {},
   "outputs": [],
   "source": [
    "from sklearn.preprocessing import StandardScaler\n",
    "# Initialize the StandardScaler\n",
    "scaler = StandardScaler()\n",
    "# Fit the scaler on your data and transform it\n",
    "\n",
    "X = scaler.fit_transform(X)\n",
    "\n",
    "y_mean = np.mean(Y, axis=0)\n",
    "y_std = np.std(Y, axis=0)\n",
    "#Y = scaler.fit_transform(Y)\n",
    "\n",
    "X_te = scaler.fit_transform(X_te)\n",
    "#Y_te = scaler.fit_transform(Y_te)"
   ]
  },
  {
   "cell_type": "code",
   "execution_count": 11,
   "id": "f36ddc90",
   "metadata": {},
   "outputs": [
    {
     "data": {
      "text/plain": [
       "((24980, 5917), (24980, 6400))"
      ]
     },
     "execution_count": 11,
     "metadata": {},
     "output_type": "execute_result"
    }
   ],
   "source": [
    "X.shape, Y.shape"
   ]
  },
  {
   "cell_type": "code",
   "execution_count": 12,
   "id": "ef65e6a2",
   "metadata": {},
   "outputs": [],
   "source": [
    "# Convert NumPy arrays to PyTorch tensors\n",
    "X_tensor_train = torch.tensor(X, dtype=torch.float16)\n",
    "Y_tensor_train = torch.tensor(Y, dtype=torch.float16)\n",
    "\n",
    "X_tensor_test = torch.tensor(X_te, dtype=torch.float16)\n",
    "Y_tensor_test = torch.tensor(Y_te, dtype=torch.float16)\n",
    "\n",
    "# Create a TensorDataset from the tensors\n",
    "train_dataset = TensorDataset(X_tensor_train, Y_tensor_train)\n",
    "test_dataset = TensorDataset(X_tensor_test, Y_tensor_test)\n",
    "\n",
    "# Set batch size for DataLoader\n",
    "batch_size = 1024\n",
    "# Create a DataLoader\n",
    "train_dataloader = DataLoader(train_dataset, batch_size=batch_size, shuffle=True)\n",
    "test_dataloader = DataLoader(test_dataset, batch_size=batch_size, shuffle=False)\n",
    "\n",
    "\n",
    "# Set input and output dimensions\n",
    "input_dim = X.shape[1] # 7604\n",
    "output_dim = Y.shape[1] # 59136\n",
    "# Training loop\n",
    "num_epochs = 1\n",
    "\n",
    "\n",
    "\n",
    "\n",
    "del X\n",
    "del X_te\n",
    "del Y\n",
    "del Y_te"
   ]
  },
  {
   "cell_type": "code",
   "execution_count": null,
   "id": "31adc2b3",
   "metadata": {},
   "outputs": [],
   "source": []
  },
  {
   "cell_type": "code",
   "execution_count": 13,
   "id": "9241249e",
   "metadata": {},
   "outputs": [],
   "source": [
    "# Define the Ridge Regression model\n",
    "net = nn.Sequential(\n",
    "                    nn.Linear(X_tensor_train.shape[1], 10000),\n",
    "                    nn.ReLU(),\n",
    "                    nn.Linear(10000, Y_tensor_train.shape[1])\n",
    "                    )\n",
    "net = net.half()\n",
    "\n",
    "device = torch.device(\"cuda\" if torch.cuda.is_available() else \"cpu\")\n",
    "\n",
    "net = net.to(device)"
   ]
  },
  {
   "cell_type": "markdown",
   "id": "82c858e3",
   "metadata": {},
   "source": [
    "# TRAINING"
   ]
  },
  {
   "cell_type": "code",
   "execution_count": null,
   "id": "d40a68e5",
   "metadata": {},
   "outputs": [],
   "source": []
  },
  {
   "cell_type": "code",
   "execution_count": 14,
   "id": "3bfb6304",
   "metadata": {},
   "outputs": [
    {
     "name": "stdout",
     "output_type": "stream",
     "text": [
      "Tue Nov 28 21:54:55 2023       \r\n",
      "+---------------------------------------------------------------------------------------+\r\n",
      "| NVIDIA-SMI 530.30.02              Driver Version: 530.30.02    CUDA Version: 12.1     |\r\n",
      "|-----------------------------------------+----------------------+----------------------+\r\n",
      "| GPU  Name                  Persistence-M| Bus-Id        Disp.A | Volatile Uncorr. ECC |\r\n",
      "| Fan  Temp  Perf            Pwr:Usage/Cap|         Memory-Usage | GPU-Util  Compute M. |\r\n",
      "|                                         |                      |               MIG M. |\r\n",
      "|=========================================+======================+======================|\r\n",
      "|   0  NVIDIA GeForce RTX 3070 L...    On | 00000000:01:00.0 Off |                  N/A |\r\n",
      "| N/A   65C    P0               25W /  80W|   1773MiB /  8192MiB |      0%      Default |\r\n",
      "|                                         |                      |                  N/A |\r\n",
      "+-----------------------------------------+----------------------+----------------------+\r\n",
      "                                                                                         \r\n",
      "+---------------------------------------------------------------------------------------+\r\n",
      "| Processes:                                                                            |\r\n",
      "|  GPU   GI   CI        PID   Type   Process name                            GPU Memory |\r\n",
      "|        ID   ID                                                             Usage      |\r\n",
      "|=======================================================================================|\r\n",
      "|    0   N/A  N/A      2040      G   /usr/lib/xorg/Xorg                            4MiB |\r\n",
      "|    0   N/A  N/A      2280    C+G   ...libexec/gnome-remote-desktop-daemon      138MiB |\r\n",
      "|    0   N/A  N/A      9825      C   ...ditya/anaconda3/envs/ldm/bin/python     1626MiB |\r\n",
      "+---------------------------------------------------------------------------------------+\r\n"
     ]
    }
   ],
   "source": [
    "!nvidia-smi"
   ]
  },
  {
   "cell_type": "code",
   "execution_count": 15,
   "id": "98932bc8",
   "metadata": {},
   "outputs": [],
   "source": [
    "# Criterion and Optimiser\n",
    "criterion = nn.MSELoss()\n",
    "optimizer = optim.SGD(net.parameters(), lr=.1)"
   ]
  },
  {
   "cell_type": "code",
   "execution_count": null,
   "id": "aadc7763",
   "metadata": {},
   "outputs": [],
   "source": []
  },
  {
   "cell_type": "code",
   "execution_count": 16,
   "id": "cba261f0",
   "metadata": {
    "scrolled": false
   },
   "outputs": [
    {
     "name": "stdout",
     "output_type": "stream",
     "text": [
      "\tEpoch 1 Train Loss : 0.69703552  | Test Loss : 0.67529297\n",
      "\tEpoch 2 Train Loss : 0.69131188  | Test Loss : 0.66943359\n",
      "\tEpoch 3 Train Loss : 0.68770548  | Test Loss : 0.66552734\n",
      "\tEpoch 4 Train Loss : 0.68533827  | Test Loss : 0.66308594\n",
      "\tEpoch 5 Train Loss : 0.68350469  | Test Loss : 0.66113281\n",
      "\tEpoch 6 Train Loss : 0.68220201  | Test Loss : 0.65966797\n",
      "\tEpoch 7 Train Loss : 0.68113655  | Test Loss : 0.65869141\n",
      "\tEpoch 8 Train Loss : 0.6802768  | Test Loss : 0.65771484\n",
      "\tEpoch 9 Train Loss : 0.67952424  | Test Loss : 0.65673828\n",
      "\tEpoch 10 Train Loss : 0.67890891  | Test Loss : 0.65625\n",
      "\tEpoch 11 Train Loss : 0.67832954  | Test Loss : 0.65576172\n",
      "\tEpoch 12 Train Loss : 0.67784071  | Test Loss : 0.65527344\n",
      "\tEpoch 13 Train Loss : 0.67740513  | Test Loss : 0.65478516\n",
      "\tEpoch 14 Train Loss : 0.67706431  | Test Loss : 0.65429688\n",
      "\tEpoch 15 Train Loss : 0.67669041  | Test Loss : 0.65380859\n",
      "\tEpoch 16 Train Loss : 0.67638963  | Test Loss : 0.65332031\n",
      "\tEpoch 17 Train Loss : 0.67605412  | Test Loss : 0.65332031\n",
      "\tEpoch 18 Train Loss : 0.67580385  | Test Loss : 0.65283203\n",
      "\tEpoch 19 Train Loss : 0.67555208  | Test Loss : 0.65234375\n",
      "\tEpoch 20 Train Loss : 0.67530618  | Test Loss : 0.65234375\n",
      "\tEpoch 21 Train Loss : 0.67502635  | Test Loss : 0.65185547\n",
      "\tEpoch 22 Train Loss : 0.67476153  | Test Loss : 0.65185547\n",
      "\tEpoch 23 Train Loss : 0.67458983  | Test Loss : 0.65136719\n",
      "\tEpoch 24 Train Loss : 0.67437059  | Test Loss : 0.65136719\n",
      "\tEpoch 25 Train Loss : 0.6741974  | Test Loss : 0.65087891\n",
      "\tEpoch 26 Train Loss : 0.67390928  | Test Loss : 0.65087891\n",
      "\tEpoch 27 Train Loss : 0.67374751  | Test Loss : 0.65039062\n",
      "\tEpoch 28 Train Loss : 0.67353633  | Test Loss : 0.65039062\n",
      "\tEpoch 29 Train Loss : 0.67337159  | Test Loss : 0.64990234\n",
      "\tEpoch 30 Train Loss : 0.67317088  | Test Loss : 0.64990234\n",
      "\tEpoch 31 Train Loss : 0.67307706  | Test Loss : 0.64941406\n",
      "\tEpoch 32 Train Loss : 0.6728231  | Test Loss : 0.64941406\n",
      "\tEpoch 33 Train Loss : 0.67269511  | Test Loss : 0.64941406\n",
      "\tEpoch 34 Train Loss : 0.6725245  | Test Loss : 0.64892578\n",
      "\tEpoch 35 Train Loss : 0.67235007  | Test Loss : 0.64892578\n",
      "\tEpoch 36 Train Loss : 0.67211613  | Test Loss : 0.6484375\n",
      "\tEpoch 37 Train Loss : 0.67200299  | Test Loss : 0.6484375\n",
      "\tEpoch 38 Train Loss : 0.67188235  | Test Loss : 0.6484375\n",
      "\tEpoch 39 Train Loss : 0.67171174  | Test Loss : 0.64794922\n",
      "\tEpoch 40 Train Loss : 0.67156006  | Test Loss : 0.64794922\n",
      "\tEpoch 41 Train Loss : 0.67134927  | Test Loss : 0.64794922\n",
      "\tEpoch 42 Train Loss : 0.67121908  | Test Loss : 0.64746094\n",
      "\tEpoch 43 Train Loss : 0.67109015  | Test Loss : 0.64746094\n",
      "\tEpoch 44 Train Loss : 0.67094066  | Test Loss : 0.64746094\n",
      "\tEpoch 45 Train Loss : 0.6708441  | Test Loss : 0.64697266\n",
      "\tEpoch 46 Train Loss : 0.67066559  | Test Loss : 0.64697266\n",
      "\tEpoch 47 Train Loss : 0.67052126  | Test Loss : 0.64697266\n",
      "\tEpoch 48 Train Loss : 0.67037435  | Test Loss : 0.64648438\n",
      "\tEpoch 49 Train Loss : 0.67018849  | Test Loss : 0.64648438\n",
      "\tEpoch 50 Train Loss : 0.67011211  | Test Loss : 0.64648438\n",
      "\tEpoch 51 Train Loss : 0.66993931  | Test Loss : 0.64599609\n",
      "\tEpoch 52 Train Loss : 0.66983704  | Test Loss : 0.64599609\n",
      "\tEpoch 53 Train Loss : 0.6697085  | Test Loss : 0.64599609\n",
      "\tEpoch 54 Train Loss : 0.66956526  | Test Loss : 0.64550781\n",
      "\tEpoch 55 Train Loss : 0.66938308  | Test Loss : 0.64550781\n",
      "\tEpoch 56 Train Loss : 0.66931131  | Test Loss : 0.64550781\n",
      "\tEpoch 57 Train Loss : 0.66918128  | Test Loss : 0.64501953\n",
      "\tEpoch 58 Train Loss : 0.66903492  | Test Loss : 0.64501953\n",
      "\tEpoch 59 Train Loss : 0.66891224  | Test Loss : 0.64501953\n",
      "\tEpoch 60 Train Loss : 0.66877987  | Test Loss : 0.64453125\n",
      "\tEpoch 61 Train Loss : 0.6686482  | Test Loss : 0.64453125\n",
      "\tEpoch 62 Train Loss : 0.66854648  | Test Loss : 0.64453125\n",
      "\tEpoch 63 Train Loss : 0.66839331  | Test Loss : 0.64453125\n",
      "\n",
      "\n",
      " BREAKING AT EPOCH 63\n",
      "94.25774598121643\n"
     ]
    }
   ],
   "source": [
    "tic = time.time()\n",
    "\n",
    "\n",
    "best_loss = float('inf')\n",
    "PATIENCE = 3\n",
    "loss_per=100\n",
    "\n",
    "train_losses = []\n",
    "test_losses = []\n",
    "num_epochs = 800\n",
    "\n",
    "for epoch in range(num_epochs):\n",
    "\n",
    "    total_loss = 0 \n",
    "    #print(f\"Starting Epoch : {epoch+1} \")\n",
    "    #print(f\"\\tProcessing BATCH   \", end='')\n",
    "    for batch_idx, batch in enumerate(train_dataloader):\n",
    "\n",
    "        #print(f\"{batch_idx+1} \", end='')\n",
    "        # batch is a tuple, where batch[0] is X and batch[1] is Y\n",
    "        x_batch, y_batch = batch\n",
    "        \n",
    "        x_batch = x_batch.to(device)\n",
    "        y_batch = y_batch.to(device)\n",
    "\n",
    "        # Forward pass\n",
    "        y_pred = net(x_batch)\n",
    "\n",
    "        # Compute the loss with L1 regularization\n",
    "        loss = criterion(y_pred, y_batch)\n",
    "\n",
    "        # Backward pass and optimization\n",
    "        optimizer.zero_grad()\n",
    "        loss.backward()\n",
    "        optimizer.step()\n",
    "\n",
    "\n",
    "    train_loss = evaluate_loss(model=net, loader=train_dataloader, criterion=criterion)\n",
    "    train_losses.append(train_loss)\n",
    "\n",
    "    ########## VALIDATION LOSS ###########\n",
    "    test_loss = evaluate_loss(model=net, loader=test_dataloader, criterion=criterion)\n",
    "    test_losses.append(test_loss)\n",
    "\n",
    "    print(f\"\\tEpoch {epoch +1} Train Loss : {train_loss}  | Test Loss : {test_loss}\")\n",
    "    \n",
    "    \n",
    "#     if epoch>0:\n",
    "#         loss_per = ((old_loss-test_loss)/old_loss)*100\n",
    "    \n",
    "    if test_loss < best_loss:\n",
    "        \n",
    "        # SAVE BEST PARAMETERS\n",
    "        best_params = net.state_dict()\n",
    "        best_loss = test_loss\n",
    "        patience_counter=0\n",
    "        \n",
    "    else:\n",
    "        \n",
    "        patience_counter +=1\n",
    "        \n",
    "#     old_loss = test_loss\n",
    "    if patience_counter >= PATIENCE: # or abs(loss_per)<.05:\n",
    "        print(f\"\\n\\n BREAKING AT EPOCH {epoch+1}\")\n",
    "        break\n",
    "\n",
    "\n",
    "tok = time.time()\n",
    "print(tok-tic)\n",
    "    \n",
    "    \n",
    "        "
   ]
  },
  {
   "cell_type": "code",
   "execution_count": null,
   "id": "8731b862",
   "metadata": {},
   "outputs": [],
   "source": []
  },
  {
   "cell_type": "markdown",
   "id": "e27cddb9",
   "metadata": {},
   "source": [
    "# Prediction & Saving results"
   ]
  },
  {
   "cell_type": "code",
   "execution_count": 18,
   "id": "1244d187",
   "metadata": {},
   "outputs": [
    {
     "data": {
      "image/png": "[encoded data removed]",
      "text/plain": [
       "<Figure size 1000x500 with 1 Axes>"
      ]
     },
     "metadata": {},
     "output_type": "display_data"
    }
   ],
   "source": [
    "plot_losses(train_losses, test_losses)"
   ]
  },
  {
   "cell_type": "code",
   "execution_count": null,
   "id": "b9a4c48b",
   "metadata": {},
   "outputs": [],
   "source": [
    "net.eval()\n",
    "with torch.no_grad():\n",
    "    scores = net(X_tensor_test.to(device))\n",
    "    scores = scores.to('cpu').numpy()\n",
    "net.train()\n",
    "\n",
    "np.save(f'{savedir}/{subject}_{roi}_scores_{target}.npy',scores)"
   ]
  },
  {
   "cell_type": "code",
   "execution_count": null,
   "id": "3674dd7c",
   "metadata": {},
   "outputs": [],
   "source": []
  },
  {
   "cell_type": "markdown",
   "id": "e1193e47",
   "metadata": {},
   "source": [
    "_____________________"
   ]
  },
  {
   "cell_type": "code",
   "execution_count": null,
   "id": "c5dfe8c2",
   "metadata": {},
   "outputs": [],
   "source": []
  }
 ],
 "metadata": {
  "kernelspec": {
   "display_name": "Python-LDM",
   "language": "python",
   "name": "ldm"
  },
  "language_info": {
   "codemirror_mode": {
    "name": "ipython",
    "version": 3
   },
   "file_extension": ".py",
   "mimetype": "text/x-python",
   "name": "python",
   "nbconvert_exporter": "python",
   "pygments_lexer": "ipython3",
   "version": "3.8.5"
  }
 },
 "nbformat": 4,
 "nbformat_minor": 5
}
