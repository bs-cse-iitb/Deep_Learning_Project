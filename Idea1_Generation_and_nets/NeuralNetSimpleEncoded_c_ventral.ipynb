{
 "cells": [
  {
   "cell_type": "markdown",
   "id": "a142fe96",
   "metadata": {},
   "source": [
    "# Imports"
   ]
  },
  {
   "cell_type": "code",
   "execution_count": 1,
   "id": "dc961a2c",
   "metadata": {},
   "outputs": [
    {
     "name": "stderr",
     "output_type": "stream",
     "text": [
      "/home/aditya/anaconda3/envs/ldm/lib/python3.8/site-packages/tqdm/auto.py:21: TqdmWarning: IProgress not found. Please update jupyter and ipywidgets. See https://ipywidgets.readthedocs.io/en/stable/user_install.html\n",
      "  from .autonotebook import tqdm as notebook_tqdm\n"
     ]
    }
   ],
   "source": [
    "import argparse, os\n",
    "import numpy as np\n",
    "from sklearn.pipeline import make_pipeline\n",
    "from sklearn.preprocessing import StandardScaler\n",
    "from sklearn.model_selection import train_test_split\n",
    "import matplotlib.pyplot as plt\n",
    "\n",
    "import time\n",
    "\n",
    "import torch\n",
    "from torch.utils.data import TensorDataset, DataLoader\n",
    "import torch\n",
    "import torch.nn as nn\n",
    "import torch.optim as optim"
   ]
  },
  {
   "cell_type": "code",
   "execution_count": 2,
   "id": "ecbeff0f",
   "metadata": {},
   "outputs": [],
   "source": [
    "# CALLS FROM TERMINAL\n",
    "# python ridge.py --target c --roi ventral --subject subj01\n",
    "# python ridge.py --target init_latent --roi early --subject subj01"
   ]
  },
  {
   "cell_type": "markdown",
   "id": "40cec191",
   "metadata": {},
   "source": [
    "# Autoencoder"
   ]
  },
  {
   "cell_type": "code",
   "execution_count": 3,
   "id": "fdac4851",
   "metadata": {},
   "outputs": [],
   "source": [
    "# Define a more complex autoencoder model\n",
    "class Autoencoder(nn.Module):\n",
    "    def __init__(self, input_size, encoding_size, weight_decay=1e-4):\n",
    "        super(Autoencoder, self).__init__()\n",
    "        self.encoder = nn.Sequential(\n",
    "            nn.Linear(input_size, 2500),\n",
    "            nn.ReLU(),\n",
    "            nn.Linear(2500, encoding_size)\n",
    "        )\n",
    "        self.decoder = nn.Sequential(\n",
    "            nn.Linear(encoding_size, 2500),\n",
    "            nn.ReLU(),\n",
    "            nn.Linear(2500, input_size)\n",
    "        )\n",
    "        \n",
    "        # Add L2 regularization to the linear layers\n",
    "        self.regularization = nn.MSELoss(reduction='sum')\n",
    "        self.weight_decay = weight_decay\n",
    "\n",
    "    def forward(self, x):\n",
    "        x = self.encoder(x)\n",
    "        x = self.decoder(x)\n",
    "        return x\n",
    "    \n",
    "    def calculate_regularization_loss(self):\n",
    "        reg_loss = 0\n",
    "        for param in self.parameters():\n",
    "            reg_loss += self.regularization(param, torch.zeros_like(param))\n",
    "        return self.weight_decay * reg_loss\n",
    "        #return 0.0"
   ]
  },
  {
   "cell_type": "markdown",
   "id": "f812a737",
   "metadata": {},
   "source": [
    "# FUNCTIONS"
   ]
  },
  {
   "cell_type": "code",
   "execution_count": 4,
   "id": "e4f223b8",
   "metadata": {},
   "outputs": [],
   "source": [
    "def evaluate_loss(model, loader, criterion, enc_dec):\n",
    "\n",
    "    model.eval()\n",
    "\n",
    "    with torch.no_grad():\n",
    "\n",
    "        total_loss = 0 \n",
    "        for batch in loader:\n",
    "\n",
    "            # batch is a tuple, where batch[0] is X and batch[1] is Y\n",
    "            x_batch, y_batch = batch\n",
    "            \n",
    "            x_batch = x_batch.to(device)\n",
    "            y_batch = y_batch.to(device)\n",
    "            \n",
    "            # Forward pass\n",
    "            y_pred = model(x_batch)\n",
    "            \n",
    "            y_batch = enc_dec.encoder(y_batch)\n",
    "            \n",
    "            \n",
    "            # Compute the loss MSE\n",
    "            loss_mse = criterion(y_pred, y_batch)\n",
    "            total_loss += loss_mse.item()*len(x_batch)\n",
    "\n",
    "        \n",
    "\n",
    "    model.train()\n",
    "    total_loss = total_loss/(len(loader.dataset))\n",
    "    total_loss = round(total_loss,8)\n",
    "    \n",
    "    return total_loss\n"
   ]
  },
  {
   "cell_type": "code",
   "execution_count": 5,
   "id": "dad8123b",
   "metadata": {},
   "outputs": [],
   "source": [
    "def plot_losses(train_loss_list, val_loss_list):\n",
    "\n",
    "    plt.figure(figsize=(10, 5))\n",
    "    \n",
    "    \n",
    "    plt.plot(np.array(range(len(train_loss_list)))+1, np.array(train_loss_list), marker='o',\n",
    "             color='limegreen', label='Train Loss', markeredgecolor='k', markersize=5)\n",
    "    plt.plot(np.array(range(len(val_loss_list)))+1, np.array(val_loss_list), marker='o', \n",
    "             color='darkorange', label='Val Loss', markeredgecolor='k', markersize=5)\n",
    "\n",
    "    \n",
    "    plt.xticks(np.array(range(len(train_loss_list)))+1)\n",
    "\n",
    "    #plt.xticks(np.)\n",
    "    plt.grid()\n",
    "    plt.legend(fontsize=15)\n",
    "    plt.title('Loss vs Epochs', fontsize=20)\n",
    "    plt.xlabel('Epochs', fontsize=15)\n",
    "    plt.ylabel('Loss', fontsize=15)"
   ]
  },
  {
   "cell_type": "markdown",
   "id": "d6ddd249",
   "metadata": {},
   "source": [
    "# SETUP"
   ]
  },
  {
   "cell_type": "code",
   "execution_count": 6,
   "id": "05dee7b0",
   "metadata": {},
   "outputs": [],
   "source": [
    "# 1st CODE\n",
    "# target = 'c'\n",
    "# roi = 'ventral'\n",
    "# subject = 'subj01'\n",
    "# enc_dec = torch.load('autoencoder_c_ventral.pth')\n",
    "\n",
    "# 2nd CODE\n",
    "target = 'init_latent'\n",
    "roi = 'early'\n",
    "subject = 'subj01'\n",
    "enc_dec = torch.load('autoencoder_init_latent_early.pth')\n",
    "\n",
    "\n",
    "\n",
    "mridir = f'../../mrifeat/{subject}/'\n",
    "featdir = '../../nsdfeat/subjfeat/'\n",
    "\n",
    "# FOR THE MODEL IN PAPER \n",
    "# savedir = f'../..//decoded/{subject}/'\n",
    "\n",
    "# FOR OUR L1 MODEL\n",
    "savedir = f'../../decoded_l1/{subject}/'\n",
    "os.makedirs(savedir, exist_ok=True)"
   ]
  },
  {
   "cell_type": "code",
   "execution_count": null,
   "id": "32e15777",
   "metadata": {},
   "outputs": [],
   "source": []
  },
  {
   "cell_type": "code",
   "execution_count": 7,
   "id": "5822718d",
   "metadata": {},
   "outputs": [],
   "source": [
    "# # if target == 'c' or target == 'init_latent': # CVPR\n",
    "# #     alpha = [0.000001,0.00001,0.0001,0.001,0.01, 0.1, 1]\n",
    " \n",
    "# # For experimentations\n",
    "# if target == 'c' or target == 'init_latent': # CVPR\n",
    "#     alpha = [0.01]"
   ]
  },
  {
   "cell_type": "markdown",
   "id": "fc91e15f",
   "metadata": {},
   "source": [
    "# LOAD DATA"
   ]
  },
  {
   "cell_type": "code",
   "execution_count": 8,
   "id": "00ee62a6",
   "metadata": {},
   "outputs": [],
   "source": [
    "X = []\n",
    "X_te = []\n",
    "\n",
    "for croi in [roi]:\n",
    "    if 'conv' in target: # We use averaged features for GAN due to large number of dimension of features\n",
    "        cX = np.load(f'{mridir}/{subject}_{croi}_betas_ave_tr.npy').astype(\"float32\")\n",
    "    else:\n",
    "        cX = np.load(f'{mridir}/{subject}_{croi}_betas_tr.npy').astype(\"float32\")\n",
    "    \n",
    "    cX_te = np.load(f'{mridir}/{subject}_{croi}_betas_ave_te.npy').astype(\"float32\")\n",
    "    \n",
    "    X.append(cX)\n",
    "    X_te.append(cX_te)\n",
    "\n",
    "X = np.hstack(X)\n",
    "X_te = np.hstack(X_te)\n",
    "\n",
    "\n",
    "Y = np.load(f'{featdir}/{subject}_each_{target}_tr.npy').astype(\"float32\").reshape([24980,-1])\n",
    "Y_te = np.load(f'{featdir}/{subject}_ave_{target}_te.npy').astype(\"float32\").reshape([X_te.shape[0],-1])"
   ]
  },
  {
   "cell_type": "code",
   "execution_count": 9,
   "id": "75aafb3e",
   "metadata": {},
   "outputs": [
    {
     "name": "stdout",
     "output_type": "stream",
     "text": [
      "Now making decoding model for... subj01:  early, init_latent\n",
      "X (24980, 5917), Y (24980, 6400), X_te (982, 5917), Y_te (982, 6400)\n"
     ]
    }
   ],
   "source": [
    "print(f'Now making decoding model for... {subject}:  {roi}, {target}')\n",
    "print(f'X {X.shape}, Y {Y.shape}, X_te {X_te.shape}, Y_te {Y_te.shape}')"
   ]
  },
  {
   "cell_type": "markdown",
   "id": "a71f9c17",
   "metadata": {},
   "source": [
    "______\n",
    "_____"
   ]
  },
  {
   "cell_type": "code",
   "execution_count": 10,
   "id": "a27219fe",
   "metadata": {},
   "outputs": [],
   "source": [
    "# !nvidia-smi"
   ]
  },
  {
   "cell_type": "markdown",
   "id": "3227fc0b",
   "metadata": {},
   "source": [
    "# MODEL"
   ]
  },
  {
   "cell_type": "code",
   "execution_count": null,
   "id": "34cc8281",
   "metadata": {},
   "outputs": [],
   "source": []
  },
  {
   "cell_type": "code",
   "execution_count": 11,
   "id": "e0145618",
   "metadata": {},
   "outputs": [],
   "source": [
    "from sklearn.preprocessing import StandardScaler\n",
    "# Initialize the StandardScaler\n",
    "scaler = StandardScaler()\n",
    "# Fit the scaler on your data and transform it\n",
    "\n",
    "X = scaler.fit_transform(X)\n",
    "\n",
    "y_mean = np.mean(Y, axis=0)\n",
    "y_std = np.std(Y, axis=0)\n",
    "#Y = scaler.fit_transform(Y)\n",
    "\n",
    "X_te = scaler.fit_transform(X_te)\n",
    "#Y_te = scaler.fit_transform(Y_te)"
   ]
  },
  {
   "cell_type": "code",
   "execution_count": 12,
   "id": "f36ddc90",
   "metadata": {},
   "outputs": [
    {
     "data": {
      "text/plain": [
       "((24980, 5917), (24980, 6400))"
      ]
     },
     "execution_count": 12,
     "metadata": {},
     "output_type": "execute_result"
    }
   ],
   "source": [
    "X.shape, Y.shape"
   ]
  },
  {
   "cell_type": "code",
   "execution_count": null,
   "id": "e97def4d",
   "metadata": {},
   "outputs": [],
   "source": []
  },
  {
   "cell_type": "code",
   "execution_count": 13,
   "id": "ef65e6a2",
   "metadata": {},
   "outputs": [],
   "source": [
    "# Convert NumPy arrays to PyTorch tensors\n",
    "X_tensor_train = torch.tensor(X, dtype=torch.float16)\n",
    "Y_tensor_train = torch.tensor(Y, dtype=torch.float16)\n",
    "\n",
    "X_tensor_test = torch.tensor(X_te, dtype=torch.float16)\n",
    "Y_tensor_test = torch.tensor(Y_te, dtype=torch.float16)\n",
    "\n",
    "# Create a TensorDataset from the tensors\n",
    "train_dataset = TensorDataset(X_tensor_train, Y_tensor_train)\n",
    "test_dataset = TensorDataset(X_tensor_test, Y_tensor_test)\n",
    "\n",
    "# Set batch size for DataLoader\n",
    "batch_size = 1024\n",
    "# Create a DataLoader\n",
    "train_dataloader = DataLoader(train_dataset, batch_size=batch_size, shuffle=True)\n",
    "test_dataloader = DataLoader(test_dataset, batch_size=batch_size, shuffle=False)\n",
    "\n",
    "\n",
    "# Set input and output dimensions\n",
    "input_dim = X.shape[1] # 7604\n",
    "output_dim = Y.shape[1] # 59136\n",
    "# Training loop\n",
    "num_epochs = 1\n",
    "\n",
    "\n",
    "\n",
    "\n",
    "del X\n",
    "del X_te\n",
    "del Y\n",
    "del Y_te"
   ]
  },
  {
   "cell_type": "code",
   "execution_count": null,
   "id": "6a6c0d48",
   "metadata": {},
   "outputs": [],
   "source": []
  },
  {
   "cell_type": "code",
   "execution_count": null,
   "id": "5de8a4a9",
   "metadata": {},
   "outputs": [],
   "source": []
  },
  {
   "cell_type": "code",
   "execution_count": null,
   "id": "8ac71fc4",
   "metadata": {},
   "outputs": [],
   "source": []
  },
  {
   "cell_type": "code",
   "execution_count": null,
   "id": "31adc2b3",
   "metadata": {},
   "outputs": [],
   "source": []
  },
  {
   "cell_type": "code",
   "execution_count": 14,
   "id": "9241249e",
   "metadata": {},
   "outputs": [
    {
     "data": {
      "text/plain": [
       "Autoencoder(\n",
       "  (encoder): Sequential(\n",
       "    (0): Linear(in_features=6400, out_features=2500, bias=True)\n",
       "    (1): ReLU()\n",
       "    (2): Linear(in_features=2500, out_features=1000, bias=True)\n",
       "  )\n",
       "  (decoder): Sequential(\n",
       "    (0): Linear(in_features=1000, out_features=2500, bias=True)\n",
       "    (1): ReLU()\n",
       "    (2): Linear(in_features=2500, out_features=6400, bias=True)\n",
       "  )\n",
       "  (regularization): MSELoss()\n",
       ")"
      ]
     },
     "execution_count": 14,
     "metadata": {},
     "output_type": "execute_result"
    }
   ],
   "source": [
    "# Define the Ridge Regression model\n",
    "net = nn.Sequential(\n",
    "                    nn.Linear(X_tensor_train.shape[1], 10000),\n",
    "                    nn.ReLU(),\n",
    "                    nn.Linear(10000, 1000)\n",
    "                    )\n",
    "net = net.half()\n",
    "device = torch.device(\"cuda\" if torch.cuda.is_available() else \"cpu\")\n",
    "\n",
    "net = net.to(device)\n",
    "\n",
    "enc_dec.to(device)"
   ]
  },
  {
   "cell_type": "markdown",
   "id": "82c858e3",
   "metadata": {},
   "source": [
    "# TRAINING"
   ]
  },
  {
   "cell_type": "code",
   "execution_count": null,
   "id": "d40a68e5",
   "metadata": {},
   "outputs": [],
   "source": []
  },
  {
   "cell_type": "code",
   "execution_count": 15,
   "id": "3bfb6304",
   "metadata": {},
   "outputs": [
    {
     "name": "stdout",
     "output_type": "stream",
     "text": [
      "Tue Nov 28 23:14:36 2023       \r\n",
      "+---------------------------------------------------------------------------------------+\r\n",
      "| NVIDIA-SMI 530.30.02              Driver Version: 530.30.02    CUDA Version: 12.1     |\r\n",
      "|-----------------------------------------+----------------------+----------------------+\r\n",
      "| GPU  Name                  Persistence-M| Bus-Id        Disp.A | Volatile Uncorr. ECC |\r\n",
      "| Fan  Temp  Perf            Pwr:Usage/Cap|         Memory-Usage | GPU-Util  Compute M. |\r\n",
      "|                                         |                      |               MIG M. |\r\n",
      "|=========================================+======================+======================|\r\n",
      "|   0  NVIDIA GeForce RTX 3070 L...    On | 00000000:01:00.0 Off |                  N/A |\r\n",
      "| N/A   51C    P0               24W /  80W|   1753MiB /  8192MiB |      0%      Default |\r\n",
      "|                                         |                      |                  N/A |\r\n",
      "+-----------------------------------------+----------------------+----------------------+\r\n",
      "                                                                                         \r\n",
      "+---------------------------------------------------------------------------------------+\r\n",
      "| Processes:                                                                            |\r\n",
      "|  GPU   GI   CI        PID   Type   Process name                            GPU Memory |\r\n",
      "|        ID   ID                                                             Usage      |\r\n",
      "|=======================================================================================|\r\n",
      "|    0   N/A  N/A      2040      G   /usr/lib/xorg/Xorg                            4MiB |\r\n",
      "|    0   N/A  N/A      2280    C+G   ...libexec/gnome-remote-desktop-daemon      138MiB |\r\n",
      "|    0   N/A  N/A     14716      C   ...ditya/anaconda3/envs/ldm/bin/python     1606MiB |\r\n",
      "+---------------------------------------------------------------------------------------+\r\n"
     ]
    }
   ],
   "source": [
    "!nvidia-smi"
   ]
  },
  {
   "cell_type": "code",
   "execution_count": 16,
   "id": "98932bc8",
   "metadata": {},
   "outputs": [],
   "source": [
    "# Criterion and Optimiser\n",
    "criterion = nn.MSELoss()\n",
    "optimizer = optim.SGD(net.parameters(), lr=.1)"
   ]
  },
  {
   "cell_type": "code",
   "execution_count": null,
   "id": "aadc7763",
   "metadata": {},
   "outputs": [],
   "source": []
  },
  {
   "cell_type": "code",
   "execution_count": 17,
   "id": "cba261f0",
   "metadata": {
    "scrolled": false
   },
   "outputs": [
    {
     "name": "stdout",
     "output_type": "stream",
     "text": [
      "\tEpoch 1 Train Loss : 3.08975712  | Test Loss : 2.87304688\n",
      "\tEpoch 2 Train Loss : 3.04759995  | Test Loss : 2.81835938\n",
      "\tEpoch 3 Train Loss : 3.01468988  | Test Loss : 2.7734375\n",
      "\tEpoch 4 Train Loss : 2.9857192  | Test Loss : 2.73828125\n",
      "\tEpoch 5 Train Loss : 2.96019566  | Test Loss : 2.70703125\n",
      "\tEpoch 6 Train Loss : 2.93753315  | Test Loss : 2.6796875\n",
      "\tEpoch 7 Train Loss : 2.91785491  | Test Loss : 2.65820312\n",
      "\tEpoch 8 Train Loss : 2.89961844  | Test Loss : 2.640625\n",
      "\tEpoch 9 Train Loss : 2.8827243  | Test Loss : 2.62304688\n",
      "\tEpoch 10 Train Loss : 2.86744239  | Test Loss : 2.60742188\n",
      "\tEpoch 11 Train Loss : 2.85275408  | Test Loss : 2.59375\n",
      "\tEpoch 12 Train Loss : 2.83873849  | Test Loss : 2.578125\n",
      "\tEpoch 13 Train Loss : 2.82520016  | Test Loss : 2.56640625\n",
      "\tEpoch 14 Train Loss : 2.8117397  | Test Loss : 2.5546875\n",
      "\tEpoch 15 Train Loss : 2.79896104  | Test Loss : 2.54296875\n",
      "\tEpoch 16 Train Loss : 2.7860626  | Test Loss : 2.53125\n",
      "\tEpoch 17 Train Loss : 2.77350443  | Test Loss : 2.52148438\n",
      "\tEpoch 18 Train Loss : 2.76089903  | Test Loss : 2.50976562\n",
      "\tEpoch 19 Train Loss : 2.74893509  | Test Loss : 2.5\n",
      "\tEpoch 20 Train Loss : 2.73652422  | Test Loss : 2.49023438\n",
      "\tEpoch 21 Train Loss : 2.72472978  | Test Loss : 2.47851562\n",
      "\tEpoch 22 Train Loss : 2.71284277  | Test Loss : 2.47070312\n",
      "\tEpoch 23 Train Loss : 2.70092355  | Test Loss : 2.4609375\n",
      "\tEpoch 24 Train Loss : 2.68927236  | Test Loss : 2.45117188\n",
      "\tEpoch 25 Train Loss : 2.67751826  | Test Loss : 2.44140625\n",
      "\tEpoch 26 Train Loss : 2.66622861  | Test Loss : 2.43359375\n",
      "\tEpoch 27 Train Loss : 2.65466279  | Test Loss : 2.42578125\n",
      "\tEpoch 28 Train Loss : 2.64325804  | Test Loss : 2.41992188\n",
      "\tEpoch 29 Train Loss : 2.63214916  | Test Loss : 2.41015625\n",
      "\tEpoch 30 Train Loss : 2.62113128  | Test Loss : 2.40429688\n",
      "\tEpoch 31 Train Loss : 2.61012716  | Test Loss : 2.39453125\n",
      "\tEpoch 32 Train Loss : 2.59937294  | Test Loss : 2.38867188\n",
      "\tEpoch 33 Train Loss : 2.58847109  | Test Loss : 2.38085938\n",
      "\tEpoch 34 Train Loss : 2.57826824  | Test Loss : 2.375\n",
      "\tEpoch 35 Train Loss : 2.56717092  | Test Loss : 2.36914062\n",
      "\tEpoch 36 Train Loss : 2.55663249  | Test Loss : 2.36328125\n",
      "\tEpoch 37 Train Loss : 2.54645216  | Test Loss : 2.35742188\n",
      "\tEpoch 38 Train Loss : 2.53600099  | Test Loss : 2.3515625\n",
      "\tEpoch 39 Train Loss : 2.52567929  | Test Loss : 2.34570312\n",
      "\tEpoch 40 Train Loss : 2.51560373  | Test Loss : 2.33984375\n",
      "\tEpoch 41 Train Loss : 2.50545843  | Test Loss : 2.3359375\n",
      "\tEpoch 42 Train Loss : 2.49567279  | Test Loss : 2.33203125\n",
      "\tEpoch 43 Train Loss : 2.48574578  | Test Loss : 2.32617188\n",
      "\tEpoch 44 Train Loss : 2.47562143  | Test Loss : 2.3203125\n",
      "\tEpoch 45 Train Loss : 2.46594713  | Test Loss : 2.31640625\n",
      "\tEpoch 46 Train Loss : 2.45615868  | Test Loss : 2.3125\n",
      "\tEpoch 47 Train Loss : 2.44673301  | Test Loss : 2.30859375\n",
      "\tEpoch 48 Train Loss : 2.43682727  | Test Loss : 2.3046875\n",
      "\tEpoch 49 Train Loss : 2.42754266  | Test Loss : 2.30078125\n",
      "\tEpoch 50 Train Loss : 2.41819049  | Test Loss : 2.296875\n",
      "\tEpoch 51 Train Loss : 2.40879516  | Test Loss : 2.29492188\n",
      "\tEpoch 52 Train Loss : 2.39918153  | Test Loss : 2.29101562\n",
      "\tEpoch 53 Train Loss : 2.3900683  | Test Loss : 2.28710938\n",
      "\tEpoch 54 Train Loss : 2.38043341  | Test Loss : 2.28320312\n",
      "\tEpoch 55 Train Loss : 2.37126045  | Test Loss : 2.27929688\n",
      "\tEpoch 56 Train Loss : 2.36226888  | Test Loss : 2.27734375\n",
      "\tEpoch 57 Train Loss : 2.35311812  | Test Loss : 2.2734375\n",
      "\tEpoch 58 Train Loss : 2.34407682  | Test Loss : 2.26953125\n",
      "\tEpoch 59 Train Loss : 2.33477251  | Test Loss : 2.26757812\n",
      "\tEpoch 60 Train Loss : 2.32578688  | Test Loss : 2.265625\n",
      "\tEpoch 61 Train Loss : 2.31681971  | Test Loss : 2.26171875\n",
      "\tEpoch 62 Train Loss : 2.30755949  | Test Loss : 2.25976562\n",
      "\tEpoch 63 Train Loss : 2.29838746  | Test Loss : 2.2578125\n",
      "\tEpoch 64 Train Loss : 2.28982342  | Test Loss : 2.25390625\n",
      "\tEpoch 65 Train Loss : 2.28063576  | Test Loss : 2.25195312\n",
      "\tEpoch 66 Train Loss : 2.27163856  | Test Loss : 2.25\n",
      "\tEpoch 67 Train Loss : 2.26294317  | Test Loss : 2.24804688\n",
      "\tEpoch 68 Train Loss : 2.25420149  | Test Loss : 2.24609375\n",
      "\tEpoch 69 Train Loss : 2.24519178  | Test Loss : 2.2421875\n",
      "\tEpoch 70 Train Loss : 2.23642132  | Test Loss : 2.24023438\n",
      "\tEpoch 71 Train Loss : 2.22757831  | Test Loss : 2.24023438\n",
      "\tEpoch 72 Train Loss : 2.21876689  | Test Loss : 2.23828125\n",
      "\tEpoch 73 Train Loss : 2.21016032  | Test Loss : 2.234375\n",
      "\tEpoch 74 Train Loss : 2.20123286  | Test Loss : 2.23242188\n",
      "\tEpoch 75 Train Loss : 2.19280862  | Test Loss : 2.23242188\n",
      "\tEpoch 76 Train Loss : 2.18400283  | Test Loss : 2.22851562\n",
      "\tEpoch 77 Train Loss : 2.1753656  | Test Loss : 2.2265625\n",
      "\tEpoch 78 Train Loss : 2.16651947  | Test Loss : 2.2265625\n",
      "\tEpoch 79 Train Loss : 2.15805926  | Test Loss : 2.22265625\n",
      "\tEpoch 80 Train Loss : 2.14949241  | Test Loss : 2.22070312\n",
      "\tEpoch 81 Train Loss : 2.1410297  | Test Loss : 2.22070312\n",
      "\tEpoch 82 Train Loss : 2.13259045  | Test Loss : 2.21875\n",
      "\tEpoch 83 Train Loss : 2.12376151  | Test Loss : 2.21679688\n",
      "\tEpoch 84 Train Loss : 2.11546862  | Test Loss : 2.21679688\n",
      "\tEpoch 85 Train Loss : 2.10666314  | Test Loss : 2.21484375\n",
      "\tEpoch 86 Train Loss : 2.09776728  | Test Loss : 2.21289062\n",
      "\tEpoch 87 Train Loss : 2.08982467  | Test Loss : 2.21289062\n",
      "\tEpoch 88 Train Loss : 2.08116962  | Test Loss : 2.2109375\n",
      "\tEpoch 89 Train Loss : 2.07264624  | Test Loss : 2.2109375\n",
      "\tEpoch 90 Train Loss : 2.06450332  | Test Loss : 2.20703125\n",
      "\tEpoch 91 Train Loss : 2.05639449  | Test Loss : 2.20898438\n",
      "\tEpoch 92 Train Loss : 2.04789363  | Test Loss : 2.20703125\n",
      "\tEpoch 93 Train Loss : 2.03893177  | Test Loss : 2.20507812\n",
      "\tEpoch 94 Train Loss : 2.03072693  | Test Loss : 2.20507812\n",
      "\tEpoch 95 Train Loss : 2.02240574  | Test Loss : 2.20507812\n",
      "\tEpoch 96 Train Loss : 2.01427001  | Test Loss : 2.203125\n",
      "\tEpoch 97 Train Loss : 2.00576852  | Test Loss : 2.203125\n",
      "\tEpoch 98 Train Loss : 1.99756633  | Test Loss : 2.20117188\n",
      "\tEpoch 99 Train Loss : 1.98903717  | Test Loss : 2.19921875\n",
      "\tEpoch 100 Train Loss : 1.98115101  | Test Loss : 2.19921875\n",
      "\tEpoch 101 Train Loss : 1.97315165  | Test Loss : 2.19921875\n",
      "\tEpoch 102 Train Loss : 1.96527707  | Test Loss : 2.19921875\n",
      "\n",
      "\n",
      " BREAKING AT EPOCH 102\n",
      "110.28342938423157\n"
     ]
    }
   ],
   "source": [
    "tic = time.time()\n",
    "\n",
    "\n",
    "best_loss = float('inf')\n",
    "PATIENCE = 3\n",
    "loss_per=100\n",
    "\n",
    "train_losses = []\n",
    "test_losses = []\n",
    "num_epochs = 800\n",
    "\n",
    "\n",
    "for epoch in range(num_epochs):\n",
    "\n",
    "    total_loss = 0 \n",
    "    #print(f\"Starting Epoch : {epoch+1} \")\n",
    "    #print(f\"\\tProcessing BATCH   \", end='')\n",
    "    for batch_idx, batch in enumerate(train_dataloader):\n",
    "\n",
    "        #print(f\"{batch_idx+1} \", end='')\n",
    "        # batch is a tuple, where batch[0] is X and batch[1] is Y\n",
    "        x_batch, y_batch = batch\n",
    "        \n",
    "        x_batch = x_batch.to(device)\n",
    "        y_batch = y_batch.to(device)\n",
    "        \n",
    "        \n",
    "        # Forward pass\n",
    "        y_pred = net(x_batch)\n",
    "\n",
    "        y_batch = enc_dec.encoder(y_batch).detach()\n",
    "            \n",
    "        # Compute the loss with L1 regularization\n",
    "        loss = criterion(y_pred, y_batch)\n",
    "\n",
    "        # Backward pass and optimization\n",
    "        optimizer.zero_grad()\n",
    "        loss.backward()\n",
    "        optimizer.step()\n",
    "\n",
    "\n",
    "    train_loss = evaluate_loss(model=net, loader=train_dataloader, \n",
    "                               criterion=criterion, enc_dec=enc_dec)\n",
    "    train_losses.append(train_loss)\n",
    "\n",
    "    ########## VALIDATION LOSS ###########\n",
    "    test_loss = evaluate_loss(model=net, loader=test_dataloader, \n",
    "                              criterion=criterion, enc_dec=enc_dec)\n",
    "    test_losses.append(test_loss)\n",
    "\n",
    "    print(f\"\\tEpoch {epoch +1} Train Loss : {train_loss}  | Test Loss : {test_loss}\")\n",
    "    \n",
    "    \n",
    "#     if epoch>0:\n",
    "#         loss_per = ((old_loss-test_loss)/old_loss)*100\n",
    "    \n",
    "    if test_loss < best_loss:\n",
    "        \n",
    "        # SAVE BEST PARAMETERS\n",
    "        best_params = net.state_dict()\n",
    "        best_loss = test_loss\n",
    "        patience_counter=0\n",
    "        \n",
    "    else:\n",
    "        \n",
    "        patience_counter +=1\n",
    "        \n",
    "#     old_loss = test_loss\n",
    "    if patience_counter >= PATIENCE: # or abs(loss_per)<.05:\n",
    "        print(f\"\\n\\n BREAKING AT EPOCH {epoch+1}\")\n",
    "        break\n",
    "\n",
    "\n",
    "tok = time.time()\n",
    "print(tok-tic)\n",
    "    \n",
    "    \n",
    "        "
   ]
  },
  {
   "cell_type": "code",
   "execution_count": null,
   "id": "8731b862",
   "metadata": {},
   "outputs": [],
   "source": []
  },
  {
   "cell_type": "markdown",
   "id": "e27cddb9",
   "metadata": {},
   "source": [
    "# Prediction & Saving results"
   ]
  },
  {
   "cell_type": "code",
   "execution_count": 18,
   "id": "1244d187",
   "metadata": {},
   "outputs": [
    {
     "data": {
      "image/png": "[encoded data removed]",
      "text/plain": [
       "<Figure size 1000x500 with 1 Axes>"
      ]
     },
     "metadata": {},
     "output_type": "display_data"
    }
   ],
   "source": [
    "plot_losses(train_losses, test_losses)"
   ]
  },
  {
   "cell_type": "code",
   "execution_count": null,
   "id": "bc774dab",
   "metadata": {},
   "outputs": [],
   "source": []
  },
  {
   "cell_type": "code",
   "execution_count": 19,
   "id": "b9a4c48b",
   "metadata": {},
   "outputs": [],
   "source": [
    "net.eval()\n",
    "with torch.no_grad():\n",
    "    scores = enc_dec.decoder(net(X_tensor_test.to(device)))\n",
    "    scores = scores.to('cpu').numpy()\n",
    "net.train()\n",
    "\n",
    "np.save(f'{savedir}/{subject}_{roi}_scores_{target}.npy',scores)"
   ]
  },
  {
   "cell_type": "code",
   "execution_count": null,
   "id": "3674dd7c",
   "metadata": {},
   "outputs": [],
   "source": []
  },
  {
   "cell_type": "markdown",
   "id": "e1193e47",
   "metadata": {},
   "source": [
    "_____________________"
   ]
  },
  {
   "cell_type": "code",
   "execution_count": null,
   "id": "c5dfe8c2",
   "metadata": {},
   "outputs": [],
   "source": []
  }
 ],
 "metadata": {
  "kernelspec": {
   "display_name": "Python-LDM",
   "language": "python",
   "name": "ldm"
  },
  "language_info": {
   "codemirror_mode": {
    "name": "ipython",
    "version": 3
   },
   "file_extension": ".py",
   "mimetype": "text/x-python",
   "name": "python",
   "nbconvert_exporter": "python",
   "pygments_lexer": "ipython3",
   "version": "3.8.5"
  }
 },
 "nbformat": 4,
 "nbformat_minor": 5
}
