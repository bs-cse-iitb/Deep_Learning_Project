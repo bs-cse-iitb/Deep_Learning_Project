{
 "cells": [
  {
   "cell_type": "markdown",
   "id": "536791cb",
   "metadata": {},
   "source": [
    "# FUNCTIONS"
   ]
  },
  {
   "cell_type": "code",
   "execution_count": 1,
   "id": "a4b212c1",
   "metadata": {},
   "outputs": [],
   "source": [
    "def get_model_size(model):\n",
    "    total_params = sum(p.numel() for p in model.parameters())\n",
    "    total_size = sum(p.element_size() * p.numel() for p in model.parameters())\n",
    "    # SIZE in GB\n",
    "    print(f\"TOTAL PARAMS : {total_params}\")\n",
    "    print(f\"MODEL SIZE : {total_size/(1024**3)} GB\")\n",
    "\n",
    "    \n",
    "def evaluate_model(model, loader, criterion):\n",
    "    \n",
    "    model.eval()\n",
    "    total_loss=0\n",
    "    with torch.no_grad():\n",
    "        for batch in loader:\n",
    "\n",
    "            # Your training code here\n",
    "            batch = batch[0].to(device)  # Move data to the device if using GPU\n",
    "            outputs = model(batch)\n",
    "\n",
    "            recon_loss = criterion(outputs, batch).item()*len(batch)\n",
    "#             regularization_loss = model.calculate_regularization_loss()\n",
    "#             loss = recon_loss + regularization_loss\n",
    "\n",
    "            #train_loss_liss.append(round(loss.item(),6))\n",
    "            total_loss += round(recon_loss,6)\n",
    "        \n",
    "    total_loss = total_loss/len(loader.dataset)\n",
    "\n",
    "    model.train()\n",
    "    return total_loss"
   ]
  },
  {
   "cell_type": "markdown",
   "id": "4a1a86b8",
   "metadata": {},
   "source": [
    "# IMPORTS"
   ]
  },
  {
   "cell_type": "code",
   "execution_count": 2,
   "id": "ca72d4d2",
   "metadata": {},
   "outputs": [
    {
     "name": "stderr",
     "output_type": "stream",
     "text": [
      "/home/aditya/anaconda3/envs/ldm/lib/python3.8/site-packages/tqdm/auto.py:21: TqdmWarning: IProgress not found. Please update jupyter and ipywidgets. See https://ipywidgets.readthedocs.io/en/stable/user_install.html\n",
      "  from .autonotebook import tqdm as notebook_tqdm\n"
     ]
    }
   ],
   "source": [
    "import torch\n",
    "import torch.nn as nn\n",
    "import torch.optim as optim\n",
    "from torch.utils.data import DataLoader, TensorDataset\n",
    "from sklearn.model_selection import train_test_split\n",
    "from torch.utils.data import Dataset, DataLoader, TensorDataset\n",
    "\n",
    "# !nvidia-smi\n",
    "import argparse, os\n",
    "import numpy as np\n",
    "\n"
   ]
  },
  {
   "cell_type": "code",
   "execution_count": 3,
   "id": "ecbeff0f",
   "metadata": {},
   "outputs": [],
   "source": [
    "# python ridge.py --target c --roi ventral --subject subj01\n",
    "# python ridge.py --target init_latent --roi early --subject subj01"
   ]
  },
  {
   "cell_type": "markdown",
   "id": "c172705f",
   "metadata": {},
   "source": [
    "# SETUP"
   ]
  },
  {
   "cell_type": "code",
   "execution_count": 4,
   "id": "05dee7b0",
   "metadata": {},
   "outputs": [],
   "source": [
    "target = 'init_latent'\n",
    "roi = 'early'\n",
    "subject = 'subj01'\n",
    "# backend = set_backend(\"numpy\", on_error=\"warn\")\n",
    "\n",
    "mridir = f'../../mrifeat/{subject}/'\n",
    "featdir = '../../nsdfeat/subjfeat/'\n",
    "savedir = f'../..//decoded_net/{subject}/'\n",
    "os.makedirs(savedir, exist_ok=True)"
   ]
  },
  {
   "cell_type": "code",
   "execution_count": 5,
   "id": "00ee62a6",
   "metadata": {},
   "outputs": [],
   "source": [
    "X = []\n",
    "X_te = []\n",
    "\n",
    "for croi in [roi]:\n",
    "    if 'conv' in target: # We use averaged features for GAN due to large number of dimension of features\n",
    "        cX = np.load(f'{mridir}/{subject}_{croi}_betas_ave_tr.npy').astype(\"float32\")\n",
    "    else:\n",
    "        cX = np.load(f'{mridir}/{subject}_{croi}_betas_tr.npy').astype(\"float32\")\n",
    "    \n",
    "    cX_te = np.load(f'{mridir}/{subject}_{croi}_betas_ave_te.npy').astype(\"float32\")\n",
    "    \n",
    "    X.append(cX)\n",
    "    X_te.append(cX_te)\n",
    "\n",
    "X = np.hstack(X)\n",
    "X_te = np.hstack(X_te)\n",
    "\n",
    "\n",
    "Y = np.load(f'{featdir}/{subject}_each_{target}_tr.npy').astype(\"float32\").reshape([24980,-1])\n",
    "Y_te = np.load(f'{featdir}/{subject}_ave_{target}_te.npy').astype(\"float32\").reshape([X_te.shape[0],-1])"
   ]
  },
  {
   "cell_type": "code",
   "execution_count": 6,
   "id": "75aafb3e",
   "metadata": {},
   "outputs": [
    {
     "name": "stdout",
     "output_type": "stream",
     "text": [
      "Now making decoding model for... subj01:  early, init_latent\n",
      "X (24980, 5917), Y (24980, 6400), X_te (982, 5917), Y_te (982, 6400)\n"
     ]
    }
   ],
   "source": [
    "print(f'Now making decoding model for... {subject}:  {roi}, {target}')\n",
    "print(f'X {X.shape}, Y {Y.shape}, X_te {X_te.shape}, Y_te {Y_te.shape}')"
   ]
  },
  {
   "cell_type": "markdown",
   "id": "a71f9c17",
   "metadata": {},
   "source": [
    "______\n",
    "_____"
   ]
  },
  {
   "cell_type": "markdown",
   "id": "1be59933",
   "metadata": {},
   "source": [
    "## Subset small data : For Experimentation"
   ]
  },
  {
   "cell_type": "code",
   "execution_count": 7,
   "id": "4d014d28",
   "metadata": {},
   "outputs": [],
   "source": [
    "# num_samples = 500\n",
    "# X_train = X[:num_samples, :].copy()\n",
    "# Y_train = Y[:num_samples, :].copy()\n",
    "# X_test = X_te[:num_samples//5, :].copy()\n",
    "# Y_test = Y_te[:num_samples//5, :].copy()"
   ]
  },
  {
   "cell_type": "code",
   "execution_count": null,
   "id": "2f74a2cb",
   "metadata": {},
   "outputs": [],
   "source": []
  },
  {
   "cell_type": "markdown",
   "id": "e8c49dcc",
   "metadata": {},
   "source": [
    "_______\n",
    "_______"
   ]
  },
  {
   "cell_type": "markdown",
   "id": "ba4df8e9",
   "metadata": {},
   "source": [
    "# DATA"
   ]
  },
  {
   "cell_type": "code",
   "execution_count": 12,
   "id": "26e9903a",
   "metadata": {},
   "outputs": [],
   "source": [
    "# from sklearn.preprocessing import StandardScaler\n",
    "\n",
    "# # Initialize the StandardScaler\n",
    "# scaler = StandardScaler()\n",
    "\n",
    "# # Fit the scaler on your data and transform it\n",
    "# Y_total = scaler.fit_transform(Y)\n",
    "Y_total = Y"
   ]
  },
  {
   "cell_type": "code",
   "execution_count": 13,
   "id": "38bed5c8",
   "metadata": {},
   "outputs": [
    {
     "data": {
      "text/plain": [
       "((24980, 6400), -0.03880588, 0.98068917)"
      ]
     },
     "execution_count": 13,
     "metadata": {},
     "output_type": "execute_result"
    }
   ],
   "source": [
    "Y_total.shape, Y_total[:,2000].mean(), Y_total[:,2000].std()"
   ]
  },
  {
   "cell_type": "code",
   "execution_count": 14,
   "id": "078b4fb7",
   "metadata": {},
   "outputs": [],
   "source": [
    "# Split the data into training and testing sets\n",
    "Y_train, Y_val = train_test_split(Y_total, test_size=0.2, random_state=42)"
   ]
  },
  {
   "cell_type": "code",
   "execution_count": 15,
   "id": "7e78daa7",
   "metadata": {},
   "outputs": [],
   "source": [
    "# Convert data to PyTorch tensors\n",
    "Y_train_tensor = torch.tensor(Y_train, dtype=torch.float16)\n",
    "train_dataset = TensorDataset(Y_train_tensor)\n",
    "\n",
    "Y_val_tensor = torch.tensor(Y_val, dtype=torch.float16)\n",
    "val_dataset = TensorDataset(Y_val_tensor)\n",
    "\n",
    "# Create a DataLoader\n",
    "batch_size = 64  # Adjust as needed\n",
    "train_data_loader = DataLoader(train_dataset, batch_size=batch_size, shuffle=True)\n",
    "val_data_loader = DataLoader(val_dataset, batch_size=batch_size , shuffle=False)\n"
   ]
  },
  {
   "cell_type": "code",
   "execution_count": 16,
   "id": "75df3b97",
   "metadata": {},
   "outputs": [
    {
     "data": {
      "text/plain": [
       "((19984, 6400), (4996, 6400))"
      ]
     },
     "execution_count": 16,
     "metadata": {},
     "output_type": "execute_result"
    }
   ],
   "source": [
    "Y_train.shape, Y_val.shape"
   ]
  },
  {
   "cell_type": "code",
   "execution_count": 17,
   "id": "fa994089",
   "metadata": {},
   "outputs": [],
   "source": [
    "del Y_train\n",
    "del Y_val"
   ]
  },
  {
   "cell_type": "markdown",
   "id": "d69c03f6",
   "metadata": {},
   "source": [
    "# MODEL"
   ]
  },
  {
   "cell_type": "code",
   "execution_count": 18,
   "id": "4cf614b6",
   "metadata": {},
   "outputs": [],
   "source": [
    "# Define a more complex autoencoder model\n",
    "class Autoencoder(nn.Module):\n",
    "    def __init__(self, input_size, encoding_size, weight_decay=1e-4):\n",
    "        super(Autoencoder, self).__init__()\n",
    "        self.encoder = nn.Sequential(\n",
    "            nn.Linear(input_size, 2500),\n",
    "            nn.ReLU(),\n",
    "            nn.Linear(2500, encoding_size)\n",
    "        )\n",
    "        self.decoder = nn.Sequential(\n",
    "            nn.Linear(encoding_size, 2500),\n",
    "            nn.ReLU(),\n",
    "            nn.Linear(2500, input_size)\n",
    "        )\n",
    "        \n",
    "        # Add L2 regularization to the linear layers\n",
    "        self.regularization = nn.MSELoss(reduction='sum')\n",
    "        self.weight_decay = weight_decay\n",
    "\n",
    "    def forward(self, x):\n",
    "        x = self.encoder(x)\n",
    "        x = self.decoder(x)\n",
    "        return x\n",
    "    \n",
    "    def calculate_regularization_loss(self):\n",
    "        reg_loss = 0\n",
    "        for param in self.parameters():\n",
    "            reg_loss += self.regularization(param, torch.zeros_like(param))\n",
    "        return self.weight_decay * reg_loss\n",
    "        #return 0.0\n"
   ]
  },
  {
   "cell_type": "code",
   "execution_count": null,
   "id": "9a3a185c",
   "metadata": {},
   "outputs": [],
   "source": []
  },
  {
   "cell_type": "code",
   "execution_count": 19,
   "id": "f1490c52",
   "metadata": {},
   "outputs": [],
   "source": [
    "# Set the input and encoding dimensions\n",
    "input_size = Y_train_tensor.shape[1]  # 59136\n",
    "encoding_size = 1000  # Adjust the encoding size as needed\n",
    "#encoding_size = 512  # Adjust the encoding size as needed\n",
    "\n",
    "\n",
    "# Create the autoencoder model\n",
    "model = Autoencoder(input_size, encoding_size)\n",
    "model = model.half()"
   ]
  },
  {
   "cell_type": "code",
   "execution_count": 20,
   "id": "5294c020",
   "metadata": {},
   "outputs": [
    {
     "name": "stdout",
     "output_type": "stream",
     "text": [
      "TOTAL PARAMS : 37012400\n",
      "MODEL SIZE : 0.06894096732139587 GB\n"
     ]
    }
   ],
   "source": [
    "get_model_size(model)"
   ]
  },
  {
   "cell_type": "code",
   "execution_count": 21,
   "id": "94765ad7",
   "metadata": {},
   "outputs": [],
   "source": [
    "# torch.cuda.empty_cache()\n",
    "# !nvidia-smi"
   ]
  },
  {
   "cell_type": "code",
   "execution_count": 22,
   "id": "66851e8c",
   "metadata": {},
   "outputs": [
    {
     "data": {
      "text/plain": [
       "Autoencoder(\n",
       "  (encoder): Sequential(\n",
       "    (0): Linear(in_features=6400, out_features=2500, bias=True)\n",
       "    (1): ReLU()\n",
       "    (2): Linear(in_features=2500, out_features=1000, bias=True)\n",
       "  )\n",
       "  (decoder): Sequential(\n",
       "    (0): Linear(in_features=1000, out_features=2500, bias=True)\n",
       "    (1): ReLU()\n",
       "    (2): Linear(in_features=2500, out_features=6400, bias=True)\n",
       "  )\n",
       "  (regularization): MSELoss()\n",
       ")"
      ]
     },
     "execution_count": 22,
     "metadata": {},
     "output_type": "execute_result"
    }
   ],
   "source": [
    "device = torch.device(\"cuda\" if torch.cuda.is_available() else \"cpu\")\n",
    "model.to(device)"
   ]
  },
  {
   "cell_type": "code",
   "execution_count": 23,
   "id": "d5dddc35",
   "metadata": {},
   "outputs": [],
   "source": [
    "# torch.cuda.empty_cache()\n",
    "# !nvidia-smi"
   ]
  },
  {
   "cell_type": "code",
   "execution_count": 24,
   "id": "a89135d2",
   "metadata": {},
   "outputs": [],
   "source": [
    "# Define loss function and optimizer\n",
    "criterion = nn.MSELoss()\n",
    "optimizer = torch.optim.SGD(model.parameters(), lr=0.1, momentum=0.9)"
   ]
  },
  {
   "cell_type": "markdown",
   "id": "d8172565",
   "metadata": {},
   "source": [
    "# TRAINING"
   ]
  },
  {
   "cell_type": "code",
   "execution_count": 25,
   "id": "e8d8fb52",
   "metadata": {
    "scrolled": false
   },
   "outputs": [
    {
     "name": "stdout",
     "output_type": "stream",
     "text": [
      "EPOCH 1 COMPLETED | TRAIN LOSS :: 0.4983662711168935| VAL LOSS :: 0.49868684007205766\n",
      "EPOCH 2 COMPLETED | TRAIN LOSS :: 0.4541691947057646| VAL LOSS :: 0.4548097461969576\n",
      "EPOCH 3 COMPLETED | TRAIN LOSS :: 0.43658442378903123| VAL LOSS :: 0.4374306084867894\n",
      "EPOCH 4 COMPLETED | TRAIN LOSS :: 0.42340258927141716| VAL LOSS :: 0.42447571337069656\n",
      "EPOCH 5 COMPLETED | TRAIN LOSS :: 0.414605512510008| VAL LOSS :: 0.4158615954763811\n",
      "EPOCH 6 COMPLETED | TRAIN LOSS :: 0.4087058709467574| VAL LOSS :: 0.4100735666533227\n",
      "EPOCH 7 COMPLETED | TRAIN LOSS :: 0.4039407307345877| VAL LOSS :: 0.4054943172538031\n",
      "EPOCH 8 COMPLETED | TRAIN LOSS :: 0.4000860845176141| VAL LOSS :: 0.4017778676941553\n",
      "EPOCH 9 COMPLETED | TRAIN LOSS :: 0.3967038865592474| VAL LOSS :: 0.398525460968775\n",
      "EPOCH 10 COMPLETED | TRAIN LOSS :: 0.39351735293234585| VAL LOSS :: 0.39545757706164936\n",
      "EPOCH 11 COMPLETED | TRAIN LOSS :: 0.39093247252802243| VAL LOSS :: 0.39300053322658124\n",
      "EPOCH 12 COMPLETED | TRAIN LOSS :: 0.38878075115092076| VAL LOSS :: 0.39101456945556445\n",
      "EPOCH 13 COMPLETED | TRAIN LOSS :: 0.3869779417033627| VAL LOSS :: 0.3893022622097678\n",
      "EPOCH 14 COMPLETED | TRAIN LOSS :: 0.38533776240992795| VAL LOSS :: 0.3877862055644516\n",
      "EPOCH 15 COMPLETED | TRAIN LOSS :: 0.3841377789731785| VAL LOSS :: 0.3866931435148118\n",
      "EPOCH 16 COMPLETED | TRAIN LOSS :: 0.382906325060048| VAL LOSS :: 0.3855660700560448\n",
      "EPOCH 17 COMPLETED | TRAIN LOSS :: 0.38168523098478785| VAL LOSS :: 0.3844851271016813\n",
      "EPOCH 18 COMPLETED | TRAIN LOSS :: 0.38046022758206566| VAL LOSS :: 0.3833400704563651\n",
      "EPOCH 19 COMPLETED | TRAIN LOSS :: 0.37929523303642915| VAL LOSS :: 0.3823074083266613\n",
      "EPOCH 20 COMPLETED | TRAIN LOSS :: 0.37840780434347476| VAL LOSS :: 0.3814840934747798\n",
      "EPOCH 21 COMPLETED | TRAIN LOSS :: 0.37736595526421135| VAL LOSS :: 0.38066937930344275\n",
      "EPOCH 22 COMPLETED | TRAIN LOSS :: 0.3764900592473979| VAL LOSS :: 0.37984371877502004\n",
      "EPOCH 23 COMPLETED | TRAIN LOSS :: 0.37558992509007205| VAL LOSS :: 0.37906751180944753\n",
      "EPOCH 24 COMPLETED | TRAIN LOSS :: 0.3746495243194556| VAL LOSS :: 0.3783194523618895\n",
      "EPOCH 25 COMPLETED | TRAIN LOSS :: 0.3738584617694155| VAL LOSS :: 0.37761986929543634\n",
      "EPOCH 26 COMPLETED | TRAIN LOSS :: 0.37317705724579664| VAL LOSS :: 0.3770944489591673\n",
      "EPOCH 27 COMPLETED | TRAIN LOSS :: 0.3722470163630905| VAL LOSS :: 0.376296740592474\n",
      "EPOCH 28 COMPLETED | TRAIN LOSS :: 0.37165513660928745| VAL LOSS :: 0.3758641679343475\n",
      "EPOCH 29 COMPLETED | TRAIN LOSS :: 0.3709919107285829| VAL LOSS :: 0.37535184387510007\n",
      "EPOCH 30 COMPLETED | TRAIN LOSS :: 0.3700906037329864| VAL LOSS :: 0.3746160990792634\n",
      "EPOCH 31 COMPLETED | TRAIN LOSS :: 0.36952921712369896| VAL LOSS :: 0.37420893755004003\n",
      "EPOCH 32 COMPLETED | TRAIN LOSS :: 0.36891114456565255| VAL LOSS :: 0.3737740192153723\n",
      "EPOCH 33 COMPLETED | TRAIN LOSS :: 0.36831555089071255| VAL LOSS :: 0.3733602115692554\n",
      "EPOCH 34 COMPLETED | TRAIN LOSS :: 0.36760306680344274| VAL LOSS :: 0.37275562630104087\n",
      "EPOCH 35 COMPLETED | TRAIN LOSS :: 0.3669973087970376| VAL LOSS :: 0.37235804263410727\n",
      "EPOCH 36 COMPLETED | TRAIN LOSS :: 0.36652056019815854| VAL LOSS :: 0.37203884207365895\n",
      "EPOCH 37 COMPLETED | TRAIN LOSS :: 0.3659357173238591| VAL LOSS :: 0.37156033426741397\n",
      "EPOCH 38 COMPLETED | TRAIN LOSS :: 0.36527268689951964| VAL LOSS :: 0.37109120896717374\n",
      "EPOCH 39 COMPLETED | TRAIN LOSS :: 0.3647869467574059| VAL LOSS :: 0.37079331425140116\n",
      "EPOCH 40 COMPLETED | TRAIN LOSS :: 0.36411805224179344| VAL LOSS :: 0.3702931094875901\n",
      "EPOCH 41 COMPLETED | TRAIN LOSS :: 0.3637335650020016| VAL LOSS :: 0.3700636291032826\n",
      "EPOCH 42 COMPLETED | TRAIN LOSS :: 0.3631923116493195| VAL LOSS :: 0.3696975158126501\n",
      "EPOCH 43 COMPLETED | TRAIN LOSS :: 0.3625715025020016| VAL LOSS :: 0.36923132245796636\n",
      "EPOCH 44 COMPLETED | TRAIN LOSS :: 0.3622106669835869| VAL LOSS :: 0.36903077141713375\n",
      "EPOCH 45 COMPLETED | TRAIN LOSS :: 0.36172355854683746| VAL LOSS :: 0.3687741208967174\n",
      "EPOCH 46 COMPLETED | TRAIN LOSS :: 0.36125169665732587| VAL LOSS :: 0.368371064051241\n",
      "EPOCH 47 COMPLETED | TRAIN LOSS :: 0.36090864881905527| VAL LOSS :: 0.368216839071257\n",
      "EPOCH 48 COMPLETED | TRAIN LOSS :: 0.36038518314651724| VAL LOSS :: 0.36786030384307444\n",
      "EPOCH 49 COMPLETED | TRAIN LOSS :: 0.3600712601080865| VAL LOSS :: 0.3677314897918335\n",
      "EPOCH 50 COMPLETED | TRAIN LOSS :: 0.3596429878402722| VAL LOSS :: 0.36751862429943954\n",
      "EPOCH 51 COMPLETED | TRAIN LOSS :: 0.3591539246897518| VAL LOSS :: 0.3671118534827862\n",
      "EPOCH 52 COMPLETED | TRAIN LOSS :: 0.35877295586469177| VAL LOSS :: 0.3668618488791033\n",
      "EPOCH 53 COMPLETED | TRAIN LOSS :: 0.3584232620596477| VAL LOSS :: 0.36669570036028826\n",
      "EPOCH 54 COMPLETED | TRAIN LOSS :: 0.358199254703763| VAL LOSS :: 0.3666612978382706\n",
      "EPOCH 55 COMPLETED | TRAIN LOSS :: 0.35775339021216973| VAL LOSS :: 0.3663016351080865\n",
      "EPOCH 56 COMPLETED | TRAIN LOSS :: 0.3574197248298639| VAL LOSS :: 0.36612571317053644\n",
      "EPOCH 57 COMPLETED | TRAIN LOSS :: 0.35704246992594074| VAL LOSS :: 0.36590932906325063\n",
      "EPOCH 58 COMPLETED | TRAIN LOSS :: 0.35667127451961567| VAL LOSS :: 0.36573770736589273\n",
      "EPOCH 59 COMPLETED | TRAIN LOSS :: 0.35629851536228985| VAL LOSS :: 0.36548418414731787\n",
      "EPOCH 60 COMPLETED | TRAIN LOSS :: 0.3559621134407526| VAL LOSS :: 0.3652795282225781\n",
      "EPOCH 61 COMPLETED | TRAIN LOSS :: 0.35561574259407525| VAL LOSS :: 0.36511846196957565\n",
      "EPOCH 62 COMPLETED | TRAIN LOSS :: 0.35524747923338673| VAL LOSS :: 0.3648416779423539\n",
      "EPOCH 63 COMPLETED | TRAIN LOSS :: 0.35507175270216174| VAL LOSS :: 0.36483698678943155\n",
      "EPOCH 64 COMPLETED | TRAIN LOSS :: 0.35469821166933546| VAL LOSS :: 0.3645719309447558\n",
      "EPOCH 65 COMPLETED | TRAIN LOSS :: 0.3542240042033627| VAL LOSS :: 0.3641788430744596\n",
      "EPOCH 66 COMPLETED | TRAIN LOSS :: 0.35410359537630104| VAL LOSS :: 0.3641978036429143\n",
      "EPOCH 67 COMPLETED | TRAIN LOSS :: 0.35384772663130504| VAL LOSS :: 0.36408384527622095\n",
      "EPOCH 68 COMPLETED | TRAIN LOSS :: 0.3535386903022418| VAL LOSS :: 0.3639309885908727\n",
      "EPOCH 69 COMPLETED | TRAIN LOSS :: 0.35329826361088873| VAL LOSS :: 0.3638537784227382\n",
      "EPOCH 70 COMPLETED | TRAIN LOSS :: 0.3530695650520416| VAL LOSS :: 0.3637339559647718\n",
      "EPOCH 71 COMPLETED | TRAIN LOSS :: 0.3527282763710969| VAL LOSS :: 0.36349665672538034\n",
      "EPOCH 72 COMPLETED | TRAIN LOSS :: 0.3525402352882306| VAL LOSS :: 0.36340009507606086\n",
      "EPOCH 73 COMPLETED | TRAIN LOSS :: 0.3522550462369896| VAL LOSS :: 0.36325153863090476\n",
      "EPOCH 74 COMPLETED | TRAIN LOSS :: 0.35205488610888713| VAL LOSS :: 0.36318586108887113\n",
      "EPOCH 75 COMPLETED | TRAIN LOSS :: 0.3517331443154524| VAL LOSS :: 0.3629112273819055\n",
      "EPOCH 76 COMPLETED | TRAIN LOSS :: 0.351646551591273| VAL LOSS :: 0.36293272898318657\n",
      "EPOCH 77 COMPLETED | TRAIN LOSS :: 0.3514008472277822| VAL LOSS :: 0.36284848198558844\n",
      "EPOCH 78 COMPLETED | TRAIN LOSS :: 0.3510163599879904| VAL LOSS :: 0.36255039191353083\n",
      "EPOCH 79 COMPLETED | TRAIN LOSS :: 0.35081053122497996| VAL LOSS :: 0.3624663402722178\n",
      "EPOCH 80 COMPLETED | TRAIN LOSS :: 0.3505052088670937| VAL LOSS :: 0.362343585868695\n",
      "EPOCH 81 COMPLETED | TRAIN LOSS :: 0.35027533746997597| VAL LOSS :: 0.3621406891513211\n",
      "EPOCH 82 COMPLETED | TRAIN LOSS :: 0.3501183759507606| VAL LOSS :: 0.3621246607285829\n",
      "EPOCH 83 COMPLETED | TRAIN LOSS :: 0.34980973058446757| VAL LOSS :: 0.3618707465972778\n",
      "EPOCH 84 COMPLETED | TRAIN LOSS :: 0.34965355094075257| VAL LOSS :: 0.36183302101681347\n",
      "EPOCH 85 COMPLETED | TRAIN LOSS :: 0.34954623854083267| VAL LOSS :: 0.3617911907526021\n",
      "EPOCH 86 COMPLETED | TRAIN LOSS :: 0.3493722712670136| VAL LOSS :: 0.36174564651721375\n",
      "EPOCH 87 COMPLETED | TRAIN LOSS :: 0.3490092855784628| VAL LOSS :: 0.36144227882305846\n",
      "EPOCH 88 COMPLETED | TRAIN LOSS :: 0.34883238620896717| VAL LOSS :: 0.3614027940352282\n",
      "EPOCH 89 COMPLETED | TRAIN LOSS :: 0.34878625555444354| VAL LOSS :: 0.3614755086068855\n",
      "EPOCH 90 COMPLETED | TRAIN LOSS :: 0.3485544294935949| VAL LOSS :: 0.3612972409927942\n",
      "EPOCH 91 COMPLETED | TRAIN LOSS :: 0.3482766682345877| VAL LOSS :: 0.36113187429943955\n",
      "EPOCH 92 COMPLETED | TRAIN LOSS :: 0.34804034632706166| VAL LOSS :: 0.360986445356285\n",
      "EPOCH 93 COMPLETED | TRAIN LOSS :: 0.34806477992393914| VAL LOSS :: 0.3610697151721377\n",
      "EPOCH 94 COMPLETED | TRAIN LOSS :: 0.3476924117293835| VAL LOSS :: 0.36082225160128106\n",
      "EPOCH 95 COMPLETED | TRAIN LOSS :: 0.347574153072458| VAL LOSS :: 0.3607364407526021\n"
     ]
    },
    {
     "name": "stdout",
     "output_type": "stream",
     "text": [
      "EPOCH 96 COMPLETED | TRAIN LOSS :: 0.34733177166733387| VAL LOSS :: 0.36062482806244994\n",
      "EPOCH 97 COMPLETED | TRAIN LOSS :: 0.34716972798238593| VAL LOSS :: 0.36055348178542834\n",
      "EPOCH 98 COMPLETED | TRAIN LOSS :: 0.3469357517514011| VAL LOSS :: 0.3603453074459568\n",
      "EPOCH 99 COMPLETED | TRAIN LOSS :: 0.3468765246697358| VAL LOSS :: 0.3604641525220176\n",
      "EPOCH 100 COMPLETED | TRAIN LOSS :: 0.34653464956965574| VAL LOSS :: 0.36021453883106486\n",
      "EPOCH 101 COMPLETED | TRAIN LOSS :: 0.3465061111389111| VAL LOSS :: 0.3601549207365893\n",
      "EPOCH 102 COMPLETED | TRAIN LOSS :: 0.34626451160928745| VAL LOSS :: 0.36013596036829465\n",
      "EPOCH 103 COMPLETED | TRAIN LOSS :: 0.34616951371096877| VAL LOSS :: 0.3600777105684548\n",
      "EPOCH 104 COMPLETED | TRAIN LOSS :: 0.345957039081265| VAL LOSS :: 0.3598640630504404\n",
      "EPOCH 105 COMPLETED | TRAIN LOSS :: 0.3458767013610889| VAL LOSS :: 0.359904329663731\n",
      "EPOCH 106 COMPLETED | TRAIN LOSS :: 0.3456960881204964| VAL LOSS :: 0.35972039351481183\n",
      "EPOCH 107 COMPLETED | TRAIN LOSS :: 0.3454683668935148| VAL LOSS :: 0.35963868755004\n",
      "EPOCH 108 COMPLETED | TRAIN LOSS :: 0.3453575360288231| VAL LOSS :: 0.35958219695756605\n",
      "EPOCH 109 COMPLETED | TRAIN LOSS :: 0.3452339996997598| VAL LOSS :: 0.359503814051241\n",
      "EPOCH 110 COMPLETED | TRAIN LOSS :: 0.3451047947858287| VAL LOSS :: 0.3595309841873499\n",
      "EPOCH 111 COMPLETED | TRAIN LOSS :: 0.3450121425140112| VAL LOSS :: 0.3594944315452362\n",
      "EPOCH 112 COMPLETED | TRAIN LOSS :: 0.34475451456164935| VAL LOSS :: 0.3592690558446757\n",
      "EPOCH 113 COMPLETED | TRAIN LOSS :: 0.34458953883106486| VAL LOSS :: 0.3591783582866293\n",
      "EPOCH 114 COMPLETED | TRAIN LOSS :: 0.3445338301641313| VAL LOSS :: 0.35913437790232183\n",
      "EPOCH 115 COMPLETED | TRAIN LOSS :: 0.3443737411929544| VAL LOSS :: 0.3590710458366693\n",
      "EPOCH 116 COMPLETED | TRAIN LOSS :: 0.34423046252001605| VAL LOSS :: 0.35906537730184146\n",
      "EPOCH 117 COMPLETED | TRAIN LOSS :: 0.344111226481185| VAL LOSS :: 0.35896803382706166\n",
      "EPOCH 118 COMPLETED | TRAIN LOSS :: 0.3439468371697358| VAL LOSS :: 0.35886775820656525\n",
      "EPOCH 119 COMPLETED | TRAIN LOSS :: 0.343917907776221| VAL LOSS :: 0.35889707866293036\n",
      "EPOCH 120 COMPLETED | TRAIN LOSS :: 0.3437419857886309| VAL LOSS :: 0.3587399215372298\n",
      "EPOCH 121 COMPLETED | TRAIN LOSS :: 0.34358639256405127| VAL LOSS :: 0.35867326681345074\n",
      "EPOCH 122 COMPLETED | TRAIN LOSS :: 0.3433948330664532| VAL LOSS :: 0.3585651725380304\n",
      "EPOCH 123 COMPLETED | TRAIN LOSS :: 0.34333345581465174| VAL LOSS :: 0.3585491439151321\n",
      "EPOCH 124 COMPLETED | TRAIN LOSS :: 0.34314091898518817| VAL LOSS :: 0.358392573458767\n",
      "EPOCH 125 COMPLETED | TRAIN LOSS :: 0.3431239131805444| VAL LOSS :: 0.35844710928742995\n",
      "EPOCH 126 COMPLETED | TRAIN LOSS :: 0.3429368494795837| VAL LOSS :: 0.3583268959167334\n",
      "EPOCH 127 COMPLETED | TRAIN LOSS :: 0.3428471292534027| VAL LOSS :: 0.35826024099279424\n",
      "EPOCH 128 COMPLETED | TRAIN LOSS :: 0.34266886163931143| VAL LOSS :: 0.35809995656525223\n",
      "EPOCH 129 COMPLETED | TRAIN LOSS :: 0.34257464566653323| VAL LOSS :: 0.3580675086068855\n",
      "EPOCH 130 COMPLETED | TRAIN LOSS :: 0.34240341493194554| VAL LOSS :: 0.3580610582465973\n",
      "EPOCH 131 COMPLETED | TRAIN LOSS :: 0.34237898133506806| VAL LOSS :: 0.3580385792634107\n",
      "EPOCH 132 COMPLETED | TRAIN LOSS :: 0.3421696341573259| VAL LOSS :: 0.3578796631305044\n",
      "EPOCH 133 COMPLETED | TRAIN LOSS :: 0.3420543074959968| VAL LOSS :: 0.35777489171337074\n",
      "EPOCH 134 COMPLETED | TRAIN LOSS :: 0.34198804353482787| VAL LOSS :: 0.357794829663731\n",
      "EPOCH 135 COMPLETED | TRAIN LOSS :: 0.3418875725580464| VAL LOSS :: 0.3577473306645316\n",
      "EPOCH 136 COMPLETED | TRAIN LOSS :: 0.34176110418334665| VAL LOSS :: 0.35772016052842276\n",
      "EPOCH 137 COMPLETED | TRAIN LOSS :: 0.34166200145116093| VAL LOSS :: 0.35770119995996796\n",
      "EPOCH 138 COMPLETED | TRAIN LOSS :: 0.3416958176040833| VAL LOSS :: 0.3577297383907126\n",
      "EPOCH 139 COMPLETED | TRAIN LOSS :: 0.341429784427542| VAL LOSS :: 0.35755029803843075\n",
      "EPOCH 140 COMPLETED | TRAIN LOSS :: 0.3413435826661329| VAL LOSS :: 0.35748422958366693\n",
      "EPOCH 141 COMPLETED | TRAIN LOSS :: 0.34124096151921535| VAL LOSS :: 0.35743438490792634\n",
      "EPOCH 142 COMPLETED | TRAIN LOSS :: 0.34121379133306645| VAL LOSS :: 0.357425784427542\n",
      "EPOCH 143 COMPLETED | TRAIN LOSS :: 0.3409888066953563| VAL LOSS :: 0.35726980024019217\n",
      "EPOCH 144 COMPLETED | TRAIN LOSS :: 0.3409958435248199| VAL LOSS :: 0.35737593975180143\n",
      "EPOCH 145 COMPLETED | TRAIN LOSS :: 0.3409207835268215| VAL LOSS :: 0.3572895426341073\n",
      "EPOCH 146 COMPLETED | TRAIN LOSS :: 0.34077046792433946| VAL LOSS :: 0.35720588190552444\n",
      "EPOCH 147 COMPLETED | TRAIN LOSS :: 0.3406451723879103| VAL LOSS :: 0.35715877381905525\n",
      "EPOCH 148 COMPLETED | TRAIN LOSS :: 0.3405165538931145| VAL LOSS :: 0.3570768724979984\n",
      "EPOCH 149 COMPLETED | TRAIN LOSS :: 0.3406135064051241| VAL LOSS :: 0.3572434119295436\n",
      "EPOCH 150 COMPLETED | TRAIN LOSS :: 0.34049270666533227| VAL LOSS :: 0.35717734347477986\n",
      "EPOCH 151 COMPLETED | TRAIN LOSS :: 0.3403590059547638| VAL LOSS :: 0.357054784427542\n",
      "EPOCH 152 COMPLETED | TRAIN LOSS :: 0.34026166242994393| VAL LOSS :: 0.3570027896317054\n",
      "EPOCH 153 COMPLETED | TRAIN LOSS :: 0.3401025507906325| VAL LOSS :: 0.35691443775020015\n",
      "EPOCH 154 COMPLETED | TRAIN LOSS :: 0.34004723308646917| VAL LOSS :: 0.3568698708967174\n",
      "EPOCH 155 COMPLETED | TRAIN LOSS :: 0.33990297708166534| VAL LOSS :: 0.35679637449959967\n",
      "EPOCH 156 COMPLETED | TRAIN LOSS :: 0.3398947673638911| VAL LOSS :: 0.3568782760208166\n",
      "EPOCH 157 COMPLETED | TRAIN LOSS :: 0.3397505113590873| VAL LOSS :: 0.3567152550040032\n",
      "EPOCH 158 COMPLETED | TRAIN LOSS :: 0.33976653978182547| VAL LOSS :: 0.35682159007205766\n"
     ]
    },
    {
     "ename": "KeyboardInterrupt",
     "evalue": "",
     "output_type": "error",
     "traceback": [
      "\u001b[0;31m---------------------------------------------------------------------------\u001b[0m",
      "\u001b[0;31mKeyboardInterrupt\u001b[0m                         Traceback (most recent call last)",
      "Cell \u001b[0;32mIn[25], line 14\u001b[0m\n\u001b[1;32m     10\u001b[0m \u001b[38;5;28;01mfor\u001b[39;00m batch_idx, batch \u001b[38;5;129;01min\u001b[39;00m \u001b[38;5;28menumerate\u001b[39m(train_data_loader):\n\u001b[1;32m     11\u001b[0m \n\u001b[1;32m     12\u001b[0m     \u001b[38;5;66;03m# Your training code here\u001b[39;00m\n\u001b[1;32m     13\u001b[0m     batch \u001b[38;5;241m=\u001b[39m batch[\u001b[38;5;241m0\u001b[39m]\u001b[38;5;241m.\u001b[39mto(device)  \u001b[38;5;66;03m# Move data to the device if using GPU\u001b[39;00m\n\u001b[0;32m---> 14\u001b[0m     \u001b[43moptimizer\u001b[49m\u001b[38;5;241;43m.\u001b[39;49m\u001b[43mzero_grad\u001b[49m\u001b[43m(\u001b[49m\u001b[43m)\u001b[49m\n\u001b[1;32m     15\u001b[0m     outputs \u001b[38;5;241m=\u001b[39m model(batch)\n\u001b[1;32m     17\u001b[0m     \u001b[38;5;66;03m# TOTAL LOSS\u001b[39;00m\n",
      "File \u001b[0;32m~/anaconda3/envs/ldm/lib/python3.8/site-packages/torch/optim/optimizer.py:210\u001b[0m, in \u001b[0;36mOptimizer.zero_grad\u001b[0;34m(self, set_to_none)\u001b[0m\n\u001b[1;32m    208\u001b[0m \u001b[38;5;28;01mif\u001b[39;00m foreach:\n\u001b[1;32m    209\u001b[0m     per_device_and_dtype_grads \u001b[38;5;241m=\u001b[39m defaultdict(\u001b[38;5;28;01mlambda\u001b[39;00m: defaultdict(\u001b[38;5;28mlist\u001b[39m))\n\u001b[0;32m--> 210\u001b[0m \u001b[38;5;28;01mwith\u001b[39;00m torch\u001b[38;5;241m.\u001b[39mautograd\u001b[38;5;241m.\u001b[39mprofiler\u001b[38;5;241m.\u001b[39mrecord_function(\u001b[38;5;28mself\u001b[39m\u001b[38;5;241m.\u001b[39m_zero_grad_profile_name):\n\u001b[1;32m    211\u001b[0m     \u001b[38;5;28;01mfor\u001b[39;00m group \u001b[38;5;129;01min\u001b[39;00m \u001b[38;5;28mself\u001b[39m\u001b[38;5;241m.\u001b[39mparam_groups:\n\u001b[1;32m    212\u001b[0m         \u001b[38;5;28;01mfor\u001b[39;00m p \u001b[38;5;129;01min\u001b[39;00m group[\u001b[38;5;124m'\u001b[39m\u001b[38;5;124mparams\u001b[39m\u001b[38;5;124m'\u001b[39m]:\n",
      "File \u001b[0;32m~/anaconda3/envs/ldm/lib/python3.8/site-packages/torch/autograd/profiler.py:436\u001b[0m, in \u001b[0;36mrecord_function.__enter__\u001b[0;34m(self)\u001b[0m\n\u001b[1;32m    435\u001b[0m \u001b[38;5;28;01mdef\u001b[39;00m \u001b[38;5;21m__enter__\u001b[39m(\u001b[38;5;28mself\u001b[39m):\n\u001b[0;32m--> 436\u001b[0m     \u001b[38;5;28mself\u001b[39m\u001b[38;5;241m.\u001b[39mhandle \u001b[38;5;241m=\u001b[39m \u001b[43mtorch\u001b[49m\u001b[38;5;241;43m.\u001b[39;49m\u001b[43mops\u001b[49m\u001b[38;5;241;43m.\u001b[39;49m\u001b[43mprofiler\u001b[49m\u001b[38;5;241;43m.\u001b[39;49m\u001b[43m_record_function_enter\u001b[49m\u001b[43m(\u001b[49m\u001b[38;5;28;43mself\u001b[39;49m\u001b[38;5;241;43m.\u001b[39;49m\u001b[43mname\u001b[49m\u001b[43m,\u001b[49m\u001b[43m \u001b[49m\u001b[38;5;28;43mself\u001b[39;49m\u001b[38;5;241;43m.\u001b[39;49m\u001b[43margs\u001b[49m\u001b[43m)\u001b[49m\n\u001b[1;32m    437\u001b[0m     \u001b[38;5;28;01mreturn\u001b[39;00m \u001b[38;5;28mself\u001b[39m\n",
      "\u001b[0;31mKeyboardInterrupt\u001b[0m: "
     ]
    }
   ],
   "source": [
    "num_epochs = 500\n",
    "train_loss_liss = []\n",
    "val_loss_liss = []\n",
    "best_loss = float('inf')\n",
    "PATIENCE = 3\n",
    "loss_per=100\n",
    "\n",
    "for epoch in range(num_epochs):\n",
    "\n",
    "    for batch_idx, batch in enumerate(train_data_loader):\n",
    "    \n",
    "        # Your training code here\n",
    "        batch = batch[0].to(device)  # Move data to the device if using GPU\n",
    "        optimizer.zero_grad()\n",
    "        outputs = model(batch)\n",
    "        \n",
    "        # TOTAL LOSS\n",
    "        recon_loss = criterion(outputs, batch)\n",
    "        regularization_loss = model.calculate_regularization_loss()\n",
    "        loss = recon_loss + regularization_loss\n",
    "        \n",
    "        loss.backward()\n",
    "        optimizer.step()\n",
    "        \n",
    "\n",
    "    # AT THE END OF EPOCH\n",
    "    val_loss = evaluate_model(model=model, loader=val_data_loader, criterion=criterion)\n",
    "    train_loss = evaluate_model(model=model, loader=train_data_loader, criterion=criterion)\n",
    "    \n",
    "    if epoch>0:\n",
    "        loss_per = ((old_loss-val_loss)/old_loss)*100\n",
    "    \n",
    "    if val_loss < best_loss:\n",
    "        \n",
    "        # SAVE BEST PARAMETERS\n",
    "        best_params = model.state_dict()\n",
    "        best_loss = val_loss\n",
    "        patience_counter=0\n",
    "        \n",
    "    else:\n",
    "        \n",
    "        patience_counter +=1\n",
    "        \n",
    "    \n",
    "    \n",
    "    \n",
    "    old_loss = val_loss\n",
    "    \n",
    "    \n",
    "    val_loss_liss.append(val_loss)\n",
    "    train_loss_liss.append(train_loss)\n",
    "    \n",
    "    print(f\"EPOCH {epoch+1} COMPLETED | TRAIN LOSS :: {train_loss}| VAL LOSS :: {val_loss}\")\n",
    "    \n",
    "    if patience_counter >= PATIENCE: # or loss_per<.01:\n",
    "        print(f\"\\n\\n BREAKING AT EPOCH {epoch+1}\")\n",
    "        break"
   ]
  },
  {
   "cell_type": "markdown",
   "id": "b6a73b13",
   "metadata": {},
   "source": [
    "# PLOT LOSSES "
   ]
  },
  {
   "cell_type": "code",
   "execution_count": 26,
   "id": "bf60abb3",
   "metadata": {},
   "outputs": [
    {
     "data": {
      "image/png": "[encoded data removed]",
      "text/plain": [
       "<Figure size 640x480 with 1 Axes>"
      ]
     },
     "metadata": {},
     "output_type": "display_data"
    }
   ],
   "source": [
    "import matplotlib.pyplot as plt\n",
    "\n",
    "# Assuming you have a list of x and y values\n",
    "x_values = np.array(range(len(train_loss_liss))) + 1\n",
    "y_values = np.array(train_loss_liss)\n",
    "\n",
    "\n",
    "# Create a scatter plot\n",
    "plt.scatter(x_values, y_values, label = 'TRAIN')\n",
    "plt.scatter(x_values, np.array(val_loss_liss), label = 'VAL')\n",
    "\n",
    "plt.grid()\n",
    "plt.xlabel('Epochs')\n",
    "plt.ylabel('MSE Loss')\n",
    "plt.title('Autoencoder Loss vs epochs')\n",
    "plt.legend()\n",
    "\n",
    "plt.show()"
   ]
  },
  {
   "cell_type": "markdown",
   "id": "0c8347a7",
   "metadata": {},
   "source": [
    "# SAVE MODEL"
   ]
  },
  {
   "cell_type": "code",
   "execution_count": 27,
   "id": "bb481c4d",
   "metadata": {},
   "outputs": [],
   "source": [
    "# Save the entire model (including parameters, architecture, and optimizer state)\n",
    "torch.save(model, 'autoencoder_init_latent_early.pth')\n",
    "#torch.save(best_params, 'autoencoder_trained_params_init_latent_early.pth')"
   ]
  },
  {
   "cell_type": "markdown",
   "id": "0e2960f4",
   "metadata": {},
   "source": [
    "# LOAD MODEL"
   ]
  },
  {
   "cell_type": "code",
   "execution_count": 28,
   "id": "c05e9bd8",
   "metadata": {},
   "outputs": [],
   "source": [
    "# Load the entire model\n",
    "model_init_latent_early = torch.load('autoencoder_init_latent_early.pth')\n"
   ]
  },
  {
   "cell_type": "code",
   "execution_count": 29,
   "id": "6cd63358",
   "metadata": {},
   "outputs": [
    {
     "data": {
      "text/plain": [
       "Autoencoder(\n",
       "  (encoder): Sequential(\n",
       "    (0): Linear(in_features=6400, out_features=2500, bias=True)\n",
       "    (1): ReLU()\n",
       "    (2): Linear(in_features=2500, out_features=1000, bias=True)\n",
       "  )\n",
       "  (decoder): Sequential(\n",
       "    (0): Linear(in_features=1000, out_features=2500, bias=True)\n",
       "    (1): ReLU()\n",
       "    (2): Linear(in_features=2500, out_features=6400, bias=True)\n",
       "  )\n",
       "  (regularization): MSELoss()\n",
       ")"
      ]
     },
     "execution_count": 29,
     "metadata": {},
     "output_type": "execute_result"
    }
   ],
   "source": [
    "model_init_latent_early"
   ]
  },
  {
   "cell_type": "code",
   "execution_count": null,
   "id": "8281f89b",
   "metadata": {},
   "outputs": [],
   "source": []
  }
 ],
 "metadata": {
  "kernelspec": {
   "display_name": "Python-LDM",
   "language": "python",
   "name": "ldm"
  },
  "language_info": {
   "codemirror_mode": {
    "name": "ipython",
    "version": 3
   },
   "file_extension": ".py",
   "mimetype": "text/x-python",
   "name": "python",
   "nbconvert_exporter": "python",
   "pygments_lexer": "ipython3",
   "version": "3.8.5"
  }
 },
 "nbformat": 4,
 "nbformat_minor": 5
}
