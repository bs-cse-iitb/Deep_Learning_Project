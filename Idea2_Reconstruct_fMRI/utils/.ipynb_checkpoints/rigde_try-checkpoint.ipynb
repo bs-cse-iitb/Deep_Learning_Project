{
 "cells": [
  {
   "cell_type": "code",
   "execution_count": 1,
   "id": "dc961a2c",
   "metadata": {},
   "outputs": [],
   "source": [
    "import argparse, os\n",
    "import numpy as np\n",
    "from himalaya.backend import set_backend\n",
    "from himalaya.ridge import RidgeCV\n",
    "from himalaya.scoring import correlation_score\n",
    "from sklearn.pipeline import make_pipeline\n",
    "from sklearn.preprocessing import StandardScaler\n",
    "import time"
   ]
  },
  {
   "cell_type": "code",
   "execution_count": 2,
   "id": "ecbeff0f",
   "metadata": {},
   "outputs": [],
   "source": [
    "# python ridge.py --target c --roi ventral --subject subj01\n",
    "# python ridge.py --target init_latent --roi early --subject subj01"
   ]
  },
  {
   "cell_type": "code",
   "execution_count": 3,
   "id": "05dee7b0",
   "metadata": {},
   "outputs": [],
   "source": [
    "target = 'c'\n",
    "roi = 'ventral'\n",
    "subject = 'subj01'\n",
    "backend = set_backend(\"numpy\", on_error=\"warn\")\n",
    "\n",
    "mridir = f'../../mrifeat/{subject}/'\n",
    "featdir = '../../nsdfeat/subjfeat/'\n",
    "savedir = f'../..//decoded/{subject}/'\n",
    "os.makedirs(savedir, exist_ok=True)"
   ]
  },
  {
   "cell_type": "code",
   "execution_count": 4,
   "id": "5822718d",
   "metadata": {},
   "outputs": [],
   "source": [
    "if target == 'c' or target == 'init_latent': # CVPR\n",
    "    alpha = [0.000001,0.00001,0.0001,0.001,0.01, 0.1, 1]\n",
    "else: # text / GAN / depth decoding (with much larger number of voxels)\n",
    "    alpha = [10000, 20000, 40000]"
   ]
  },
  {
   "cell_type": "code",
   "execution_count": 5,
   "id": "4567b140",
   "metadata": {},
   "outputs": [],
   "source": [
    "ridge = RidgeCV(alphas=alpha)\n",
    "\n",
    "preprocess_pipeline = make_pipeline(\n",
    "    StandardScaler(with_mean=True, with_std=True),\n",
    ")\n",
    "\n",
    "pipeline = make_pipeline(\n",
    "    preprocess_pipeline,\n",
    "    ridge,\n",
    ")  \n",
    "\n"
   ]
  },
  {
   "cell_type": "code",
   "execution_count": 7,
   "id": "2a89d7cd",
   "metadata": {},
   "outputs": [],
   "source": [
    "Y = np.load(f'{featdir}/{subject}_each_{target}_tr.npy').astype(\"float32\").reshape([24980,-1])"
   ]
  },
  {
   "cell_type": "code",
   "execution_count": 8,
   "id": "00ee62a6",
   "metadata": {},
   "outputs": [],
   "source": [
    "X = []\n",
    "X_te = []\n",
    "\n",
    "for croi in [roi]:\n",
    "    if 'conv' in target: # We use averaged features for GAN due to large number of dimension of features\n",
    "        cX = np.load(f'{mridir}/{subject}_{croi}_betas_ave_tr.npy').astype(\"float32\")\n",
    "    else:\n",
    "        cX = np.load(f'{mridir}/{subject}_{croi}_betas_tr.npy').astype(\"float32\")\n",
    "    \n",
    "    cX_te = np.load(f'{mridir}/{subject}_{croi}_betas_ave_te.npy').astype(\"float32\")\n",
    "    \n",
    "    X.append(cX)\n",
    "    X_te.append(cX_te)\n",
    "\n",
    "X = np.hstack(X)\n",
    "X_te = np.hstack(X_te)"
   ]
  },
  {
   "cell_type": "code",
   "execution_count": 9,
   "id": "76a0a332",
   "metadata": {},
   "outputs": [],
   "source": [
    "Y_te = np.load(f'{featdir}/{subject}_ave_{target}_te.npy').astype(\"float32\").reshape([X_te.shape[0],-1])"
   ]
  },
  {
   "cell_type": "code",
   "execution_count": null,
   "id": "c831d566",
   "metadata": {},
   "outputs": [],
   "source": []
  },
  {
   "cell_type": "code",
   "execution_count": null,
   "id": "794da66b",
   "metadata": {},
   "outputs": [],
   "source": []
  },
  {
   "cell_type": "code",
   "execution_count": null,
   "id": "a3e776a2",
   "metadata": {},
   "outputs": [],
   "source": []
  },
  {
   "cell_type": "code",
   "execution_count": null,
   "id": "083dddd1",
   "metadata": {},
   "outputs": [],
   "source": []
  },
  {
   "cell_type": "code",
   "execution_count": null,
   "id": "9ef3f374",
   "metadata": {},
   "outputs": [],
   "source": []
  },
  {
   "cell_type": "code",
   "execution_count": null,
   "id": "5b5d6c56",
   "metadata": {},
   "outputs": [],
   "source": []
  },
  {
   "cell_type": "code",
   "execution_count": null,
   "id": "3fb24333",
   "metadata": {},
   "outputs": [],
   "source": []
  },
  {
   "cell_type": "code",
   "execution_count": null,
   "id": "ccc920db",
   "metadata": {},
   "outputs": [],
   "source": [
    "#Y = np.load(f'{featdir}/{subject}_each_{target}_tr.npy').astype(\"float32\").reshape([X.shape[0],-1])\n"
   ]
  },
  {
   "cell_type": "code",
   "execution_count": null,
   "id": "8080d671",
   "metadata": {},
   "outputs": [],
   "source": []
  },
  {
   "cell_type": "code",
   "execution_count": null,
   "id": "dc7e06cd",
   "metadata": {},
   "outputs": [],
   "source": []
  },
  {
   "cell_type": "code",
   "execution_count": null,
   "id": "d18ea498",
   "metadata": {},
   "outputs": [],
   "source": []
  },
  {
   "cell_type": "code",
   "execution_count": null,
   "id": "7885623d",
   "metadata": {},
   "outputs": [],
   "source": []
  },
  {
   "cell_type": "code",
   "execution_count": 10,
   "id": "d8c635bb",
   "metadata": {},
   "outputs": [
    {
     "name": "stdout",
     "output_type": "stream",
     "text": [
      "Now making decoding model for... subj01:  ventral, c\n",
      "X (24980, 7604), Y (24980, 59136), X_te (982, 7604), Y_te (982, 59136)\n"
     ]
    }
   ],
   "source": [
    "print(f'Now making decoding model for... {subject}:  {roi}, {target}')\n",
    "print(f'X {X.shape}, Y {Y.shape}, X_te {X_te.shape}, Y_te {Y_te.shape}')"
   ]
  },
  {
   "cell_type": "code",
   "execution_count": null,
   "id": "b915559c",
   "metadata": {},
   "outputs": [],
   "source": []
  },
  {
   "cell_type": "code",
   "execution_count": null,
   "id": "8fa51ccc",
   "metadata": {},
   "outputs": [],
   "source": []
  },
  {
   "cell_type": "code",
   "execution_count": null,
   "id": "68bc8034",
   "metadata": {},
   "outputs": [],
   "source": []
  },
  {
   "cell_type": "code",
   "execution_count": null,
   "id": "9bb74e15",
   "metadata": {},
   "outputs": [],
   "source": []
  },
  {
   "cell_type": "code",
   "execution_count": 28,
   "id": "62748850",
   "metadata": {},
   "outputs": [],
   "source": [
    "T_to_time = {}"
   ]
  },
  {
   "cell_type": "code",
   "execution_count": 29,
   "id": "80d32f21",
   "metadata": {},
   "outputs": [
    {
     "name": "stderr",
     "output_type": "stream",
     "text": [
      "/home/aditya/anaconda3/envs/deeplearn/lib/python3.10/site-packages/himalaya/ridge/_random_search.py:491: UserWarning: Solving ridge is slower than solving kernel ridge when n_samples < n_features (here 1000 < 7604). Using a linear kernel in himalaya.kernel_ridge.KernelRidgeCV or himalaya.kernel_ridge.solve_kernel_ridge_cv_eigenvalues would be faster. Use warn=False to silence this warning.\n",
      "  warnings.warn(\n"
     ]
    },
    {
     "name": "stdout",
     "output_type": "stream",
     "text": [
      "Time in seconds : 32.847302198410034\n"
     ]
    },
    {
     "name": "stderr",
     "output_type": "stream",
     "text": [
      "/home/aditya/anaconda3/envs/deeplearn/lib/python3.10/site-packages/himalaya/ridge/_random_search.py:491: UserWarning: Solving ridge is slower than solving kernel ridge when n_samples < n_features (here 2000 < 7604). Using a linear kernel in himalaya.kernel_ridge.KernelRidgeCV or himalaya.kernel_ridge.solve_kernel_ridge_cv_eigenvalues would be faster. Use warn=False to silence this warning.\n",
      "  warnings.warn(\n"
     ]
    },
    {
     "name": "stdout",
     "output_type": "stream",
     "text": [
      "Time in seconds : 54.65428376197815\n"
     ]
    },
    {
     "name": "stderr",
     "output_type": "stream",
     "text": [
      "/home/aditya/anaconda3/envs/deeplearn/lib/python3.10/site-packages/himalaya/ridge/_random_search.py:491: UserWarning: Solving ridge is slower than solving kernel ridge when n_samples < n_features (here 5000 < 7604). Using a linear kernel in himalaya.kernel_ridge.KernelRidgeCV or himalaya.kernel_ridge.solve_kernel_ridge_cv_eigenvalues would be faster. Use warn=False to silence this warning.\n",
      "  warnings.warn(\n"
     ]
    },
    {
     "name": "stdout",
     "output_type": "stream",
     "text": [
      "Time in seconds : 284.57937240600586\n",
      "Time in seconds : 772.8011984825134\n"
     ]
    }
   ],
   "source": [
    "for T in [1000, 2000, 5000, 10000]:\n",
    "\n",
    "\n",
    "    ridge = RidgeCV(alphas=alpha)\n",
    "\n",
    "    preprocess_pipeline = make_pipeline(\n",
    "        StandardScaler(with_mean=True, with_std=True),\n",
    "    )\n",
    "\n",
    "    pipeline = make_pipeline(\n",
    "        preprocess_pipeline,\n",
    "        ridge,\n",
    "    )  \n",
    "\n",
    "\n",
    "    tic = time.time()\n",
    "\n",
    "    #T = 50\n",
    "    pipeline.fit(X[0:T, :], Y[0:T ,:])\n",
    "\n",
    "    toc = time.time()\n",
    "    sec = (toc-tic)\n",
    "\n",
    "    T_to_time[T] = np.round(sec,3)\n",
    "    \n",
    "    print(f\"Time in seconds : {sec}\")"
   ]
  },
  {
   "cell_type": "code",
   "execution_count": 30,
   "id": "9f8d7e18",
   "metadata": {},
   "outputs": [
    {
     "data": {
      "text/plain": [
       "{1000: 32.847, 2000: 54.654, 5000: 284.579, 10000: 772.801}"
      ]
     },
     "execution_count": 30,
     "metadata": {},
     "output_type": "execute_result"
    }
   ],
   "source": [
    "T_to_time"
   ]
  },
  {
   "cell_type": "code",
   "execution_count": null,
   "id": "30ca1f5e",
   "metadata": {},
   "outputs": [],
   "source": []
  },
  {
   "cell_type": "code",
   "execution_count": 32,
   "id": "cb861d91",
   "metadata": {},
   "outputs": [
    {
     "data": {
      "text/plain": [
       "12.866666666666667"
      ]
     },
     "execution_count": 32,
     "metadata": {},
     "output_type": "execute_result"
    }
   ],
   "source": [
    "772/60"
   ]
  },
  {
   "cell_type": "code",
   "execution_count": null,
   "id": "8a5e3ce6",
   "metadata": {},
   "outputs": [],
   "source": []
  },
  {
   "cell_type": "code",
   "execution_count": null,
   "id": "833d3c1e",
   "metadata": {},
   "outputs": [],
   "source": []
  },
  {
   "cell_type": "code",
   "execution_count": null,
   "id": "8f6a838e",
   "metadata": {},
   "outputs": [],
   "source": []
  },
  {
   "cell_type": "code",
   "execution_count": null,
   "id": "0c5db000",
   "metadata": {},
   "outputs": [],
   "source": []
  },
  {
   "cell_type": "code",
   "execution_count": null,
   "id": "125f85a8",
   "metadata": {},
   "outputs": [],
   "source": []
  },
  {
   "cell_type": "code",
   "execution_count": 27,
   "id": "b5706fde",
   "metadata": {},
   "outputs": [
    {
     "data": {
      "text/plain": [
       "{50: 20.662,\n",
       " 100: 14.156,\n",
       " 200: 19.762,\n",
       " 500: 16.52,\n",
       " 1000: 36.862,\n",
       " 1200: 45.06,\n",
       " 2000: 53.264}"
      ]
     },
     "execution_count": 27,
     "metadata": {},
     "output_type": "execute_result"
    }
   ],
   "source": [
    "T_to_time"
   ]
  },
  {
   "cell_type": "code",
   "execution_count": null,
   "id": "24806a8c",
   "metadata": {},
   "outputs": [],
   "source": []
  },
  {
   "cell_type": "code",
   "execution_count": null,
   "id": "475381c5",
   "metadata": {},
   "outputs": [],
   "source": []
  },
  {
   "cell_type": "code",
   "execution_count": null,
   "id": "84f34462",
   "metadata": {},
   "outputs": [],
   "source": []
  },
  {
   "cell_type": "code",
   "execution_count": null,
   "id": "f3132db1",
   "metadata": {},
   "outputs": [],
   "source": []
  },
  {
   "cell_type": "code",
   "execution_count": null,
   "id": "1a339da4",
   "metadata": {},
   "outputs": [],
   "source": []
  },
  {
   "cell_type": "code",
   "execution_count": null,
   "id": "aa3d7868",
   "metadata": {},
   "outputs": [],
   "source": []
  },
  {
   "cell_type": "code",
   "execution_count": null,
   "id": "dd869785",
   "metadata": {},
   "outputs": [],
   "source": []
  },
  {
   "cell_type": "code",
   "execution_count": null,
   "id": "64fc1f15",
   "metadata": {},
   "outputs": [],
   "source": []
  }
 ],
 "metadata": {
  "kernelspec": {
   "display_name": "Python 3 (ipykernel)",
   "language": "python",
   "name": "python3"
  },
  "language_info": {
   "codemirror_mode": {
    "name": "ipython",
    "version": 3
   },
   "file_extension": ".py",
   "mimetype": "text/x-python",
   "name": "python",
   "nbconvert_exporter": "python",
   "pygments_lexer": "ipython3",
   "version": "3.11.5"
  }
 },
 "nbformat": 4,
 "nbformat_minor": 5
}
