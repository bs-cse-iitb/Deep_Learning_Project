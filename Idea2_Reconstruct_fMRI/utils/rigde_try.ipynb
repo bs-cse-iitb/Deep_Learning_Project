{
 "cells": [
  {
   "cell_type": "code",
   "execution_count": 1,
   "id": "21fe270d",
   "metadata": {
    "scrolled": true
   },
   "outputs": [
    {
     "name": "stdout",
     "output_type": "stream",
     "text": [
      "Wed Nov 29 23:15:47 2023       \r\n",
      "+---------------------------------------------------------------------------------------+\r\n",
      "| NVIDIA-SMI 530.30.02              Driver Version: 530.30.02    CUDA Version: 12.1     |\r\n",
      "|-----------------------------------------+----------------------+----------------------+\r\n",
      "| GPU  Name                  Persistence-M| Bus-Id        Disp.A | Volatile Uncorr. ECC |\r\n",
      "| Fan  Temp  Perf            Pwr:Usage/Cap|         Memory-Usage | GPU-Util  Compute M. |\r\n",
      "|                                         |                      |               MIG M. |\r\n",
      "|=========================================+======================+======================|\r\n",
      "|   0  NVIDIA GeForce RTX 3070 L...    On | 00000000:01:00.0 Off |                  N/A |\r\n",
      "| N/A   45C    P8               10W /  25W|    147MiB /  8192MiB |      0%      Default |\r\n",
      "|                                         |                      |                  N/A |\r\n",
      "+-----------------------------------------+----------------------+----------------------+\r\n",
      "                                                                                         \r\n",
      "+---------------------------------------------------------------------------------------+\r\n",
      "| Processes:                                                                            |\r\n",
      "|  GPU   GI   CI        PID   Type   Process name                            GPU Memory |\r\n",
      "|        ID   ID                                                             Usage      |\r\n",
      "|=======================================================================================|\r\n",
      "|    0   N/A  N/A      2035      G   /usr/lib/xorg/Xorg                            4MiB |\r\n",
      "|    0   N/A  N/A      2220    C+G   ...libexec/gnome-remote-desktop-daemon      138MiB |\r\n",
      "+---------------------------------------------------------------------------------------+\r\n"
     ]
    }
   ],
   "source": [
    "!nvidia-smi"
   ]
  },
  {
   "cell_type": "code",
   "execution_count": 2,
   "id": "dc961a2c",
   "metadata": {},
   "outputs": [
    {
     "name": "stderr",
     "output_type": "stream",
     "text": [
      "/home/aditya/anaconda3/envs/ldm/lib/python3.8/site-packages/tqdm/auto.py:21: TqdmWarning: IProgress not found. Please update jupyter and ipywidgets. See https://ipywidgets.readthedocs.io/en/stable/user_install.html\n",
      "  from .autonotebook import tqdm as notebook_tqdm\n"
     ]
    }
   ],
   "source": [
    "import argparse, os\n",
    "import numpy as np\n",
    "from himalaya.backend import set_backend\n",
    "from himalaya.ridge import RidgeCV\n",
    "from himalaya.scoring import correlation_score\n",
    "from sklearn.pipeline import make_pipeline\n",
    "from sklearn.preprocessing import StandardScaler\n",
    "import time\n",
    "import torch\n",
    "import torch.nn as nn\n",
    "import torch.optim as optim\n"
   ]
  },
  {
   "cell_type": "code",
   "execution_count": 3,
   "id": "ecbeff0f",
   "metadata": {},
   "outputs": [],
   "source": [
    "# python ridge.py --target c --roi ventral --subject subj01\n",
    "# python ridge.py --target init_latent --roi early --subject subj01"
   ]
  },
  {
   "cell_type": "code",
   "execution_count": 4,
   "id": "05dee7b0",
   "metadata": {},
   "outputs": [],
   "source": [
    "target = 'c'\n",
    "roi = 'ventral'\n",
    "subject = 'subj01'\n",
    "backend = set_backend(\"numpy\", on_error=\"warn\")\n",
    "\n",
    "mridir = f'../../mrifeat/{subject}/'\n",
    "featdir = '../../nsdfeat/subjfeat/'\n",
    "savedir = f'../..//decoded_net/{subject}/'\n",
    "os.makedirs(savedir, exist_ok=True)"
   ]
  },
  {
   "cell_type": "code",
   "execution_count": 5,
   "id": "5822718d",
   "metadata": {},
   "outputs": [],
   "source": [
    "# if target == 'c' or target == 'init_latent': # CVPR\n",
    "#     alpha = [0.000001,0.00001,0.0001,0.001,0.01, 0.1, 1]\n",
    " \n",
    "# For experimentations\n",
    "if target == 'c' or target == 'init_latent': # CVPR\n",
    "    alpha = [0.01]"
   ]
  },
  {
   "cell_type": "code",
   "execution_count": 6,
   "id": "00ee62a6",
   "metadata": {},
   "outputs": [],
   "source": [
    "X = []\n",
    "X_te = []\n",
    "\n",
    "for croi in [roi]:\n",
    "    if 'conv' in target: # We use averaged features for GAN due to large number of dimension of features\n",
    "        cX = np.load(f'{mridir}/{subject}_{croi}_betas_ave_tr.npy').astype(\"float32\")\n",
    "    else:\n",
    "        cX = np.load(f'{mridir}/{subject}_{croi}_betas_tr.npy').astype(\"float32\")\n",
    "    \n",
    "    cX_te = np.load(f'{mridir}/{subject}_{croi}_betas_ave_te.npy').astype(\"float32\")\n",
    "    \n",
    "    X.append(cX)\n",
    "    X_te.append(cX_te)\n",
    "\n",
    "X = np.hstack(X)\n",
    "X_te = np.hstack(X_te)\n",
    "\n",
    "\n",
    "Y = np.load(f'{featdir}/{subject}_each_{target}_tr.npy').astype(\"float32\").reshape([24980,-1])\n",
    "Y_te = np.load(f'{featdir}/{subject}_ave_{target}_te.npy').astype(\"float32\").reshape([X_te.shape[0],-1])"
   ]
  },
  {
   "cell_type": "code",
   "execution_count": 7,
   "id": "75aafb3e",
   "metadata": {},
   "outputs": [
    {
     "name": "stdout",
     "output_type": "stream",
     "text": [
      "Now making decoding model for... subj01:  ventral, c\n",
      "X (24980, 7604), Y (24980, 59136), X_te (982, 7604), Y_te (982, 59136)\n"
     ]
    }
   ],
   "source": [
    "print(f'Now making decoding model for... {subject}:  {roi}, {target}')\n",
    "print(f'X {X.shape}, Y {Y.shape}, X_te {X_te.shape}, Y_te {Y_te.shape}')"
   ]
  },
  {
   "cell_type": "markdown",
   "id": "a71f9c17",
   "metadata": {},
   "source": [
    "______\n",
    "_____"
   ]
  },
  {
   "cell_type": "markdown",
   "id": "1be59933",
   "metadata": {},
   "source": [
    "## Subset small data "
   ]
  },
  {
   "cell_type": "code",
   "execution_count": 8,
   "id": "4d014d28",
   "metadata": {},
   "outputs": [],
   "source": [
    "num_samples = 50\n",
    "X_train = X[:num_samples, :].copy()\n",
    "Y_train = Y[:num_samples, :].copy()\n",
    "X_test = X_te[:num_samples//5, :].copy()\n",
    "Y_test = Y_te[:num_samples//5, :].copy()"
   ]
  },
  {
   "cell_type": "code",
   "execution_count": 9,
   "id": "31af2b32",
   "metadata": {},
   "outputs": [
    {
     "data": {
      "text/plain": [
       "((50, 7604), (50, 59136), (10, 7604), (10, 59136))"
      ]
     },
     "execution_count": 9,
     "metadata": {},
     "output_type": "execute_result"
    }
   ],
   "source": [
    "X_train.shape, Y_train.shape, X_test.shape, Y_test.shape"
   ]
  },
  {
   "cell_type": "code",
   "execution_count": null,
   "id": "2fe32ab8",
   "metadata": {},
   "outputs": [],
   "source": [
    "# Calculate the mean and standard deviation along the rows (axis=1)\n",
    "mean = np.mean(X_train, axis=0, keepdims=True)\n",
    "std = np.std(X_train, axis=0, keepdims=True)\n",
    "\n",
    "# Standardize the rows of X\n",
    "X_train_std = (X_train - mean) / std"
   ]
  },
  {
   "cell_type": "markdown",
   "id": "e8c49dcc",
   "metadata": {},
   "source": [
    "_______\n",
    "_______"
   ]
  },
  {
   "cell_type": "markdown",
   "id": "035db439",
   "metadata": {},
   "source": [
    "## Ridge Himalaya"
   ]
  },
  {
   "cell_type": "code",
   "execution_count": 10,
   "id": "e09710d9",
   "metadata": {},
   "outputs": [],
   "source": [
    "ridge = RidgeCV(alphas=alpha,cv=5)\n",
    "\n",
    "preprocess_pipeline = make_pipeline(\n",
    "    StandardScaler(with_mean=True, with_std=True),\n",
    ")\n",
    "\n",
    "pipeline = make_pipeline(\n",
    "    preprocess_pipeline,\n",
    "    ridge,\n",
    ")  "
   ]
  },
  {
   "cell_type": "code",
   "execution_count": 11,
   "id": "80964052",
   "metadata": {},
   "outputs": [
    {
     "name": "stderr",
     "output_type": "stream",
     "text": [
      "/home/aditya/anaconda3/envs/ldm/lib/python3.8/site-packages/himalaya/ridge/_random_search.py:491: UserWarning: Solving ridge is slower than solving kernel ridge when n_samples < n_features (here 50 < 7604). Using a linear kernel in himalaya.kernel_ridge.KernelRidgeCV or himalaya.kernel_ridge.solve_kernel_ridge_cv_eigenvalues would be faster. Use warn=False to silence this warning.\n",
      "  warnings.warn(\n"
     ]
    },
    {
     "data": {
      "text/html": [
       "<style>#sk-container-id-1 {color: black;}#sk-container-id-1 pre{padding: 0;}#sk-container-id-1 div.sk-toggleable {background-color: white;}#sk-container-id-1 label.sk-toggleable__label {cursor: pointer;display: block;width: 100%;margin-bottom: 0;padding: 0.3em;box-sizing: border-box;text-align: center;}#sk-container-id-1 label.sk-toggleable__label-arrow:before {content: \"▸\";float: left;margin-right: 0.25em;color: #696969;}#sk-container-id-1 label.sk-toggleable__label-arrow:hover:before {color: black;}#sk-container-id-1 div.sk-estimator:hover label.sk-toggleable__label-arrow:before {color: black;}#sk-container-id-1 div.sk-toggleable__content {max-height: 0;max-width: 0;overflow: hidden;text-align: left;background-color: #f0f8ff;}#sk-container-id-1 div.sk-toggleable__content pre {margin: 0.2em;color: black;border-radius: 0.25em;background-color: #f0f8ff;}#sk-container-id-1 input.sk-toggleable__control:checked~div.sk-toggleable__content {max-height: 200px;max-width: 100%;overflow: auto;}#sk-container-id-1 input.sk-toggleable__control:checked~label.sk-toggleable__label-arrow:before {content: \"▾\";}#sk-container-id-1 div.sk-estimator input.sk-toggleable__control:checked~label.sk-toggleable__label {background-color: #d4ebff;}#sk-container-id-1 div.sk-label input.sk-toggleable__control:checked~label.sk-toggleable__label {background-color: #d4ebff;}#sk-container-id-1 input.sk-hidden--visually {border: 0;clip: rect(1px 1px 1px 1px);clip: rect(1px, 1px, 1px, 1px);height: 1px;margin: -1px;overflow: hidden;padding: 0;position: absolute;width: 1px;}#sk-container-id-1 div.sk-estimator {font-family: monospace;background-color: #f0f8ff;border: 1px dotted black;border-radius: 0.25em;box-sizing: border-box;margin-bottom: 0.5em;}#sk-container-id-1 div.sk-estimator:hover {background-color: #d4ebff;}#sk-container-id-1 div.sk-parallel-item::after {content: \"\";width: 100%;border-bottom: 1px solid gray;flex-grow: 1;}#sk-container-id-1 div.sk-label:hover label.sk-toggleable__label {background-color: #d4ebff;}#sk-container-id-1 div.sk-serial::before {content: \"\";position: absolute;border-left: 1px solid gray;box-sizing: border-box;top: 0;bottom: 0;left: 50%;z-index: 0;}#sk-container-id-1 div.sk-serial {display: flex;flex-direction: column;align-items: center;background-color: white;padding-right: 0.2em;padding-left: 0.2em;position: relative;}#sk-container-id-1 div.sk-item {position: relative;z-index: 1;}#sk-container-id-1 div.sk-parallel {display: flex;align-items: stretch;justify-content: center;background-color: white;position: relative;}#sk-container-id-1 div.sk-item::before, #sk-container-id-1 div.sk-parallel-item::before {content: \"\";position: absolute;border-left: 1px solid gray;box-sizing: border-box;top: 0;bottom: 0;left: 50%;z-index: -1;}#sk-container-id-1 div.sk-parallel-item {display: flex;flex-direction: column;z-index: 1;position: relative;background-color: white;}#sk-container-id-1 div.sk-parallel-item:first-child::after {align-self: flex-end;width: 50%;}#sk-container-id-1 div.sk-parallel-item:last-child::after {align-self: flex-start;width: 50%;}#sk-container-id-1 div.sk-parallel-item:only-child::after {width: 0;}#sk-container-id-1 div.sk-dashed-wrapped {border: 1px dashed gray;margin: 0 0.4em 0.5em 0.4em;box-sizing: border-box;padding-bottom: 0.4em;background-color: white;}#sk-container-id-1 div.sk-label label {font-family: monospace;font-weight: bold;display: inline-block;line-height: 1.2em;}#sk-container-id-1 div.sk-label-container {text-align: center;}#sk-container-id-1 div.sk-container {/* jupyter's `normalize.less` sets `[hidden] { display: none; }` but bootstrap.min.css set `[hidden] { display: none !important; }` so we also need the `!important` here to be able to override the default hidden behavior on the sphinx rendered scikit-learn.org. See: https://github.com/scikit-learn/scikit-learn/issues/21755 */display: inline-block !important;position: relative;}#sk-container-id-1 div.sk-text-repr-fallback {display: none;}</style><div id=\"sk-container-id-1\" class=\"sk-top-container\"><div class=\"sk-text-repr-fallback\"><pre>Pipeline(steps=[(&#x27;pipeline&#x27;,\n",
       "                 Pipeline(steps=[(&#x27;standardscaler&#x27;, StandardScaler())])),\n",
       "                (&#x27;ridgecv&#x27;, RidgeCV(alphas=[0.01]))])</pre><b>In a Jupyter environment, please rerun this cell to show the HTML representation or trust the notebook. <br />On GitHub, the HTML representation is unable to render, please try loading this page with nbviewer.org.</b></div><div class=\"sk-container\" hidden><div class=\"sk-item sk-dashed-wrapped\"><div class=\"sk-label-container\"><div class=\"sk-label sk-toggleable\"><input class=\"sk-toggleable__control sk-hidden--visually\" id=\"sk-estimator-id-1\" type=\"checkbox\" ><label for=\"sk-estimator-id-1\" class=\"sk-toggleable__label sk-toggleable__label-arrow\">Pipeline</label><div class=\"sk-toggleable__content\"><pre>Pipeline(steps=[(&#x27;pipeline&#x27;,\n",
       "                 Pipeline(steps=[(&#x27;standardscaler&#x27;, StandardScaler())])),\n",
       "                (&#x27;ridgecv&#x27;, RidgeCV(alphas=[0.01]))])</pre></div></div></div><div class=\"sk-serial\"><div class=\"sk-item\"><div class=\"sk-label-container\"><div class=\"sk-label sk-toggleable\"><input class=\"sk-toggleable__control sk-hidden--visually\" id=\"sk-estimator-id-2\" type=\"checkbox\" ><label for=\"sk-estimator-id-2\" class=\"sk-toggleable__label sk-toggleable__label-arrow\">pipeline: Pipeline</label><div class=\"sk-toggleable__content\"><pre>Pipeline(steps=[(&#x27;standardscaler&#x27;, StandardScaler())])</pre></div></div></div><div class=\"sk-serial\"><div class=\"sk-item\"><div class=\"sk-estimator sk-toggleable\"><input class=\"sk-toggleable__control sk-hidden--visually\" id=\"sk-estimator-id-3\" type=\"checkbox\" ><label for=\"sk-estimator-id-3\" class=\"sk-toggleable__label sk-toggleable__label-arrow\">StandardScaler</label><div class=\"sk-toggleable__content\"><pre>StandardScaler()</pre></div></div></div></div></div><div class=\"sk-item\"><div class=\"sk-estimator sk-toggleable\"><input class=\"sk-toggleable__control sk-hidden--visually\" id=\"sk-estimator-id-4\" type=\"checkbox\" ><label for=\"sk-estimator-id-4\" class=\"sk-toggleable__label sk-toggleable__label-arrow\">RidgeCV</label><div class=\"sk-toggleable__content\"><pre>RidgeCV(alphas=[0.01])</pre></div></div></div></div></div></div></div>"
      ],
      "text/plain": [
       "Pipeline(steps=[('pipeline',\n",
       "                 Pipeline(steps=[('standardscaler', StandardScaler())])),\n",
       "                ('ridgecv', RidgeCV(alphas=[0.01]))])"
      ]
     },
     "execution_count": 11,
     "metadata": {},
     "output_type": "execute_result"
    }
   ],
   "source": [
    "pipeline.fit(X_train, Y_train)"
   ]
  },
  {
   "cell_type": "code",
   "execution_count": 12,
   "id": "bfd50f6a",
   "metadata": {},
   "outputs": [],
   "source": [
    "scores = pipeline.predict(X_test)"
   ]
  },
  {
   "cell_type": "code",
   "execution_count": 13,
   "id": "ee5ab2ce",
   "metadata": {},
   "outputs": [
    {
     "data": {
      "text/plain": [
       "array([[-5.0319661e-03,  2.9659900e-04, -6.7416352e-04, ...,\n",
       "        -4.0480003e-02,  1.7629522e-01,  4.2345423e-02],\n",
       "       [-8.7825395e-03,  5.1766896e-04, -1.1766497e-03, ...,\n",
       "         2.5670868e-01, -1.5915927e-01, -3.4860995e-02],\n",
       "       [-7.4275406e-03,  4.3780133e-04, -9.9511305e-04, ...,\n",
       "         1.1837522e-01, -2.4794486e-01, -6.7438826e-02],\n",
       "       ...,\n",
       "       [ 4.4152015e-03, -2.6024497e-04,  5.9153244e-04, ...,\n",
       "         2.1377805e-01, -3.0304834e-01, -1.6260592e-02],\n",
       "       [-1.0169807e-02,  5.9943856e-04, -1.3625105e-03, ...,\n",
       "        -1.5578383e-01,  1.4210662e-01,  1.0523617e-01],\n",
       "       [-2.5349068e-03,  1.4941476e-04, -3.3961656e-04, ...,\n",
       "        -7.8510955e-02,  1.2246935e-01,  9.2457920e-02]], dtype=float32)"
      ]
     },
     "execution_count": 13,
     "metadata": {},
     "output_type": "execute_result"
    }
   ],
   "source": [
    "scores"
   ]
  },
  {
   "cell_type": "code",
   "execution_count": null,
   "id": "f92cde32",
   "metadata": {},
   "outputs": [],
   "source": [
    "np.save(f'{savedir}/{subject}_{\"_\".join(roi)}_scores_{target}.npy',scores)"
   ]
  },
  {
   "cell_type": "markdown",
   "id": "2fc7fddf",
   "metadata": {},
   "source": [
    "____\n",
    "____"
   ]
  },
  {
   "cell_type": "code",
   "execution_count": null,
   "id": "35d89478",
   "metadata": {},
   "outputs": [],
   "source": []
  }
 ],
 "metadata": {
  "kernelspec": {
   "display_name": "Python-LDM",
   "language": "python",
   "name": "ldm"
  },
  "language_info": {
   "codemirror_mode": {
    "name": "ipython",
    "version": 3
   },
   "file_extension": ".py",
   "mimetype": "text/x-python",
   "name": "python",
   "nbconvert_exporter": "python",
   "pygments_lexer": "ipython3",
   "version": "3.8.5"
  }
 },
 "nbformat": 4,
 "nbformat_minor": 5
}
