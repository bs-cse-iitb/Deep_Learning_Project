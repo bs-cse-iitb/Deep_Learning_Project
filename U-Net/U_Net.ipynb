{
 "cells": [
  {
   "cell_type": "code",
   "execution_count": 6,
   "id": "dde5fa05",
   "metadata": {},
   "outputs": [],
   "source": [
    "import os\n",
    "from PIL import Image\n",
    "import numpy as np\n",
    "import matplotlib.pyplot as plt\n",
    "import torch\n",
    "import torch.nn as nn\n",
    "import torch.nn.functional as F\n",
    "import torchvision.transforms.functional as TF"
   ]
  },
  {
   "cell_type": "code",
   "execution_count": 7,
   "id": "97d83028",
   "metadata": {},
   "outputs": [],
   "source": [
    "def load_and_preprocess_image(image_path, target_size=(572, 572), normalize=True):\n",
    "    image = Image.open(image_path)\n",
    "\n",
    "    image = image.resize(target_size)\n",
    "    \n",
    "    # Convert to numpy arrays\n",
    "    image = np.array(image)\n",
    "\n",
    "    # Normalize pixel values \n",
    "    if normalize:\n",
    "        image = image / 255.0  # Assuming pixel values are in the range [0, 255]\n",
    "\n",
    "    return image"
   ]
  },
  {
   "cell_type": "code",
   "execution_count": 8,
   "id": "415b707d",
   "metadata": {},
   "outputs": [],
   "source": [
    "def create_dataset(image_path):\n",
    "    directory_path = image_path\n",
    "    # Iterate through files in the directory\n",
    "    image_list =[]\n",
    "    for filename in os.listdir(directory_path):\n",
    "        if filename.endswith('.jpg'):\n",
    "            image_path = os.path.join(directory_path, filename)\n",
    "            images = load_and_preprocess_image(image_path)\n",
    "            #images = images.reshape(1,images[0],images[1])\n",
    "            image_list.append(torch.tensor(images).reshape(1,images.shape[0],images.shape[1]))\n",
    "    images = torch.stack(image_list, dim=0)\n",
    "    return images"
   ]
  },
  {
   "cell_type": "code",
   "execution_count": 9,
   "id": "37cf896d",
   "metadata": {
    "scrolled": true
   },
   "outputs": [],
   "source": [
    "image_path = 'dataset/input/'\n",
    "#image_path = 'dataset2/input/'\n",
    "images = create_dataset(image_path)"
   ]
  },
  {
   "cell_type": "code",
   "execution_count": 10,
   "id": "331576e6",
   "metadata": {},
   "outputs": [
    {
     "data": {
      "text/plain": [
       "torch.Size([500, 1, 572, 572])"
      ]
     },
     "execution_count": 10,
     "metadata": {},
     "output_type": "execute_result"
    }
   ],
   "source": [
    "images.shape"
   ]
  },
  {
   "cell_type": "code",
   "execution_count": 11,
   "id": "d508a911",
   "metadata": {},
   "outputs": [],
   "source": [
    "mask_path = 'dataset/output/'\n",
    "#mask_path = 'dataset2/output/'\n",
    "masks = create_dataset(mask_path)"
   ]
  },
  {
   "cell_type": "code",
   "execution_count": 12,
   "id": "c89224dd",
   "metadata": {},
   "outputs": [
    {
     "data": {
      "text/plain": [
       "torch.Size([500, 1, 572, 572])"
      ]
     },
     "execution_count": 12,
     "metadata": {},
     "output_type": "execute_result"
    }
   ],
   "source": [
    "masks.shape"
   ]
  },
  {
   "cell_type": "code",
   "execution_count": 13,
   "id": "fcacde72",
   "metadata": {},
   "outputs": [],
   "source": [
    "images = images.to(torch.float32)\n",
    "masks = masks.to(torch.float32)"
   ]
  },
  {
   "cell_type": "code",
   "execution_count": 14,
   "id": "9707e2eb",
   "metadata": {},
   "outputs": [
    {
     "data": {
      "text/plain": [
       "400"
      ]
     },
     "execution_count": 14,
     "metadata": {},
     "output_type": "execute_result"
    }
   ],
   "source": [
    "train_size = int(0.80*(len(images)))\n",
    "train_size"
   ]
  },
  {
   "cell_type": "code",
   "execution_count": 15,
   "id": "450365a3",
   "metadata": {},
   "outputs": [],
   "source": [
    "train_images = images[:train_size,:,:,:]\n",
    "train_masks = masks[:train_size,:,:,:]\n",
    "\n",
    "test_images = images[train_size:,:,:,:]\n",
    "test_masks = masks[train_size:,:,:,:]"
   ]
  },
  {
   "cell_type": "code",
   "execution_count": 16,
   "id": "3315b358",
   "metadata": {},
   "outputs": [
    {
     "data": {
      "text/plain": [
       "torch.Size([400, 1, 572, 572])"
      ]
     },
     "execution_count": 16,
     "metadata": {},
     "output_type": "execute_result"
    }
   ],
   "source": [
    "train_images.shape"
   ]
  },
  {
   "cell_type": "code",
   "execution_count": 17,
   "id": "e33cf9fb",
   "metadata": {},
   "outputs": [],
   "source": [
    "def double_conv(in_channels,out_channels):\n",
    "    conv = nn.Sequential(\n",
    "        nn.Conv2d(in_channels, out_channels, kernel_size=3, padding =1, bias ='False'),\n",
    "        nn.BatchNorm2d(out_channels),\n",
    "        nn.ReLU(inplace=True),\n",
    "        nn.Conv2d(out_channels, out_channels, kernel_size=3, padding = 1, bias = 'False'),\n",
    "        nn.BatchNorm2d(out_channels),\n",
    "        nn.ReLU(inplace=True))\n",
    "    return conv\n",
    "\n",
    "class UNet(nn.Module):\n",
    "    \n",
    "    def __init__(self, in_channels = 1, out_channels = 1):\n",
    "        super(UNet, self).__init__()\n",
    "        \n",
    "        self.max_pool = nn.MaxPool2d(kernel_size=2, stride=2)\n",
    "        \n",
    "        self.down_conv = double_conv(in_channels,64)\n",
    "        self.down_conv2 = double_conv(64,128)\n",
    "        self.down_conv3 = double_conv(128,256)\n",
    "        self.down_conv4 = double_conv(256,512)\n",
    "        self.down_conv5 = double_conv(512,1024)\n",
    "        \n",
    "        self.up_trans1 = nn.ConvTranspose2d(in_channels = 1024, out_channels = 512, kernel_size=2, stride=2)\n",
    "        self.up_conv1 = double_conv(1024,512)\n",
    "        \n",
    "        self.up_trans2 = nn.ConvTranspose2d(in_channels = 512, out_channels = 256, kernel_size=2, stride=2)\n",
    "        self.up_conv2 = double_conv(512,256)\n",
    "        \n",
    "        self.up_trans3 = nn.ConvTranspose2d(in_channels = 256, out_channels = 128, kernel_size=2, stride=2)\n",
    "        self.up_conv3 = double_conv(256,128)\n",
    "        \n",
    "        self.up_trans4 = nn.ConvTranspose2d(in_channels = 128, out_channels = 64, kernel_size=2, stride=2)\n",
    "        self.up_conv4 = double_conv(128,64)\n",
    "        \n",
    "        self.out = nn.Conv2d(64,out_channels, kernel_size=1)\n",
    "        \n",
    "        self.softmax = nn.Softmax(dim=1)\n",
    "    def forward(self, image):\n",
    "        # encoder\n",
    "        \n",
    "        x1_conv = self.down_conv(image)\n",
    "        x1_pool = self.max_pool(x1_conv)\n",
    "        \n",
    "        x2_conv = self.down_conv2(x1_pool)\n",
    "        x2_pool = self.max_pool(x2_conv)\n",
    "        \n",
    "        x3_conv = self.down_conv3(x2_pool)\n",
    "        x3_pool = self.max_pool(x3_conv)\n",
    "        \n",
    "        x4_conv = self.down_conv4(x3_pool)\n",
    "        x4_pool = self.max_pool(x4_conv)\n",
    "        \n",
    "        x5_conv = self.down_conv5(x4_pool)\n",
    "        \n",
    "        # Decoder\n",
    "        x = self.up_trans1(x5_conv)\n",
    "        x = TF.resize(x, size=x4_conv.shape[2:])\n",
    "        x = torch.concat((x4_conv,x),axis =1)\n",
    "        x  = self.up_conv1(x)\n",
    "        \n",
    "        x = self.up_trans2(x)\n",
    "        x = TF.resize(x, size=x3_conv.shape[2:])\n",
    "        x = torch.concat((x3_conv,x),axis =1)\n",
    "        x  = self.up_conv2(x)\n",
    "        \n",
    "        x = self.up_trans3(x)\n",
    "        x = TF.resize(x, size=x2_conv.shape[2:])\n",
    "        x = torch.concat((x2_conv,x),axis =1)\n",
    "        x  = self.up_conv3(x)\n",
    "        \n",
    "        x = self.up_trans4(x)\n",
    "        x = TF.resize(x, size=x1_conv.shape[2:])\n",
    "        x = torch.concat((x1_conv,x),axis =1)\n",
    "        x  = self.up_conv4(x)\n",
    "        \n",
    "        x = self.out(x)\n",
    "        \n",
    "        #x = self.softmax(x)\n",
    "        return x\n",
    "        "
   ]
  },
  {
   "cell_type": "code",
   "execution_count": 18,
   "id": "a859eca5",
   "metadata": {},
   "outputs": [
    {
     "name": "stdout",
     "output_type": "stream",
     "text": [
      "tensor(-0.3695)\n",
      "torch.Size([1, 1, 572, 572])\n"
     ]
    },
    {
     "name": "stderr",
     "output_type": "stream",
     "text": [
      "/Users/balbirsingh/anaconda3/lib/python3.11/site-packages/torchvision/transforms/functional.py:1603: UserWarning: The default value of the antialias parameter of all the resizing transforms (Resize(), RandomResizedCrop(), etc.) will change from None to True in v0.17, in order to be consistent across the PIL and Tensor backends. To suppress this warning, directly pass antialias=True (recommended, future default), antialias=None (current default, which means False for Tensors and True for PIL), or antialias=False (only works on Tensors - PIL will still use antialiasing). This also applies if you are using the inference transforms from the models weights: update the call to weights.transforms(antialias=True).\n",
      "  warnings.warn(\n"
     ]
    },
    {
     "name": "stdout",
     "output_type": "stream",
     "text": [
      "Output shape: torch.Size([1, 1, 572, 572])\n"
     ]
    }
   ],
   "source": [
    "model = UNet(1)  \n",
    "image = torch.randn(1, 1, 572, 572)\n",
    "print(image[0][0][0][0])\n",
    "print(image.shape)\n",
    "output = model(image)\n",
    "print(\"Output shape:\", output.shape)"
   ]
  },
  {
   "cell_type": "code",
   "execution_count": 19,
   "id": "130a62ed",
   "metadata": {},
   "outputs": [],
   "source": [
    "import torch\n",
    "import torch.nn as nn\n",
    "import torchvision.transforms.functional as TF\n",
    "\n",
    "class DoubleConv(nn.Module):\n",
    "    def __init__(self, in_channels, out_channels):\n",
    "        super(DoubleConv, self).__init__()\n",
    "        self.conv = nn.Sequential(\n",
    "            nn.Conv2d(in_channels, out_channels, 3, 1, 1, bias=False),\n",
    "            nn.BatchNorm2d(out_channels),\n",
    "            nn.ReLU(inplace=True),\n",
    "            nn.Conv2d(out_channels, out_channels, 3, 1, 1, bias=False),\n",
    "            nn.BatchNorm2d(out_channels),\n",
    "            nn.ReLU(inplace=True),\n",
    "        )\n",
    "\n",
    "    def forward(self, x):\n",
    "        return self.conv(x)\n",
    "\n",
    "class UNET(nn.Module):\n",
    "    def __init__(\n",
    "            self, in_channels=3, out_channels=1, features=[64, 128, 256, 512],\n",
    "    ):\n",
    "        super(UNET, self).__init__()\n",
    "        self.ups = nn.ModuleList()\n",
    "        self.downs = nn.ModuleList()\n",
    "        self.pool = nn.MaxPool2d(kernel_size=2, stride=2)\n",
    "\n",
    "        # Down part of UNET\n",
    "        for feature in features:\n",
    "            self.downs.append(DoubleConv(in_channels, feature))\n",
    "            in_channels = feature\n",
    "\n",
    "        # Up part of UNET\n",
    "        for feature in reversed(features):\n",
    "            self.ups.append(\n",
    "                nn.ConvTranspose2d(\n",
    "                    feature*2, feature, kernel_size=2, stride=2,\n",
    "                )\n",
    "            )\n",
    "            self.ups.append(DoubleConv(feature*2, feature))\n",
    "\n",
    "        self.bottleneck = DoubleConv(features[-1], features[-1]*2)\n",
    "        self.final_conv = nn.Conv2d(features[0], out_channels, kernel_size=1)\n",
    "\n",
    "    def forward(self, x):\n",
    "        skip_connections = []\n",
    "\n",
    "        for down in self.downs:\n",
    "            x = down(x)\n",
    "            skip_connections.append(x)\n",
    "            x = self.pool(x)\n",
    "\n",
    "        x = self.bottleneck(x)\n",
    "        skip_connections = skip_connections[::-1]\n",
    "\n",
    "        for idx in range(0, len(self.ups), 2):\n",
    "            x = self.ups[idx](x)\n",
    "            skip_connection = skip_connections[idx//2]\n",
    "\n",
    "            if x.shape != skip_connection.shape:\n",
    "                x = TF.resize(x, size=skip_connection.shape[2:])\n",
    "\n",
    "            concat_skip = torch.cat((skip_connection, x), dim=1)\n",
    "            x = self.ups[idx+1](concat_skip)\n",
    "\n",
    "        return self.final_conv(x)\n",
    "\n",
    "def test():\n",
    "    x = torch.randn((3, 1, 161, 161))\n",
    "    model = UNET(in_channels=1, out_channels=1)\n",
    "    preds = model(x)\n",
    "    assert preds.shape == x.shape\n",
    "\n",
    "if __name__ == \"__main__\":\n",
    "    test()"
   ]
  },
  {
   "cell_type": "code",
   "execution_count": 65,
   "id": "e322b026",
   "metadata": {},
   "outputs": [],
   "source": [
    "criterion = nn.MSELoss()\n",
    "\n",
    "#criterion = nn.BCEWithLogitsLoss()\n",
    "\n",
    "optimizer = torch.optim.Adam(model.parameters(), lr =0.9)"
   ]
  },
  {
   "cell_type": "code",
   "execution_count": 66,
   "id": "d5f694c0",
   "metadata": {},
   "outputs": [],
   "source": [
    "model = UNet(in_channels=1, out_channels=1)  "
   ]
  },
  {
   "cell_type": "code",
   "execution_count": 67,
   "id": "75aefc70",
   "metadata": {},
   "outputs": [],
   "source": [
    "#pred = model(images[0][0].reshape(1,1,572,572))\n"
   ]
  },
  {
   "cell_type": "code",
   "execution_count": 68,
   "id": "42c6b544",
   "metadata": {},
   "outputs": [],
   "source": [
    "#pred"
   ]
  },
  {
   "cell_type": "code",
   "execution_count": 69,
   "id": "f5f7b2c2",
   "metadata": {},
   "outputs": [],
   "source": [
    "#F.sigmoid(pred).shape"
   ]
  },
  {
   "cell_type": "code",
   "execution_count": 70,
   "id": "939d810f",
   "metadata": {},
   "outputs": [],
   "source": [
    "num_epochs = 10\n",
    "num_batches = 20\n",
    "batch_size = 20"
   ]
  },
  {
   "cell_type": "code",
   "execution_count": 64,
   "id": "a7861c6d",
   "metadata": {},
   "outputs": [
    {
     "name": "stdout",
     "output_type": "stream",
     "text": [
      "Batch1-----loss: 0.012079634703695774\n",
      "epoch1-----loss: 0.012079634703695774\n"
     ]
    }
   ],
   "source": [
    "for epoch in range(1,num_epochs+1):\n",
    "    for batch in range(1,num_batches+1):\n",
    "        random_indices = np.random.choice(len(train_images), batch_size, replace=False)\n",
    "        X = train_images[random_indices]\n",
    "        y = train_masks[random_indices]\n",
    "        # 1. forward pass\n",
    "        y_pred = model(X)\n",
    "\n",
    "        # 2. loss calculation\n",
    "        loss = criterion(y_pred,y)\n",
    "\n",
    "        # 3. Clear up the gradients\n",
    "        optimizer.zero_grad()\n",
    "\n",
    "        # 4. back propagations\n",
    "        loss.backward()\n",
    "\n",
    "        # 5. gradient descents\n",
    "        optimizer.step()\n",
    "\n",
    "        print(f\"Batch{batch}-----loss: {loss.item()}\")\n",
    "    if epoch%1==0:\n",
    "        print(f\"epoch{epoch}-----loss: {loss.item()}\")"
   ]
  },
  {
   "cell_type": "code",
   "execution_count": 71,
   "id": "4a96db7b",
   "metadata": {},
   "outputs": [
    {
     "name": "stdout",
     "output_type": "stream",
     "text": [
      "epoch 1, Loss: 0.012004273943603039\n",
      "epoch 1, Loss: 0.010763317346572876\n",
      "epoch 1, Loss: 0.010782013647258282\n",
      "epoch 1, Loss: 0.01059124618768692\n",
      "Batch 5, Loss: 0.010991803370416164\n",
      "epoch 1, Loss: 0.010991803370416164\n",
      "epoch 1, Loss: 0.010719161480665207\n",
      "epoch 1, Loss: 0.010755431838333607\n",
      "epoch 1, Loss: 0.011227305047214031\n",
      "epoch 1, Loss: 0.009973977692425251\n",
      "Batch 10, Loss: 0.009954508394002914\n",
      "epoch 1, Loss: 0.009954508394002914\n",
      "epoch 1, Loss: 0.010803678072988987\n",
      "epoch 1, Loss: 0.01043771579861641\n",
      "epoch 1, Loss: 0.011621616780757904\n",
      "epoch 1, Loss: 0.010154981166124344\n",
      "Batch 15, Loss: 0.010932469740509987\n",
      "epoch 1, Loss: 0.010932469740509987\n",
      "epoch 1, Loss: 0.011201886460185051\n",
      "epoch 1, Loss: 0.011992618441581726\n"
     ]
    },
    {
     "ename": "KeyboardInterrupt",
     "evalue": "",
     "output_type": "error",
     "traceback": [
      "\u001b[0;31m---------------------------------------------------------------------------\u001b[0m",
      "\u001b[0;31mKeyboardInterrupt\u001b[0m                         Traceback (most recent call last)",
      "Cell \u001b[0;32mIn[71], line 13\u001b[0m\n\u001b[1;32m      9\u001b[0m \u001b[38;5;28;01mfor\u001b[39;00m epoch \u001b[38;5;129;01min\u001b[39;00m \u001b[38;5;28mrange\u001b[39m(\u001b[38;5;241m1\u001b[39m, num_epochs \u001b[38;5;241m+\u001b[39m \u001b[38;5;241m1\u001b[39m):\n\u001b[1;32m     11\u001b[0m     \u001b[38;5;28;01mfor\u001b[39;00m batch_idx, (X, y) \u001b[38;5;129;01min\u001b[39;00m \u001b[38;5;28menumerate\u001b[39m(train_loader, \u001b[38;5;241m1\u001b[39m):\n\u001b[1;32m     12\u001b[0m         \u001b[38;5;66;03m# 1. Forward pass\u001b[39;00m\n\u001b[0;32m---> 13\u001b[0m         y_pred \u001b[38;5;241m=\u001b[39m model(X)\n\u001b[1;32m     15\u001b[0m         \u001b[38;5;66;03m# 2. Loss calculation\u001b[39;00m\n\u001b[1;32m     16\u001b[0m         loss \u001b[38;5;241m=\u001b[39m criterion(y_pred, y)\n",
      "File \u001b[0;32m~/anaconda3/lib/python3.11/site-packages/torch/nn/modules/module.py:1501\u001b[0m, in \u001b[0;36mModule._call_impl\u001b[0;34m(self, *args, **kwargs)\u001b[0m\n\u001b[1;32m   1496\u001b[0m \u001b[38;5;66;03m# If we don't have any hooks, we want to skip the rest of the logic in\u001b[39;00m\n\u001b[1;32m   1497\u001b[0m \u001b[38;5;66;03m# this function, and just call forward.\u001b[39;00m\n\u001b[1;32m   1498\u001b[0m \u001b[38;5;28;01mif\u001b[39;00m \u001b[38;5;129;01mnot\u001b[39;00m (\u001b[38;5;28mself\u001b[39m\u001b[38;5;241m.\u001b[39m_backward_hooks \u001b[38;5;129;01mor\u001b[39;00m \u001b[38;5;28mself\u001b[39m\u001b[38;5;241m.\u001b[39m_backward_pre_hooks \u001b[38;5;129;01mor\u001b[39;00m \u001b[38;5;28mself\u001b[39m\u001b[38;5;241m.\u001b[39m_forward_hooks \u001b[38;5;129;01mor\u001b[39;00m \u001b[38;5;28mself\u001b[39m\u001b[38;5;241m.\u001b[39m_forward_pre_hooks\n\u001b[1;32m   1499\u001b[0m         \u001b[38;5;129;01mor\u001b[39;00m _global_backward_pre_hooks \u001b[38;5;129;01mor\u001b[39;00m _global_backward_hooks\n\u001b[1;32m   1500\u001b[0m         \u001b[38;5;129;01mor\u001b[39;00m _global_forward_hooks \u001b[38;5;129;01mor\u001b[39;00m _global_forward_pre_hooks):\n\u001b[0;32m-> 1501\u001b[0m     \u001b[38;5;28;01mreturn\u001b[39;00m forward_call(\u001b[38;5;241m*\u001b[39margs, \u001b[38;5;241m*\u001b[39m\u001b[38;5;241m*\u001b[39mkwargs)\n\u001b[1;32m   1502\u001b[0m \u001b[38;5;66;03m# Do not call functions when jit is used\u001b[39;00m\n\u001b[1;32m   1503\u001b[0m full_backward_hooks, non_full_backward_hooks \u001b[38;5;241m=\u001b[39m [], []\n",
      "Cell \u001b[0;32mIn[17], line 51\u001b[0m, in \u001b[0;36mUNet.forward\u001b[0;34m(self, image)\u001b[0m\n\u001b[1;32m     48\u001b[0m x3_conv \u001b[38;5;241m=\u001b[39m \u001b[38;5;28mself\u001b[39m\u001b[38;5;241m.\u001b[39mdown_conv3(x2_pool)\n\u001b[1;32m     49\u001b[0m x3_pool \u001b[38;5;241m=\u001b[39m \u001b[38;5;28mself\u001b[39m\u001b[38;5;241m.\u001b[39mmax_pool(x3_conv)\n\u001b[0;32m---> 51\u001b[0m x4_conv \u001b[38;5;241m=\u001b[39m \u001b[38;5;28mself\u001b[39m\u001b[38;5;241m.\u001b[39mdown_conv4(x3_pool)\n\u001b[1;32m     52\u001b[0m x4_pool \u001b[38;5;241m=\u001b[39m \u001b[38;5;28mself\u001b[39m\u001b[38;5;241m.\u001b[39mmax_pool(x4_conv)\n\u001b[1;32m     54\u001b[0m x5_conv \u001b[38;5;241m=\u001b[39m \u001b[38;5;28mself\u001b[39m\u001b[38;5;241m.\u001b[39mdown_conv5(x4_pool)\n",
      "File \u001b[0;32m~/anaconda3/lib/python3.11/site-packages/torch/nn/modules/module.py:1501\u001b[0m, in \u001b[0;36mModule._call_impl\u001b[0;34m(self, *args, **kwargs)\u001b[0m\n\u001b[1;32m   1496\u001b[0m \u001b[38;5;66;03m# If we don't have any hooks, we want to skip the rest of the logic in\u001b[39;00m\n\u001b[1;32m   1497\u001b[0m \u001b[38;5;66;03m# this function, and just call forward.\u001b[39;00m\n\u001b[1;32m   1498\u001b[0m \u001b[38;5;28;01mif\u001b[39;00m \u001b[38;5;129;01mnot\u001b[39;00m (\u001b[38;5;28mself\u001b[39m\u001b[38;5;241m.\u001b[39m_backward_hooks \u001b[38;5;129;01mor\u001b[39;00m \u001b[38;5;28mself\u001b[39m\u001b[38;5;241m.\u001b[39m_backward_pre_hooks \u001b[38;5;129;01mor\u001b[39;00m \u001b[38;5;28mself\u001b[39m\u001b[38;5;241m.\u001b[39m_forward_hooks \u001b[38;5;129;01mor\u001b[39;00m \u001b[38;5;28mself\u001b[39m\u001b[38;5;241m.\u001b[39m_forward_pre_hooks\n\u001b[1;32m   1499\u001b[0m         \u001b[38;5;129;01mor\u001b[39;00m _global_backward_pre_hooks \u001b[38;5;129;01mor\u001b[39;00m _global_backward_hooks\n\u001b[1;32m   1500\u001b[0m         \u001b[38;5;129;01mor\u001b[39;00m _global_forward_hooks \u001b[38;5;129;01mor\u001b[39;00m _global_forward_pre_hooks):\n\u001b[0;32m-> 1501\u001b[0m     \u001b[38;5;28;01mreturn\u001b[39;00m forward_call(\u001b[38;5;241m*\u001b[39margs, \u001b[38;5;241m*\u001b[39m\u001b[38;5;241m*\u001b[39mkwargs)\n\u001b[1;32m   1502\u001b[0m \u001b[38;5;66;03m# Do not call functions when jit is used\u001b[39;00m\n\u001b[1;32m   1503\u001b[0m full_backward_hooks, non_full_backward_hooks \u001b[38;5;241m=\u001b[39m [], []\n",
      "File \u001b[0;32m~/anaconda3/lib/python3.11/site-packages/torch/nn/modules/container.py:217\u001b[0m, in \u001b[0;36mSequential.forward\u001b[0;34m(self, input)\u001b[0m\n\u001b[1;32m    215\u001b[0m \u001b[38;5;28;01mdef\u001b[39;00m \u001b[38;5;21mforward\u001b[39m(\u001b[38;5;28mself\u001b[39m, \u001b[38;5;28minput\u001b[39m):\n\u001b[1;32m    216\u001b[0m     \u001b[38;5;28;01mfor\u001b[39;00m module \u001b[38;5;129;01min\u001b[39;00m \u001b[38;5;28mself\u001b[39m:\n\u001b[0;32m--> 217\u001b[0m         \u001b[38;5;28minput\u001b[39m \u001b[38;5;241m=\u001b[39m module(\u001b[38;5;28minput\u001b[39m)\n\u001b[1;32m    218\u001b[0m     \u001b[38;5;28;01mreturn\u001b[39;00m \u001b[38;5;28minput\u001b[39m\n",
      "File \u001b[0;32m~/anaconda3/lib/python3.11/site-packages/torch/nn/modules/module.py:1501\u001b[0m, in \u001b[0;36mModule._call_impl\u001b[0;34m(self, *args, **kwargs)\u001b[0m\n\u001b[1;32m   1496\u001b[0m \u001b[38;5;66;03m# If we don't have any hooks, we want to skip the rest of the logic in\u001b[39;00m\n\u001b[1;32m   1497\u001b[0m \u001b[38;5;66;03m# this function, and just call forward.\u001b[39;00m\n\u001b[1;32m   1498\u001b[0m \u001b[38;5;28;01mif\u001b[39;00m \u001b[38;5;129;01mnot\u001b[39;00m (\u001b[38;5;28mself\u001b[39m\u001b[38;5;241m.\u001b[39m_backward_hooks \u001b[38;5;129;01mor\u001b[39;00m \u001b[38;5;28mself\u001b[39m\u001b[38;5;241m.\u001b[39m_backward_pre_hooks \u001b[38;5;129;01mor\u001b[39;00m \u001b[38;5;28mself\u001b[39m\u001b[38;5;241m.\u001b[39m_forward_hooks \u001b[38;5;129;01mor\u001b[39;00m \u001b[38;5;28mself\u001b[39m\u001b[38;5;241m.\u001b[39m_forward_pre_hooks\n\u001b[1;32m   1499\u001b[0m         \u001b[38;5;129;01mor\u001b[39;00m _global_backward_pre_hooks \u001b[38;5;129;01mor\u001b[39;00m _global_backward_hooks\n\u001b[1;32m   1500\u001b[0m         \u001b[38;5;129;01mor\u001b[39;00m _global_forward_hooks \u001b[38;5;129;01mor\u001b[39;00m _global_forward_pre_hooks):\n\u001b[0;32m-> 1501\u001b[0m     \u001b[38;5;28;01mreturn\u001b[39;00m forward_call(\u001b[38;5;241m*\u001b[39margs, \u001b[38;5;241m*\u001b[39m\u001b[38;5;241m*\u001b[39mkwargs)\n\u001b[1;32m   1502\u001b[0m \u001b[38;5;66;03m# Do not call functions when jit is used\u001b[39;00m\n\u001b[1;32m   1503\u001b[0m full_backward_hooks, non_full_backward_hooks \u001b[38;5;241m=\u001b[39m [], []\n",
      "File \u001b[0;32m~/anaconda3/lib/python3.11/site-packages/torch/nn/modules/conv.py:463\u001b[0m, in \u001b[0;36mConv2d.forward\u001b[0;34m(self, input)\u001b[0m\n\u001b[1;32m    462\u001b[0m \u001b[38;5;28;01mdef\u001b[39;00m \u001b[38;5;21mforward\u001b[39m(\u001b[38;5;28mself\u001b[39m, \u001b[38;5;28minput\u001b[39m: Tensor) \u001b[38;5;241m-\u001b[39m\u001b[38;5;241m>\u001b[39m Tensor:\n\u001b[0;32m--> 463\u001b[0m     \u001b[38;5;28;01mreturn\u001b[39;00m \u001b[38;5;28mself\u001b[39m\u001b[38;5;241m.\u001b[39m_conv_forward(\u001b[38;5;28minput\u001b[39m, \u001b[38;5;28mself\u001b[39m\u001b[38;5;241m.\u001b[39mweight, \u001b[38;5;28mself\u001b[39m\u001b[38;5;241m.\u001b[39mbias)\n",
      "File \u001b[0;32m~/anaconda3/lib/python3.11/site-packages/torch/nn/modules/conv.py:459\u001b[0m, in \u001b[0;36mConv2d._conv_forward\u001b[0;34m(self, input, weight, bias)\u001b[0m\n\u001b[1;32m    455\u001b[0m \u001b[38;5;28;01mif\u001b[39;00m \u001b[38;5;28mself\u001b[39m\u001b[38;5;241m.\u001b[39mpadding_mode \u001b[38;5;241m!=\u001b[39m \u001b[38;5;124m'\u001b[39m\u001b[38;5;124mzeros\u001b[39m\u001b[38;5;124m'\u001b[39m:\n\u001b[1;32m    456\u001b[0m     \u001b[38;5;28;01mreturn\u001b[39;00m F\u001b[38;5;241m.\u001b[39mconv2d(F\u001b[38;5;241m.\u001b[39mpad(\u001b[38;5;28minput\u001b[39m, \u001b[38;5;28mself\u001b[39m\u001b[38;5;241m.\u001b[39m_reversed_padding_repeated_twice, mode\u001b[38;5;241m=\u001b[39m\u001b[38;5;28mself\u001b[39m\u001b[38;5;241m.\u001b[39mpadding_mode),\n\u001b[1;32m    457\u001b[0m                     weight, bias, \u001b[38;5;28mself\u001b[39m\u001b[38;5;241m.\u001b[39mstride,\n\u001b[1;32m    458\u001b[0m                     _pair(\u001b[38;5;241m0\u001b[39m), \u001b[38;5;28mself\u001b[39m\u001b[38;5;241m.\u001b[39mdilation, \u001b[38;5;28mself\u001b[39m\u001b[38;5;241m.\u001b[39mgroups)\n\u001b[0;32m--> 459\u001b[0m \u001b[38;5;28;01mreturn\u001b[39;00m F\u001b[38;5;241m.\u001b[39mconv2d(\u001b[38;5;28minput\u001b[39m, weight, bias, \u001b[38;5;28mself\u001b[39m\u001b[38;5;241m.\u001b[39mstride,\n\u001b[1;32m    460\u001b[0m                 \u001b[38;5;28mself\u001b[39m\u001b[38;5;241m.\u001b[39mpadding, \u001b[38;5;28mself\u001b[39m\u001b[38;5;241m.\u001b[39mdilation, \u001b[38;5;28mself\u001b[39m\u001b[38;5;241m.\u001b[39mgroups)\n",
      "\u001b[0;31mKeyboardInterrupt\u001b[0m: "
     ]
    }
   ],
   "source": [
    "from torch.utils.data import DataLoader, TensorDataset\n",
    "\n",
    "# Define a DataLoader for your training data\n",
    "train_dataset = TensorDataset(train_images, train_masks)\n",
    "train_loader = DataLoader(train_dataset, batch_size=batch_size, shuffle=True)\n",
    "\n",
    "# Define your model, optimizer, and criterion here\n",
    "\n",
    "for epoch in range(1, num_epochs + 1):\n",
    "\n",
    "    for batch_idx, (X, y) in enumerate(train_loader, 1):\n",
    "        # 1. Forward pass\n",
    "        y_pred = model(X)\n",
    "\n",
    "        # 2. Loss calculation\n",
    "        loss = criterion(y_pred, y)\n",
    "\n",
    "        # 3. Clear gradients\n",
    "        optimizer.zero_grad()\n",
    "\n",
    "        # 4. Backpropagation\n",
    "        loss.backward()\n",
    "\n",
    "        # 5. Gradient descent\n",
    "        optimizer.step()\n",
    "\n",
    "        if batch_idx % 5 == 0:\n",
    "            print(f\"Batch {batch_idx}, Loss: {loss.item()}\")\n",
    "    print(f\"epoch {epoch}, Loss: {loss.item()}\")"
   ]
  },
  {
   "cell_type": "code",
   "execution_count": 83,
   "id": "a8b847f8",
   "metadata": {},
   "outputs": [],
   "source": [
    "# import pickle\n",
    "# pickle.dump(model,open('model.pkl','wb'))"
   ]
  },
  {
   "cell_type": "code",
   "execution_count": 91,
   "id": "b31a06c5",
   "metadata": {},
   "outputs": [],
   "source": [
    "id = 25"
   ]
  },
  {
   "cell_type": "code",
   "execution_count": 123,
   "id": "56661cb7",
   "metadata": {},
   "outputs": [
    {
     "data": {
      "text/plain": [
       "tensor(0.0102, grad_fn=<MseLossBackward0>)"
      ]
     },
     "execution_count": 123,
     "metadata": {},
     "output_type": "execute_result"
    }
   ],
   "source": [
    "y_test = model(test_images[id].reshape(1,1,images.shape[2],images.shape[3]))\n",
    "criterion(y_test[0].reshape(1,1,images.shape[2],images.shape[3]), test_masks[id].reshape(1,1,images.shape[2],images.shape[3]))"
   ]
  },
  {
   "cell_type": "code",
   "execution_count": 114,
   "id": "623467d7",
   "metadata": {},
   "outputs": [
    {
     "data": {
      "text/plain": [
       "tensor(1014.6650)"
      ]
     },
     "execution_count": 114,
     "metadata": {},
     "output_type": "execute_result"
    }
   ],
   "source": [
    "np.square(test_masks[id]).sum()"
   ]
  },
  {
   "cell_type": "code",
   "execution_count": 115,
   "id": "573669a8",
   "metadata": {},
   "outputs": [
    {
     "data": {
      "text/plain": [
       "torch.Size([100, 1, 572, 572])"
      ]
     },
     "execution_count": 115,
     "metadata": {},
     "output_type": "execute_result"
    }
   ],
   "source": [
    "test_masks.shape"
   ]
  },
  {
   "cell_type": "code",
   "execution_count": 135,
   "id": "09aaafd4",
   "metadata": {},
   "outputs": [
    {
     "data": {
      "text/plain": [
       "(-0.5, 571.5, 571.5, -0.5)"
      ]
     },
     "execution_count": 135,
     "metadata": {},
     "output_type": "execute_result"
    },
    {
     "data": {
      "image/png": "[encoded data removed]",
      "text/plain": [
       "<Figure size 640x480 with 1 Axes>"
      ]
     },
     "metadata": {},
     "output_type": "display_data"
    }
   ],
   "source": [
    "plt.imshow(test_images[id][0],cmap = \"gray\")\n",
    "plt.axis('off')"
   ]
  },
  {
   "cell_type": "code",
   "execution_count": null,
   "id": "a2d72f87",
   "metadata": {},
   "outputs": [],
   "source": []
  },
  {
   "cell_type": "code",
   "execution_count": 136,
   "id": "aeca5e07",
   "metadata": {},
   "outputs": [
    {
     "data": {
      "text/plain": [
       "(-0.5, 571.5, 571.5, -0.5)"
      ]
     },
     "execution_count": 136,
     "metadata": {},
     "output_type": "execute_result"
    },
    {
     "data": {
      "image/png": "[encoded data removed]",
      "text/plain": [
       "<Figure size 640x480 with 1 Axes>"
      ]
     },
     "metadata": {},
     "output_type": "display_data"
    }
   ],
   "source": [
    "plt.imshow(test_masks[id][0],cmap = 'gray')\n",
    "plt.axis('off')"
   ]
  },
  {
   "cell_type": "code",
   "execution_count": 124,
   "id": "ee9b9fcc",
   "metadata": {},
   "outputs": [],
   "source": [
    "y_test = y_test[0][0].detach().numpy()"
   ]
  },
  {
   "cell_type": "code",
   "execution_count": 128,
   "id": "eac017a3",
   "metadata": {},
   "outputs": [],
   "source": [
    "im = Image.fromarray(y_test).convert('L')"
   ]
  },
  {
   "cell_type": "code",
   "execution_count": 126,
   "id": "49bad0af",
   "metadata": {},
   "outputs": [
    {
     "data": {
      "text/plain": [
       "array([0.0813358 , 0.08138304, 0.08160423, ..., 0.0926699 , 0.09268755,\n",
       "       0.09282559], dtype=float32)"
      ]
     },
     "execution_count": 126,
     "metadata": {},
     "output_type": "execute_result"
    }
   ],
   "source": [
    "np.unique(im)"
   ]
  },
  {
   "cell_type": "code",
   "execution_count": 1,
   "id": "b0971975",
   "metadata": {},
   "outputs": [
    {
     "ename": "NameError",
     "evalue": "name 'plt' is not defined",
     "output_type": "error",
     "traceback": [
      "\u001b[0;31m---------------------------------------------------------------------------\u001b[0m",
      "\u001b[0;31mNameError\u001b[0m                                 Traceback (most recent call last)",
      "Cell \u001b[0;32mIn[1], line 1\u001b[0m\n\u001b[0;32m----> 1\u001b[0m plt\u001b[38;5;241m.\u001b[39mimshow(y_test,cmap \u001b[38;5;241m=\u001b[39m \u001b[38;5;124m'\u001b[39m\u001b[38;5;124mgray\u001b[39m\u001b[38;5;124m'\u001b[39m)\n\u001b[1;32m      2\u001b[0m plt\u001b[38;5;241m.\u001b[39maxis(\u001b[38;5;124m'\u001b[39m\u001b[38;5;124moff\u001b[39m\u001b[38;5;124m'\u001b[39m)\n",
      "\u001b[0;31mNameError\u001b[0m: name 'plt' is not defined"
     ]
    }
   ],
   "source": [
    "plt.imshow(y_test,cmap = 'gray')\n",
    "plt.axis('off')"
   ]
  },
  {
   "cell_type": "code",
   "execution_count": null,
   "id": "3827fe7b",
   "metadata": {},
   "outputs": [],
   "source": []
  },
  {
   "cell_type": "code",
   "execution_count": null,
   "id": "2961943c",
   "metadata": {},
   "outputs": [],
   "source": []
  }
 ],
 "metadata": {
  "kernelspec": {
   "display_name": "Python 3 (ipykernel)",
   "language": "python",
   "name": "python3"
  },
  "language_info": {
   "codemirror_mode": {
    "name": "ipython",
    "version": 3
   },
   "file_extension": ".py",
   "mimetype": "text/x-python",
   "name": "python",
   "nbconvert_exporter": "python",
   "pygments_lexer": "ipython3",
   "version": "3.11.4"
  }
 },
 "nbformat": 4,
 "nbformat_minor": 5
}
