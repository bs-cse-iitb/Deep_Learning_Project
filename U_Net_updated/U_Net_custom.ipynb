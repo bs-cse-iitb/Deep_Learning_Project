{
 "cells": [
  {
   "cell_type": "code",
   "execution_count": 27,
   "id": "dde5fa05",
   "metadata": {},
   "outputs": [],
   "source": [
    "import torch\n",
    "import torch.nn as nn\n",
    "import torchvision.transforms.functional as TF"
   ]
  },
  {
   "cell_type": "code",
   "execution_count": 28,
   "id": "17836c01",
   "metadata": {},
   "outputs": [],
   "source": [
    "def double_conv(in_channels,out_channels):\n",
    "    conv = nn.Sequential(\n",
    "        nn.Conv2d(in_channels, out_channels, kernel_size=3, padding =1, bias ='False'),\n",
    "        #nn.BatchNorm2d(out_channels),\n",
    "        nn.ReLU(inplace=True),\n",
    "        nn.Conv2d(out_channels, out_channels, kernel_size=3, padding = 1, bias = 'False'),\n",
    "        #nn.BatchNorm2d(out_channels),\n",
    "        nn.ReLU(inplace=True))\n",
    "    return conv"
   ]
  },
  {
   "cell_type": "code",
   "execution_count": 30,
   "id": "e33cf9fb",
   "metadata": {},
   "outputs": [],
   "source": [
    "class UNet(nn.Module):\n",
    "    \n",
    "    def __init__(self, in_channels = 1, out_channels = 1):\n",
    "        super(UNet, self).__init__()\n",
    "        \n",
    "        self.max_pool = nn.MaxPool2d(kernel_size=2, stride=2)\n",
    "        \n",
    "        self.down_conv = double_conv(in_channels,64)\n",
    "        self.down_conv2 = double_conv(64,128)\n",
    "        self.down_conv3 = double_conv(128,256)\n",
    "        self.down_conv4 = double_conv(256,512)\n",
    "        self.down_conv5 = double_conv(512,1024)\n",
    "        \n",
    "        self.up_trans1 = nn.ConvTranspose2d(in_channels = 1024, out_channels = 512, kernel_size=2, stride=2)\n",
    "        self.up_conv1 = double_conv(1024,512)\n",
    "        \n",
    "        self.up_trans2 = nn.ConvTranspose2d(in_channels = 512, out_channels = 256, kernel_size=2, stride=2)\n",
    "        self.up_conv2 = double_conv(512,256)\n",
    "        \n",
    "        self.up_trans3 = nn.ConvTranspose2d(in_channels = 256, out_channels = 128, kernel_size=2, stride=2)\n",
    "        self.up_conv3 = double_conv(256,128)\n",
    "        \n",
    "        self.up_trans4 = nn.ConvTranspose2d(in_channels = 128, out_channels = 64, kernel_size=2, stride=2)\n",
    "        self.up_conv4 = double_conv(128,64)\n",
    "        \n",
    "        self.out = nn.Conv2d(64,out_channels, kernel_size=1)\n",
    "        \n",
    "    def forward(self, image):\n",
    "        # encoder\n",
    "        \n",
    "        x1_conv = self.down_conv(image)\n",
    "        x1_pool = self.max_pool(x1_conv)\n",
    "        \n",
    "        x2_conv = self.down_conv2(x1_pool)\n",
    "        x2_pool = self.max_pool(x2_conv)\n",
    "        \n",
    "        x3_conv = self.down_conv3(x2_pool)\n",
    "        x3_pool = self.max_pool(x3_conv)\n",
    "        \n",
    "        x4_conv = self.down_conv4(x3_pool)\n",
    "        x4_pool = self.max_pool(x4_conv)\n",
    "        \n",
    "        x5_conv = self.down_conv5(x4_pool)\n",
    "        \n",
    "        # Decoder\n",
    "        x = self.up_trans1(x5_conv)\n",
    "        x = TF.resize(x, size=x4_conv.shape[2:])\n",
    "        x = torch.concat((x4_conv,x),axis =1)\n",
    "        x  = self.up_conv1(x)\n",
    "        \n",
    "        x = self.up_trans2(x)\n",
    "        x = TF.resize(x, size=x3_conv.shape[2:])\n",
    "        x = torch.concat((x3_conv,x),axis =1)\n",
    "        x  = self.up_conv2(x)\n",
    "        \n",
    "        x = self.up_trans3(x)\n",
    "        x = TF.resize(x, size=x2_conv.shape[2:])\n",
    "        x = torch.concat((x2_conv,x),axis =1)\n",
    "        x  = self.up_conv3(x)\n",
    "        \n",
    "        x = self.up_trans4(x)\n",
    "        x = TF.resize(x, size=x1_conv.shape[2:])\n",
    "        x = torch.concat((x1_conv,x),axis =1)\n",
    "        x  = self.up_conv4(x)\n",
    "        \n",
    "        x = self.out(x)\n",
    "        return x\n",
    "        "
   ]
  },
  {
   "cell_type": "code",
   "execution_count": 31,
   "id": "a859eca5",
   "metadata": {},
   "outputs": [],
   "source": [
    "def test():    \n",
    "    model = UNet()  \n",
    "    image = torch.randn(1, 1, 572, 572)\n",
    "    print(f\"Input shape: {image.shape}\")\n",
    "    output = model(image)\n",
    "    print(\"Output shape:\", output.shape)"
   ]
  },
  {
   "cell_type": "code",
   "execution_count": 32,
   "id": "e94caf7d",
   "metadata": {},
   "outputs": [
    {
     "name": "stdout",
     "output_type": "stream",
     "text": [
      "Input shape: torch.Size([1, 1, 572, 572])\n",
      "Output shape: torch.Size([1, 1, 572, 572])\n"
     ]
    }
   ],
   "source": [
    "if __name__ == \"__main__\":\n",
    "    test()"
   ]
  },
  {
   "cell_type": "code",
   "execution_count": null,
   "id": "c9898351",
   "metadata": {},
   "outputs": [],
   "source": []
  }
 ],
 "metadata": {
  "kernelspec": {
   "display_name": "Python 3 (ipykernel)",
   "language": "python",
   "name": "python3"
  },
  "language_info": {
   "codemirror_mode": {
    "name": "ipython",
    "version": 3
   },
   "file_extension": ".py",
   "mimetype": "text/x-python",
   "name": "python",
   "nbconvert_exporter": "python",
   "pygments_lexer": "ipython3",
   "version": "3.11.4"
  }
 },
 "nbformat": 4,
 "nbformat_minor": 5
}
